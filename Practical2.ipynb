{
  "nbformat": 4,
  "nbformat_minor": 5,
  "metadata": {
    "colab": {
      "name": "Copy of practical-two.ipynb",
      "provenance": []
    },
    "language_info": {
      "name": "python"
    },
    "kernelspec": {
      "name": "python3",
      "display_name": "Python 3"
    },
    "widgets": {
      "application/vnd.jupyter.widget-state+json": {
        "aaa7f7da3e9b4682a5e0f1cdf6ab38fb": {
          "model_module": "@jupyter-widgets/controls",
          "model_name": "VBoxModel",
          "model_module_version": "1.5.0",
          "state": {
            "_view_name": "VBoxView",
            "_dom_classes": [
              "widget-interact"
            ],
            "_model_name": "VBoxModel",
            "_view_module": "@jupyter-widgets/controls",
            "_model_module_version": "1.5.0",
            "_view_count": null,
            "_view_module_version": "1.5.0",
            "box_style": "",
            "layout": "IPY_MODEL_b619b6c4731c4f6096dbf71ebd144716",
            "_model_module": "@jupyter-widgets/controls",
            "children": [
              "IPY_MODEL_e14e4cfeea06408e8ae12471812568d2",
              "IPY_MODEL_f5ca627c21f1459d98888a2fa49d7522"
            ]
          }
        },
        "b619b6c4731c4f6096dbf71ebd144716": {
          "model_module": "@jupyter-widgets/base",
          "model_name": "LayoutModel",
          "model_module_version": "1.2.0",
          "state": {
            "_view_name": "LayoutView",
            "grid_template_rows": null,
            "right": null,
            "justify_content": null,
            "_view_module": "@jupyter-widgets/base",
            "overflow": null,
            "_model_module_version": "1.2.0",
            "_view_count": null,
            "flex_flow": null,
            "width": null,
            "min_width": null,
            "border": null,
            "align_items": null,
            "bottom": null,
            "_model_module": "@jupyter-widgets/base",
            "top": null,
            "grid_column": null,
            "overflow_y": null,
            "overflow_x": null,
            "grid_auto_flow": null,
            "grid_area": null,
            "grid_template_columns": null,
            "flex": null,
            "_model_name": "LayoutModel",
            "justify_items": null,
            "grid_row": null,
            "max_height": null,
            "align_content": null,
            "visibility": null,
            "align_self": null,
            "height": null,
            "min_height": null,
            "padding": null,
            "grid_auto_rows": null,
            "grid_gap": null,
            "max_width": null,
            "order": null,
            "_view_module_version": "1.2.0",
            "grid_template_areas": null,
            "object_position": null,
            "object_fit": null,
            "grid_auto_columns": null,
            "margin": null,
            "display": null,
            "left": null
          }
        },
        "e14e4cfeea06408e8ae12471812568d2": {
          "model_module": "@jupyter-widgets/controls",
          "model_name": "DropdownModel",
          "model_module_version": "1.5.0",
          "state": {
            "_options_labels": [
              "all",
              "a",
              "b",
              "c",
              "d"
            ],
            "_view_name": "DropdownView",
            "style": "IPY_MODEL_82e97556e4f547f4ab2d9d7918048349",
            "_dom_classes": [],
            "description": "item",
            "_model_name": "DropdownModel",
            "index": 0,
            "_view_module": "@jupyter-widgets/controls",
            "_model_module_version": "1.5.0",
            "_view_count": null,
            "disabled": false,
            "_view_module_version": "1.5.0",
            "description_tooltip": null,
            "_model_module": "@jupyter-widgets/controls",
            "layout": "IPY_MODEL_76cd8b26627144b88036fb705cc1e751"
          }
        },
        "f5ca627c21f1459d98888a2fa49d7522": {
          "model_module": "@jupyter-widgets/output",
          "model_name": "OutputModel",
          "model_module_version": "1.0.0",
          "state": {
            "_view_name": "OutputView",
            "msg_id": "",
            "_dom_classes": [],
            "_model_name": "OutputModel",
            "outputs": [
              {
                "output_type": "display_data",
                "data": {
                  "text/html": "<div>\n<style scoped>\n    .dataframe tbody tr th:only-of-type {\n        vertical-align: middle;\n    }\n\n    .dataframe tbody tr th {\n        vertical-align: top;\n    }\n\n    .dataframe thead th {\n        text-align: right;\n    }\n</style>\n<table border=\"1\" class=\"dataframe\">\n  <thead>\n    <tr style=\"text-align: right;\">\n      <th></th>\n      <th>x</th>\n      <th>y</th>\n      <th>z</th>\n    </tr>\n  </thead>\n  <tbody>\n    <tr>\n      <th>0</th>\n      <td>34.531492</td>\n      <td>288.880280</td>\n      <td>a</td>\n    </tr>\n    <tr>\n      <th>1</th>\n      <td>46.981974</td>\n      <td>270.797156</td>\n      <td>a</td>\n    </tr>\n    <tr>\n      <th>2</th>\n      <td>118.076621</td>\n      <td>295.165141</td>\n      <td>a</td>\n    </tr>\n    <tr>\n      <th>3</th>\n      <td>139.909486</td>\n      <td>340.054743</td>\n      <td>a</td>\n    </tr>\n    <tr>\n      <th>4</th>\n      <td>178.326425</td>\n      <td>319.000314</td>\n      <td>a</td>\n    </tr>\n    <tr>\n      <th>...</th>\n      <td>...</td>\n      <td>...</td>\n      <td>...</td>\n    </tr>\n    <tr>\n      <th>117</th>\n      <td>494.222559</td>\n      <td>37.252279</td>\n      <td>d</td>\n    </tr>\n    <tr>\n      <th>118</th>\n      <td>493.981638</td>\n      <td>49.023315</td>\n      <td>d</td>\n    </tr>\n    <tr>\n      <th>119</th>\n      <td>520.851188</td>\n      <td>25.898478</td>\n      <td>d</td>\n    </tr>\n    <tr>\n      <th>120</th>\n      <td>504.417783</td>\n      <td>28.119786</td>\n      <td>d</td>\n    </tr>\n    <tr>\n      <th>121</th>\n      <td>525.417957</td>\n      <td>25.101183</td>\n      <td>d</td>\n    </tr>\n  </tbody>\n</table>\n<p>122 rows × 3 columns</p>\n</div>",
                  "text/plain": "              x           y  z\n0     34.531492  288.880280  a\n1     46.981974  270.797156  a\n2    118.076621  295.165141  a\n3    139.909486  340.054743  a\n4    178.326425  319.000314  a\n..          ...         ... ..\n117  494.222559   37.252279  d\n118  493.981638   49.023315  d\n119  520.851188   25.898478  d\n120  504.417783   28.119786  d\n121  525.417957   25.101183  d\n\n[122 rows x 3 columns]"
                },
                "metadata": {}
              },
              {
                "output_type": "display_data",
                "data": {
                  "text/html": "<div>\n<style scoped>\n    .dataframe tbody tr th:only-of-type {\n        vertical-align: middle;\n    }\n\n    .dataframe tbody tr th {\n        vertical-align: top;\n    }\n\n    .dataframe thead th {\n        text-align: right;\n    }\n</style>\n<table border=\"1\" class=\"dataframe\">\n  <thead>\n    <tr style=\"text-align: right;\">\n      <th></th>\n      <th>x</th>\n      <th>y</th>\n      <th>z</th>\n    </tr>\n  </thead>\n  <tbody>\n  </tbody>\n</table>\n</div>",
                  "text/plain": "Empty DataFrame\nColumns: [x, y, z]\nIndex: []"
                },
                "metadata": {}
              }
            ],
            "_view_module": "@jupyter-widgets/output",
            "_model_module_version": "1.0.0",
            "_view_count": null,
            "_view_module_version": "1.0.0",
            "layout": "IPY_MODEL_6f8de88782ac4a14a96abc3fc49b530f",
            "_model_module": "@jupyter-widgets/output"
          }
        },
        "82e97556e4f547f4ab2d9d7918048349": {
          "model_module": "@jupyter-widgets/controls",
          "model_name": "DescriptionStyleModel",
          "model_module_version": "1.5.0",
          "state": {
            "_view_name": "StyleView",
            "_model_name": "DescriptionStyleModel",
            "description_width": "",
            "_view_module": "@jupyter-widgets/base",
            "_model_module_version": "1.5.0",
            "_view_count": null,
            "_view_module_version": "1.2.0",
            "_model_module": "@jupyter-widgets/controls"
          }
        },
        "76cd8b26627144b88036fb705cc1e751": {
          "model_module": "@jupyter-widgets/base",
          "model_name": "LayoutModel",
          "model_module_version": "1.2.0",
          "state": {
            "_view_name": "LayoutView",
            "grid_template_rows": null,
            "right": null,
            "justify_content": null,
            "_view_module": "@jupyter-widgets/base",
            "overflow": null,
            "_model_module_version": "1.2.0",
            "_view_count": null,
            "flex_flow": null,
            "width": null,
            "min_width": null,
            "border": null,
            "align_items": null,
            "bottom": null,
            "_model_module": "@jupyter-widgets/base",
            "top": null,
            "grid_column": null,
            "overflow_y": null,
            "overflow_x": null,
            "grid_auto_flow": null,
            "grid_area": null,
            "grid_template_columns": null,
            "flex": null,
            "_model_name": "LayoutModel",
            "justify_items": null,
            "grid_row": null,
            "max_height": null,
            "align_content": null,
            "visibility": null,
            "align_self": null,
            "height": null,
            "min_height": null,
            "padding": null,
            "grid_auto_rows": null,
            "grid_gap": null,
            "max_width": null,
            "order": null,
            "_view_module_version": "1.2.0",
            "grid_template_areas": null,
            "object_position": null,
            "object_fit": null,
            "grid_auto_columns": null,
            "margin": null,
            "display": null,
            "left": null
          }
        },
        "6f8de88782ac4a14a96abc3fc49b530f": {
          "model_module": "@jupyter-widgets/base",
          "model_name": "LayoutModel",
          "model_module_version": "1.2.0",
          "state": {
            "_view_name": "LayoutView",
            "grid_template_rows": null,
            "right": null,
            "justify_content": null,
            "_view_module": "@jupyter-widgets/base",
            "overflow": null,
            "_model_module_version": "1.2.0",
            "_view_count": null,
            "flex_flow": null,
            "width": null,
            "min_width": null,
            "border": null,
            "align_items": null,
            "bottom": null,
            "_model_module": "@jupyter-widgets/base",
            "top": null,
            "grid_column": null,
            "overflow_y": null,
            "overflow_x": null,
            "grid_auto_flow": null,
            "grid_area": null,
            "grid_template_columns": null,
            "flex": null,
            "_model_name": "LayoutModel",
            "justify_items": null,
            "grid_row": null,
            "max_height": null,
            "align_content": null,
            "visibility": null,
            "align_self": null,
            "height": null,
            "min_height": null,
            "padding": null,
            "grid_auto_rows": null,
            "grid_gap": null,
            "max_width": null,
            "order": null,
            "_view_module_version": "1.2.0",
            "grid_template_areas": null,
            "object_position": null,
            "object_fit": null,
            "grid_auto_columns": null,
            "margin": null,
            "display": null,
            "left": null
          }
        },
        "a95c7916a4924c5aba7693cc7aab8a36": {
          "model_module": "@jupyter-widgets/controls",
          "model_name": "VBoxModel",
          "model_module_version": "1.5.0",
          "state": {
            "_view_name": "VBoxView",
            "_dom_classes": [
              "widget-interact"
            ],
            "_model_name": "VBoxModel",
            "_view_module": "@jupyter-widgets/controls",
            "_model_module_version": "1.5.0",
            "_view_count": null,
            "_view_module_version": "1.5.0",
            "box_style": "",
            "layout": "IPY_MODEL_266821df67614b0b938c955eb322059f",
            "_model_module": "@jupyter-widgets/controls",
            "children": [
              "IPY_MODEL_b7f10fdd1c374062ae75b1a6abc66bd8",
              "IPY_MODEL_7b9b4383db0c444f824d806257bde032",
              "IPY_MODEL_5453957d44fd430fb2a688c904dcaa30"
            ]
          }
        },
        "266821df67614b0b938c955eb322059f": {
          "model_module": "@jupyter-widgets/base",
          "model_name": "LayoutModel",
          "model_module_version": "1.2.0",
          "state": {
            "_view_name": "LayoutView",
            "grid_template_rows": null,
            "right": null,
            "justify_content": null,
            "_view_module": "@jupyter-widgets/base",
            "overflow": null,
            "_model_module_version": "1.2.0",
            "_view_count": null,
            "flex_flow": null,
            "width": null,
            "min_width": null,
            "border": null,
            "align_items": null,
            "bottom": null,
            "_model_module": "@jupyter-widgets/base",
            "top": null,
            "grid_column": null,
            "overflow_y": null,
            "overflow_x": null,
            "grid_auto_flow": null,
            "grid_area": null,
            "grid_template_columns": null,
            "flex": null,
            "_model_name": "LayoutModel",
            "justify_items": null,
            "grid_row": null,
            "max_height": null,
            "align_content": null,
            "visibility": null,
            "align_self": null,
            "height": null,
            "min_height": null,
            "padding": null,
            "grid_auto_rows": null,
            "grid_gap": null,
            "max_width": null,
            "order": null,
            "_view_module_version": "1.2.0",
            "grid_template_areas": null,
            "object_position": null,
            "object_fit": null,
            "grid_auto_columns": null,
            "margin": null,
            "display": null,
            "left": null
          }
        },
        "b7f10fdd1c374062ae75b1a6abc66bd8": {
          "model_module": "@jupyter-widgets/controls",
          "model_name": "SelectModel",
          "model_module_version": "1.5.0",
          "state": {
            "_options_labels": [
              "all",
              "a",
              "b",
              "c",
              "d"
            ],
            "_view_name": "SelectView",
            "style": "IPY_MODEL_40c0da25d500435e91b6e25338b05593",
            "rows": 5,
            "_dom_classes": [],
            "description": "item",
            "_model_name": "SelectModel",
            "index": 0,
            "_view_module": "@jupyter-widgets/controls",
            "_model_module_version": "1.5.0",
            "_view_count": null,
            "disabled": false,
            "_view_module_version": "1.5.0",
            "description_tooltip": null,
            "_model_module": "@jupyter-widgets/controls",
            "layout": "IPY_MODEL_38eab61b08be4360845dca3610493ddd"
          }
        },
        "7b9b4383db0c444f824d806257bde032": {
          "model_module": "@jupyter-widgets/controls",
          "model_name": "IntSliderModel",
          "model_module_version": "1.5.0",
          "state": {
            "_view_name": "IntSliderView",
            "style": "IPY_MODEL_dd2c3a4c93a14cf3937bd546b2828d01",
            "_dom_classes": [],
            "description": "number",
            "step": 1,
            "_model_name": "IntSliderModel",
            "orientation": "horizontal",
            "max": 15,
            "_view_module": "@jupyter-widgets/controls",
            "_model_module_version": "1.5.0",
            "value": 5,
            "_view_count": null,
            "disabled": false,
            "_view_module_version": "1.5.0",
            "min": 0,
            "continuous_update": true,
            "readout_format": "d",
            "description_tooltip": null,
            "readout": true,
            "_model_module": "@jupyter-widgets/controls",
            "layout": "IPY_MODEL_1d0f75cda53547448afb268b59968b96"
          }
        },
        "5453957d44fd430fb2a688c904dcaa30": {
          "model_module": "@jupyter-widgets/output",
          "model_name": "OutputModel",
          "model_module_version": "1.0.0",
          "state": {
            "_view_name": "OutputView",
            "msg_id": "",
            "_dom_classes": [],
            "_model_name": "OutputModel",
            "outputs": [
              {
                "output_type": "display_data",
                "data": {
                  "text/html": "<div>\n<style scoped>\n    .dataframe tbody tr th:only-of-type {\n        vertical-align: middle;\n    }\n\n    .dataframe tbody tr th {\n        vertical-align: top;\n    }\n\n    .dataframe thead th {\n        text-align: right;\n    }\n</style>\n<table border=\"1\" class=\"dataframe\">\n  <thead>\n    <tr style=\"text-align: right;\">\n      <th></th>\n      <th>x</th>\n      <th>y</th>\n      <th>z</th>\n    </tr>\n  </thead>\n  <tbody>\n    <tr>\n      <th>0</th>\n      <td>34.531492</td>\n      <td>288.880280</td>\n      <td>a</td>\n    </tr>\n    <tr>\n      <th>1</th>\n      <td>46.981974</td>\n      <td>270.797156</td>\n      <td>a</td>\n    </tr>\n    <tr>\n      <th>2</th>\n      <td>118.076621</td>\n      <td>295.165141</td>\n      <td>a</td>\n    </tr>\n    <tr>\n      <th>3</th>\n      <td>139.909486</td>\n      <td>340.054743</td>\n      <td>a</td>\n    </tr>\n    <tr>\n      <th>4</th>\n      <td>178.326425</td>\n      <td>319.000314</td>\n      <td>a</td>\n    </tr>\n  </tbody>\n</table>\n</div>",
                  "text/plain": "            x           y  z\n0   34.531492  288.880280  a\n1   46.981974  270.797156  a\n2  118.076621  295.165141  a\n3  139.909486  340.054743  a\n4  178.326425  319.000314  a"
                },
                "metadata": {}
              },
              {
                "output_type": "display_data",
                "data": {
                  "text/html": "<div>\n<style scoped>\n    .dataframe tbody tr th:only-of-type {\n        vertical-align: middle;\n    }\n\n    .dataframe tbody tr th {\n        vertical-align: top;\n    }\n\n    .dataframe thead th {\n        text-align: right;\n    }\n</style>\n<table border=\"1\" class=\"dataframe\">\n  <thead>\n    <tr style=\"text-align: right;\">\n      <th></th>\n      <th>x</th>\n      <th>y</th>\n      <th>z</th>\n    </tr>\n  </thead>\n  <tbody>\n  </tbody>\n</table>\n</div>",
                  "text/plain": "Empty DataFrame\nColumns: [x, y, z]\nIndex: []"
                },
                "metadata": {}
              }
            ],
            "_view_module": "@jupyter-widgets/output",
            "_model_module_version": "1.0.0",
            "_view_count": null,
            "_view_module_version": "1.0.0",
            "layout": "IPY_MODEL_6e5f1a6ad505477b92c3985cc1749ea6",
            "_model_module": "@jupyter-widgets/output"
          }
        },
        "40c0da25d500435e91b6e25338b05593": {
          "model_module": "@jupyter-widgets/controls",
          "model_name": "DescriptionStyleModel",
          "model_module_version": "1.5.0",
          "state": {
            "_view_name": "StyleView",
            "_model_name": "DescriptionStyleModel",
            "description_width": "",
            "_view_module": "@jupyter-widgets/base",
            "_model_module_version": "1.5.0",
            "_view_count": null,
            "_view_module_version": "1.2.0",
            "_model_module": "@jupyter-widgets/controls"
          }
        },
        "38eab61b08be4360845dca3610493ddd": {
          "model_module": "@jupyter-widgets/base",
          "model_name": "LayoutModel",
          "model_module_version": "1.2.0",
          "state": {
            "_view_name": "LayoutView",
            "grid_template_rows": null,
            "right": null,
            "justify_content": null,
            "_view_module": "@jupyter-widgets/base",
            "overflow": null,
            "_model_module_version": "1.2.0",
            "_view_count": null,
            "flex_flow": null,
            "width": null,
            "min_width": null,
            "border": null,
            "align_items": null,
            "bottom": null,
            "_model_module": "@jupyter-widgets/base",
            "top": null,
            "grid_column": null,
            "overflow_y": null,
            "overflow_x": null,
            "grid_auto_flow": null,
            "grid_area": null,
            "grid_template_columns": null,
            "flex": null,
            "_model_name": "LayoutModel",
            "justify_items": null,
            "grid_row": null,
            "max_height": null,
            "align_content": null,
            "visibility": null,
            "align_self": null,
            "height": null,
            "min_height": null,
            "padding": null,
            "grid_auto_rows": null,
            "grid_gap": null,
            "max_width": null,
            "order": null,
            "_view_module_version": "1.2.0",
            "grid_template_areas": null,
            "object_position": null,
            "object_fit": null,
            "grid_auto_columns": null,
            "margin": null,
            "display": null,
            "left": null
          }
        },
        "dd2c3a4c93a14cf3937bd546b2828d01": {
          "model_module": "@jupyter-widgets/controls",
          "model_name": "SliderStyleModel",
          "model_module_version": "1.5.0",
          "state": {
            "_view_name": "StyleView",
            "handle_color": null,
            "_model_name": "SliderStyleModel",
            "description_width": "",
            "_view_module": "@jupyter-widgets/base",
            "_model_module_version": "1.5.0",
            "_view_count": null,
            "_view_module_version": "1.2.0",
            "_model_module": "@jupyter-widgets/controls"
          }
        },
        "1d0f75cda53547448afb268b59968b96": {
          "model_module": "@jupyter-widgets/base",
          "model_name": "LayoutModel",
          "model_module_version": "1.2.0",
          "state": {
            "_view_name": "LayoutView",
            "grid_template_rows": null,
            "right": null,
            "justify_content": null,
            "_view_module": "@jupyter-widgets/base",
            "overflow": null,
            "_model_module_version": "1.2.0",
            "_view_count": null,
            "flex_flow": null,
            "width": null,
            "min_width": null,
            "border": null,
            "align_items": null,
            "bottom": null,
            "_model_module": "@jupyter-widgets/base",
            "top": null,
            "grid_column": null,
            "overflow_y": null,
            "overflow_x": null,
            "grid_auto_flow": null,
            "grid_area": null,
            "grid_template_columns": null,
            "flex": null,
            "_model_name": "LayoutModel",
            "justify_items": null,
            "grid_row": null,
            "max_height": null,
            "align_content": null,
            "visibility": null,
            "align_self": null,
            "height": null,
            "min_height": null,
            "padding": null,
            "grid_auto_rows": null,
            "grid_gap": null,
            "max_width": null,
            "order": null,
            "_view_module_version": "1.2.0",
            "grid_template_areas": null,
            "object_position": null,
            "object_fit": null,
            "grid_auto_columns": null,
            "margin": null,
            "display": null,
            "left": null
          }
        },
        "6e5f1a6ad505477b92c3985cc1749ea6": {
          "model_module": "@jupyter-widgets/base",
          "model_name": "LayoutModel",
          "model_module_version": "1.2.0",
          "state": {
            "_view_name": "LayoutView",
            "grid_template_rows": null,
            "right": null,
            "justify_content": null,
            "_view_module": "@jupyter-widgets/base",
            "overflow": null,
            "_model_module_version": "1.2.0",
            "_view_count": null,
            "flex_flow": null,
            "width": null,
            "min_width": null,
            "border": null,
            "align_items": null,
            "bottom": null,
            "_model_module": "@jupyter-widgets/base",
            "top": null,
            "grid_column": null,
            "overflow_y": null,
            "overflow_x": null,
            "grid_auto_flow": null,
            "grid_area": null,
            "grid_template_columns": null,
            "flex": null,
            "_model_name": "LayoutModel",
            "justify_items": null,
            "grid_row": null,
            "max_height": null,
            "align_content": null,
            "visibility": null,
            "align_self": null,
            "height": null,
            "min_height": null,
            "padding": null,
            "grid_auto_rows": null,
            "grid_gap": null,
            "max_width": null,
            "order": null,
            "_view_module_version": "1.2.0",
            "grid_template_areas": null,
            "object_position": null,
            "object_fit": null,
            "grid_auto_columns": null,
            "margin": null,
            "display": null,
            "left": null
          }
        },
        "2f9faebf23ea4c458d9bf58a584a9b7a": {
          "model_module": "@jupyter-widgets/controls",
          "model_name": "VBoxModel",
          "model_module_version": "1.5.0",
          "state": {
            "_view_name": "VBoxView",
            "_dom_classes": [
              "widget-interact"
            ],
            "_model_name": "VBoxModel",
            "_view_module": "@jupyter-widgets/controls",
            "_model_module_version": "1.5.0",
            "_view_count": null,
            "_view_module_version": "1.5.0",
            "box_style": "",
            "layout": "IPY_MODEL_085599f9aed44f37bf1f4c55358891c4",
            "_model_module": "@jupyter-widgets/controls",
            "children": [
              "IPY_MODEL_86d13f831e6649b4acbd71c5e40eba48",
              "IPY_MODEL_e4ba2df40083408fbc890b112d133bf7",
              "IPY_MODEL_ff0797be93134d3f9bde4063d14aec56"
            ]
          }
        },
        "085599f9aed44f37bf1f4c55358891c4": {
          "model_module": "@jupyter-widgets/base",
          "model_name": "LayoutModel",
          "model_module_version": "1.2.0",
          "state": {
            "_view_name": "LayoutView",
            "grid_template_rows": null,
            "right": null,
            "justify_content": null,
            "_view_module": "@jupyter-widgets/base",
            "overflow": null,
            "_model_module_version": "1.2.0",
            "_view_count": null,
            "flex_flow": null,
            "width": null,
            "min_width": null,
            "border": null,
            "align_items": null,
            "bottom": null,
            "_model_module": "@jupyter-widgets/base",
            "top": null,
            "grid_column": null,
            "overflow_y": null,
            "overflow_x": null,
            "grid_auto_flow": null,
            "grid_area": null,
            "grid_template_columns": null,
            "flex": null,
            "_model_name": "LayoutModel",
            "justify_items": null,
            "grid_row": null,
            "max_height": null,
            "align_content": null,
            "visibility": null,
            "align_self": null,
            "height": null,
            "min_height": null,
            "padding": null,
            "grid_auto_rows": null,
            "grid_gap": null,
            "max_width": null,
            "order": null,
            "_view_module_version": "1.2.0",
            "grid_template_areas": null,
            "object_position": null,
            "object_fit": null,
            "grid_auto_columns": null,
            "margin": null,
            "display": null,
            "left": null
          }
        },
        "86d13f831e6649b4acbd71c5e40eba48": {
          "model_module": "@jupyter-widgets/controls",
          "model_name": "SelectModel",
          "model_module_version": "1.5.0",
          "state": {
            "_options_labels": [
              "x",
              "y"
            ],
            "_view_name": "SelectView",
            "style": "IPY_MODEL_d87297588936490c81be0f0b7ebd9d4e",
            "rows": 5,
            "_dom_classes": [],
            "description": "axis",
            "_model_name": "SelectModel",
            "index": 0,
            "_view_module": "@jupyter-widgets/controls",
            "_model_module_version": "1.5.0",
            "_view_count": null,
            "disabled": false,
            "_view_module_version": "1.5.0",
            "description_tooltip": null,
            "_model_module": "@jupyter-widgets/controls",
            "layout": "IPY_MODEL_c6f208c1ef964afeb796efc04d6d8023"
          }
        },
        "e4ba2df40083408fbc890b112d133bf7": {
          "model_module": "@jupyter-widgets/controls",
          "model_name": "IntSliderModel",
          "model_module_version": "1.5.0",
          "state": {
            "_view_name": "IntSliderView",
            "style": "IPY_MODEL_607895d10e8b490299a0e7c4d952d827",
            "_dom_classes": [],
            "description": "maximum_value",
            "step": 1,
            "_model_name": "IntSliderModel",
            "orientation": "horizontal",
            "max": 1000,
            "_view_module": "@jupyter-widgets/controls",
            "_model_module_version": "1.5.0",
            "value": 500,
            "_view_count": null,
            "disabled": false,
            "_view_module_version": "1.5.0",
            "min": 0,
            "continuous_update": true,
            "readout_format": "d",
            "description_tooltip": null,
            "readout": true,
            "_model_module": "@jupyter-widgets/controls",
            "layout": "IPY_MODEL_05ec4ed56c794785a079bf9e28864b95"
          }
        },
        "ff0797be93134d3f9bde4063d14aec56": {
          "model_module": "@jupyter-widgets/output",
          "model_name": "OutputModel",
          "model_module_version": "1.0.0",
          "state": {
            "_view_name": "OutputView",
            "msg_id": "",
            "_dom_classes": [],
            "_model_name": "OutputModel",
            "outputs": [
              {
                "output_type": "display_data",
                "data": {
                  "text/html": "<div>\n<style scoped>\n    .dataframe tbody tr th:only-of-type {\n        vertical-align: middle;\n    }\n\n    .dataframe tbody tr th {\n        vertical-align: top;\n    }\n\n    .dataframe thead th {\n        text-align: right;\n    }\n</style>\n<table border=\"1\" class=\"dataframe\">\n  <thead>\n    <tr style=\"text-align: right;\">\n      <th></th>\n      <th>x</th>\n      <th>y</th>\n      <th>z</th>\n    </tr>\n  </thead>\n  <tbody>\n    <tr>\n      <th>0</th>\n      <td>34.531492</td>\n      <td>288.880280</td>\n      <td>a</td>\n    </tr>\n    <tr>\n      <th>1</th>\n      <td>46.981974</td>\n      <td>270.797156</td>\n      <td>a</td>\n    </tr>\n    <tr>\n      <th>2</th>\n      <td>118.076621</td>\n      <td>295.165141</td>\n      <td>a</td>\n    </tr>\n    <tr>\n      <th>3</th>\n      <td>139.909486</td>\n      <td>340.054743</td>\n      <td>a</td>\n    </tr>\n    <tr>\n      <th>4</th>\n      <td>178.326425</td>\n      <td>319.000314</td>\n      <td>a</td>\n    </tr>\n    <tr>\n      <th>...</th>\n      <td>...</td>\n      <td>...</td>\n      <td>...</td>\n    </tr>\n    <tr>\n      <th>89</th>\n      <td>370.712492</td>\n      <td>119.297559</td>\n      <td>c</td>\n    </tr>\n    <tr>\n      <th>90</th>\n      <td>359.990483</td>\n      <td>134.978607</td>\n      <td>c</td>\n    </tr>\n    <tr>\n      <th>91</th>\n      <td>392.848935</td>\n      <td>164.380801</td>\n      <td>c</td>\n    </tr>\n    <tr>\n      <th>117</th>\n      <td>494.222559</td>\n      <td>37.252279</td>\n      <td>d</td>\n    </tr>\n    <tr>\n      <th>118</th>\n      <td>493.981638</td>\n      <td>49.023315</td>\n      <td>d</td>\n    </tr>\n  </tbody>\n</table>\n<p>89 rows × 3 columns</p>\n</div>",
                  "text/plain": "              x           y  z\n0     34.531492  288.880280  a\n1     46.981974  270.797156  a\n2    118.076621  295.165141  a\n3    139.909486  340.054743  a\n4    178.326425  319.000314  a\n..          ...         ... ..\n89   370.712492  119.297559  c\n90   359.990483  134.978607  c\n91   392.848935  164.380801  c\n117  494.222559   37.252279  d\n118  493.981638   49.023315  d\n\n[89 rows x 3 columns]"
                },
                "metadata": {}
              }
            ],
            "_view_module": "@jupyter-widgets/output",
            "_model_module_version": "1.0.0",
            "_view_count": null,
            "_view_module_version": "1.0.0",
            "layout": "IPY_MODEL_ba3329eee1364107ba7b26d5d6387967",
            "_model_module": "@jupyter-widgets/output"
          }
        },
        "d87297588936490c81be0f0b7ebd9d4e": {
          "model_module": "@jupyter-widgets/controls",
          "model_name": "DescriptionStyleModel",
          "model_module_version": "1.5.0",
          "state": {
            "_view_name": "StyleView",
            "_model_name": "DescriptionStyleModel",
            "description_width": "",
            "_view_module": "@jupyter-widgets/base",
            "_model_module_version": "1.5.0",
            "_view_count": null,
            "_view_module_version": "1.2.0",
            "_model_module": "@jupyter-widgets/controls"
          }
        },
        "c6f208c1ef964afeb796efc04d6d8023": {
          "model_module": "@jupyter-widgets/base",
          "model_name": "LayoutModel",
          "model_module_version": "1.2.0",
          "state": {
            "_view_name": "LayoutView",
            "grid_template_rows": null,
            "right": null,
            "justify_content": null,
            "_view_module": "@jupyter-widgets/base",
            "overflow": null,
            "_model_module_version": "1.2.0",
            "_view_count": null,
            "flex_flow": null,
            "width": null,
            "min_width": null,
            "border": null,
            "align_items": null,
            "bottom": null,
            "_model_module": "@jupyter-widgets/base",
            "top": null,
            "grid_column": null,
            "overflow_y": null,
            "overflow_x": null,
            "grid_auto_flow": null,
            "grid_area": null,
            "grid_template_columns": null,
            "flex": null,
            "_model_name": "LayoutModel",
            "justify_items": null,
            "grid_row": null,
            "max_height": null,
            "align_content": null,
            "visibility": null,
            "align_self": null,
            "height": null,
            "min_height": null,
            "padding": null,
            "grid_auto_rows": null,
            "grid_gap": null,
            "max_width": null,
            "order": null,
            "_view_module_version": "1.2.0",
            "grid_template_areas": null,
            "object_position": null,
            "object_fit": null,
            "grid_auto_columns": null,
            "margin": null,
            "display": null,
            "left": null
          }
        },
        "607895d10e8b490299a0e7c4d952d827": {
          "model_module": "@jupyter-widgets/controls",
          "model_name": "SliderStyleModel",
          "model_module_version": "1.5.0",
          "state": {
            "_view_name": "StyleView",
            "handle_color": null,
            "_model_name": "SliderStyleModel",
            "description_width": "",
            "_view_module": "@jupyter-widgets/base",
            "_model_module_version": "1.5.0",
            "_view_count": null,
            "_view_module_version": "1.2.0",
            "_model_module": "@jupyter-widgets/controls"
          }
        },
        "05ec4ed56c794785a079bf9e28864b95": {
          "model_module": "@jupyter-widgets/base",
          "model_name": "LayoutModel",
          "model_module_version": "1.2.0",
          "state": {
            "_view_name": "LayoutView",
            "grid_template_rows": null,
            "right": null,
            "justify_content": null,
            "_view_module": "@jupyter-widgets/base",
            "overflow": null,
            "_model_module_version": "1.2.0",
            "_view_count": null,
            "flex_flow": null,
            "width": null,
            "min_width": null,
            "border": null,
            "align_items": null,
            "bottom": null,
            "_model_module": "@jupyter-widgets/base",
            "top": null,
            "grid_column": null,
            "overflow_y": null,
            "overflow_x": null,
            "grid_auto_flow": null,
            "grid_area": null,
            "grid_template_columns": null,
            "flex": null,
            "_model_name": "LayoutModel",
            "justify_items": null,
            "grid_row": null,
            "max_height": null,
            "align_content": null,
            "visibility": null,
            "align_self": null,
            "height": null,
            "min_height": null,
            "padding": null,
            "grid_auto_rows": null,
            "grid_gap": null,
            "max_width": null,
            "order": null,
            "_view_module_version": "1.2.0",
            "grid_template_areas": null,
            "object_position": null,
            "object_fit": null,
            "grid_auto_columns": null,
            "margin": null,
            "display": null,
            "left": null
          }
        },
        "ba3329eee1364107ba7b26d5d6387967": {
          "model_module": "@jupyter-widgets/base",
          "model_name": "LayoutModel",
          "model_module_version": "1.2.0",
          "state": {
            "_view_name": "LayoutView",
            "grid_template_rows": null,
            "right": null,
            "justify_content": null,
            "_view_module": "@jupyter-widgets/base",
            "overflow": null,
            "_model_module_version": "1.2.0",
            "_view_count": null,
            "flex_flow": null,
            "width": null,
            "min_width": null,
            "border": null,
            "align_items": null,
            "bottom": null,
            "_model_module": "@jupyter-widgets/base",
            "top": null,
            "grid_column": null,
            "overflow_y": null,
            "overflow_x": null,
            "grid_auto_flow": null,
            "grid_area": null,
            "grid_template_columns": null,
            "flex": null,
            "_model_name": "LayoutModel",
            "justify_items": null,
            "grid_row": null,
            "max_height": null,
            "align_content": null,
            "visibility": null,
            "align_self": null,
            "height": null,
            "min_height": null,
            "padding": null,
            "grid_auto_rows": null,
            "grid_gap": null,
            "max_width": null,
            "order": null,
            "_view_module_version": "1.2.0",
            "grid_template_areas": null,
            "object_position": null,
            "object_fit": null,
            "grid_auto_columns": null,
            "margin": null,
            "display": null,
            "left": null
          }
        }
      }
    }
  },
  "cells": [
    {
      "cell_type": "markdown",
      "metadata": {
        "id": "EkPjojoBiDpZ"
      },
      "source": [
        "# Practical 2\n",
        "\n",
        "### [Neil D. Lawrence](http://inverseprobability.com), University of\n",
        "\n",
        "Cambridge\n",
        "\n",
        "### 2021-11-11"
      ],
      "id": "EkPjojoBiDpZ"
    },
    {
      "cell_type": "markdown",
      "metadata": {
        "id": "zp868xAyiDpb"
      },
      "source": [
        "**Abstract**: In this practical session we look at the second aspect of\n",
        "the Fynesse data science process, *assess*. In particular, we are going\n",
        "to download data from OpenStreetMap and verify its quality and utility."
      ],
      "id": "zp868xAyiDpb"
    },
    {
      "cell_type": "markdown",
      "metadata": {
        "id": "u7jDO8rmiDpb"
      },
      "source": [
        "$$\n",
        "$$"
      ],
      "id": "u7jDO8rmiDpb"
    },
    {
      "cell_type": "markdown",
      "metadata": {
        "id": "WWgzCnDKiDpc"
      },
      "source": [
        "::: {.cell .markdown}\n",
        "\n",
        "<!-- Do not edit this file locally. -->\n",
        "<!-- Do not edit this file locally. -->\n",
        "<!---->\n",
        "<!-- Do not edit this file locally. -->\n",
        "<!-- Do not edit this file locally. -->\n",
        "<!-- The last names to be defined. Should be defined entirely in terms of macros from above-->\n",
        "<!--\n",
        "\n",
        "-->\n",
        "\n",
        "Tick Session for this Practical is 16th November 2021"
      ],
      "id": "WWgzCnDKiDpc"
    },
    {
      "cell_type": "markdown",
      "metadata": {
        "id": "TARkrh-IiDpc"
      },
      "source": [
        "## Revert Matplotlib Version\n",
        "\n",
        "Revert `matplotlib` version on Google Colab due to bug mentioned\n",
        "[here](https://github.com/facebook/prophet/issues/1691)."
      ],
      "id": "TARkrh-IiDpc"
    },
    {
      "cell_type": "code",
      "metadata": {
        "id": "n1rkFYMUiDpd",
        "colab": {
          "base_uri": "https://localhost:8080/"
        },
        "outputId": "51947ad6-bbb4-4ba0-9c80-0d275ea7053f"
      },
      "source": [
        "%pip install osmx"
      ],
      "id": "n1rkFYMUiDpd",
      "execution_count": 2,
      "outputs": [
        {
          "output_type": "stream",
          "name": "stdout",
          "text": [
            "Requirement already satisfied: osmx in /usr/local/lib/python3.7/dist-packages (0.0.4)\n",
            "Requirement already satisfied: pycapnp~=0.6.4 in /usr/local/lib/python3.7/dist-packages (from osmx) (0.6.4)\n",
            "Requirement already satisfied: lmdb~=0.98 in /usr/local/lib/python3.7/dist-packages (from osmx) (0.99)\n"
          ]
        }
      ]
    },
    {
      "cell_type": "code",
      "metadata": {
        "id": "JFozypA_iDpe",
        "colab": {
          "base_uri": "https://localhost:8080/"
        },
        "outputId": "cf1c0ff9-b472-4b6b-add5-28ed97e9dac2"
      },
      "source": [
        "%pip uninstall --yes matplotlib"
      ],
      "id": "JFozypA_iDpe",
      "execution_count": 3,
      "outputs": [
        {
          "output_type": "stream",
          "name": "stdout",
          "text": [
            "Found existing installation: matplotlib 3.1.3\n",
            "Uninstalling matplotlib-3.1.3:\n",
            "  Successfully uninstalled matplotlib-3.1.3\n"
          ]
        }
      ]
    },
    {
      "cell_type": "code",
      "metadata": {
        "id": "M7Mzm5ziiDpe",
        "colab": {
          "base_uri": "https://localhost:8080/",
          "height": 329
        },
        "outputId": "83873960-6243-4650-96c4-ea4c1aca6c57"
      },
      "source": [
        "%pip install matplotlib==3.1.3"
      ],
      "id": "M7Mzm5ziiDpe",
      "execution_count": 4,
      "outputs": [
        {
          "output_type": "stream",
          "name": "stdout",
          "text": [
            "Collecting matplotlib==3.1.3\n",
            "  Using cached matplotlib-3.1.3-cp37-cp37m-manylinux1_x86_64.whl (13.1 MB)\n",
            "Requirement already satisfied: pyparsing!=2.0.4,!=2.1.2,!=2.1.6,>=2.0.1 in /usr/local/lib/python3.7/dist-packages (from matplotlib==3.1.3) (2.4.7)\n",
            "Requirement already satisfied: cycler>=0.10 in /usr/local/lib/python3.7/dist-packages (from matplotlib==3.1.3) (0.11.0)\n",
            "Requirement already satisfied: numpy>=1.11 in /usr/local/lib/python3.7/dist-packages (from matplotlib==3.1.3) (1.19.5)\n",
            "Requirement already satisfied: python-dateutil>=2.1 in /usr/local/lib/python3.7/dist-packages (from matplotlib==3.1.3) (2.8.2)\n",
            "Requirement already satisfied: kiwisolver>=1.0.1 in /usr/local/lib/python3.7/dist-packages (from matplotlib==3.1.3) (1.3.2)\n",
            "Requirement already satisfied: six>=1.5 in /usr/local/lib/python3.7/dist-packages (from python-dateutil>=2.1->matplotlib==3.1.3) (1.15.0)\n",
            "Installing collected packages: matplotlib\n",
            "\u001b[31mERROR: pip's dependency resolver does not currently take into account all the packages that are installed. This behaviour is the source of the following dependency conflicts.\n",
            "osmnx 1.1.1 requires matplotlib>=3.3, but you have matplotlib 3.1.3 which is incompatible.\n",
            "albumentations 0.1.12 requires imgaug<0.2.7,>=0.2.5, but you have imgaug 0.2.9 which is incompatible.\u001b[0m\n",
            "Successfully installed matplotlib-3.1.3\n"
          ]
        },
        {
          "output_type": "display_data",
          "data": {
            "application/vnd.colab-display-data+json": {
              "pip_warning": {
                "packages": [
                  "matplotlib",
                  "mpl_toolkits"
                ]
              }
            }
          },
          "metadata": {}
        }
      ]
    },
    {
      "cell_type": "markdown",
      "metadata": {
        "id": "ryZuL8QziDpf"
      },
      "source": [
        "## Setup\n",
        "\n",
        "<span class=\"editsection-bracket\" style=\"\">\\[</span><span\n",
        "class=\"editsection\"\n",
        "style=\"\"><a href=\"https://github.com/lawrennd/talks/edit/gh-pages/_notebooks/includes/notebook-setup.md\" target=\"_blank\" onclick=\"ga('send', 'event', 'Edit Page', 'Edit', 'https://github.com/lawrennd/talks/edit/gh-pages/_notebooks/includes/notebook-setup.md', 13);\">edit</a></span><span class=\"editsection-bracket\" style=\"\">\\]</span>"
      ],
      "id": "ryZuL8QziDpf"
    },
    {
      "cell_type": "code",
      "metadata": {
        "id": "wXLk-i7diDpg"
      },
      "source": [
        "import matplotlib.pyplot as plt\n",
        "import pandas as pd\n",
        "plt.rcParams.update({'font.size': 22})"
      ],
      "id": "wXLk-i7diDpg",
      "execution_count": 20,
      "outputs": []
    },
    {
      "cell_type": "markdown",
      "metadata": {
        "id": "-iFdfS9hiDpg"
      },
      "source": [
        "<!--setupplotcode{import seaborn as sns\n",
        "sns.set_style('darkgrid')\n",
        "sns.set_context('paper')\n",
        "sns.set_palette('colorblind')}-->"
      ],
      "id": "-iFdfS9hiDpg"
    },
    {
      "cell_type": "markdown",
      "metadata": {
        "id": "YGRADHPWiDph"
      },
      "source": [
        "## notutils\n",
        "\n",
        "<span class=\"editsection-bracket\" style=\"\">\\[</span><span\n",
        "class=\"editsection\"\n",
        "style=\"\"><a href=\"https://github.com/lawrennd/talks/edit/gh-pages/_software/includes/notutils-software.md\" target=\"_blank\" onclick=\"ga('send', 'event', 'Edit Page', 'Edit', 'https://github.com/lawrennd/talks/edit/gh-pages/_software/includes/notutils-software.md', 13);\">edit</a></span><span class=\"editsection-bracket\" style=\"\">\\]</span>\n",
        "\n",
        "This small package is a helper package for various notebook utilities\n",
        "used\n",
        "\n",
        "The software can be installed using"
      ],
      "id": "YGRADHPWiDph"
    },
    {
      "cell_type": "code",
      "metadata": {
        "id": "WQpOX-zhiDpi",
        "colab": {
          "base_uri": "https://localhost:8080/"
        },
        "outputId": "5a1d4835-f9dc-4c5d-95b9-0c725b3ab8fc"
      },
      "source": [
        "%pip install notutils"
      ],
      "id": "WQpOX-zhiDpi",
      "execution_count": 6,
      "outputs": [
        {
          "output_type": "stream",
          "name": "stdout",
          "text": [
            "Requirement already satisfied: notutils in /usr/local/lib/python3.7/dist-packages (0.0.1)\n",
            "Requirement already satisfied: IPython in /usr/local/lib/python3.7/dist-packages (from notutils) (7.29.0)\n",
            "Requirement already satisfied: backcall in /usr/local/lib/python3.7/dist-packages (from IPython->notutils) (0.2.0)\n",
            "Requirement already satisfied: prompt-toolkit!=3.0.0,!=3.0.1,<3.1.0,>=2.0.0 in /usr/local/lib/python3.7/dist-packages (from IPython->notutils) (3.0.22)\n",
            "Requirement already satisfied: matplotlib-inline in /usr/local/lib/python3.7/dist-packages (from IPython->notutils) (0.1.3)\n",
            "Requirement already satisfied: decorator in /usr/local/lib/python3.7/dist-packages (from IPython->notutils) (4.4.2)\n",
            "Requirement already satisfied: setuptools>=18.5 in /usr/local/lib/python3.7/dist-packages (from IPython->notutils) (57.4.0)\n",
            "Requirement already satisfied: pexpect>4.3 in /usr/local/lib/python3.7/dist-packages (from IPython->notutils) (4.8.0)\n",
            "Requirement already satisfied: traitlets>=4.2 in /usr/local/lib/python3.7/dist-packages (from IPython->notutils) (5.1.1)\n",
            "Requirement already satisfied: pickleshare in /usr/local/lib/python3.7/dist-packages (from IPython->notutils) (0.7.5)\n",
            "Requirement already satisfied: pygments in /usr/local/lib/python3.7/dist-packages (from IPython->notutils) (2.6.1)\n",
            "Requirement already satisfied: jedi>=0.16 in /usr/local/lib/python3.7/dist-packages (from IPython->notutils) (0.18.0)\n",
            "Requirement already satisfied: parso<0.9.0,>=0.8.0 in /usr/local/lib/python3.7/dist-packages (from jedi>=0.16->IPython->notutils) (0.8.2)\n",
            "Requirement already satisfied: ptyprocess>=0.5 in /usr/local/lib/python3.7/dist-packages (from pexpect>4.3->IPython->notutils) (0.7.0)\n",
            "Requirement already satisfied: wcwidth in /usr/local/lib/python3.7/dist-packages (from prompt-toolkit!=3.0.0,!=3.0.1,<3.1.0,>=2.0.0->IPython->notutils) (0.2.5)\n"
          ]
        }
      ]
    },
    {
      "cell_type": "markdown",
      "metadata": {
        "id": "CkkCTiE7iDpi"
      },
      "source": [
        "from the command prompt where you can access your python installation.\n",
        "\n",
        "The code is also available on GitHub:\n",
        "<https://github.com/lawrennd/notutils>\n",
        "\n",
        "Once `notutils` is installed, it can be imported in the usual manner."
      ],
      "id": "CkkCTiE7iDpi"
    },
    {
      "cell_type": "code",
      "metadata": {
        "id": "mzMf7PXoiDpj"
      },
      "source": [
        "import notutils"
      ],
      "id": "mzMf7PXoiDpj",
      "execution_count": 7,
      "outputs": []
    },
    {
      "cell_type": "markdown",
      "metadata": {
        "id": "ahpkwvJyiDpk"
      },
      "source": [
        "## mlai\n",
        "\n",
        "<span class=\"editsection-bracket\" style=\"\">\\[</span><span\n",
        "class=\"editsection\"\n",
        "style=\"\"><a href=\"https://github.com/lawrennd/talks/edit/gh-pages/_software/includes/mlai-software.md\" target=\"_blank\" onclick=\"ga('send', 'event', 'Edit Page', 'Edit', 'https://github.com/lawrennd/talks/edit/gh-pages/_software/includes/mlai-software.md', 13);\">edit</a></span><span class=\"editsection-bracket\" style=\"\">\\]</span>\n",
        "\n",
        "The `mlai` software is a suite of helper functions for teaching and\n",
        "demonstrating machine learning algorithms. It was first used in the\n",
        "Machine Learning and Adaptive Intelligence course in Sheffield in 2013.\n",
        "\n",
        "The software can be installed using"
      ],
      "id": "ahpkwvJyiDpk"
    },
    {
      "cell_type": "code",
      "metadata": {
        "id": "wpPX6TyliDpl",
        "colab": {
          "base_uri": "https://localhost:8080/"
        },
        "outputId": "75151a25-f31e-4024-95dd-3450e2681d65"
      },
      "source": [
        "%pip install mlai"
      ],
      "id": "wpPX6TyliDpl",
      "execution_count": 8,
      "outputs": [
        {
          "output_type": "stream",
          "name": "stdout",
          "text": [
            "Requirement already satisfied: mlai in /usr/local/lib/python3.7/dist-packages (0.1.2)\n",
            "Requirement already satisfied: pods in /usr/local/lib/python3.7/dist-packages (from mlai) (0.1.13)\n",
            "Requirement already satisfied: pandas in /usr/local/lib/python3.7/dist-packages (from mlai) (1.1.5)\n",
            "Requirement already satisfied: python-dateutil>=2.7.3 in /usr/local/lib/python3.7/dist-packages (from pandas->mlai) (2.8.2)\n",
            "Requirement already satisfied: pytz>=2017.2 in /usr/local/lib/python3.7/dist-packages (from pandas->mlai) (2018.9)\n",
            "Requirement already satisfied: numpy>=1.15.4 in /usr/local/lib/python3.7/dist-packages (from pandas->mlai) (1.19.5)\n",
            "Requirement already satisfied: six>=1.5 in /usr/local/lib/python3.7/dist-packages (from python-dateutil>=2.7.3->pandas->mlai) (1.15.0)\n",
            "Requirement already satisfied: tables in /usr/local/lib/python3.7/dist-packages (from pods->mlai) (3.4.4)\n",
            "Requirement already satisfied: scipy in /usr/local/lib/python3.7/dist-packages (from pods->mlai) (1.4.1)\n",
            "Requirement already satisfied: PyYAML in /usr/local/lib/python3.7/dist-packages (from pods->mlai) (3.13)\n",
            "Requirement already satisfied: numexpr>=2.5.2 in /usr/local/lib/python3.7/dist-packages (from tables->pods->mlai) (2.7.3)\n"
          ]
        }
      ]
    },
    {
      "cell_type": "markdown",
      "metadata": {
        "id": "ccqdS3C9iDpl"
      },
      "source": [
        "from the command prompt where you can access your python installation.\n",
        "\n",
        "The code is also available on GitHub: <https://github.com/lawrennd/mlai>\n",
        "\n",
        "Once `mlai` is installed, it can be imported in the usual manner."
      ],
      "id": "ccqdS3C9iDpl"
    },
    {
      "cell_type": "code",
      "metadata": {
        "id": "Cdwp0-yBiDpl"
      },
      "source": [
        "import mlai"
      ],
      "id": "Cdwp0-yBiDpl",
      "execution_count": 9,
      "outputs": []
    },
    {
      "cell_type": "markdown",
      "metadata": {
        "id": "I_pA49RCiDpl"
      },
      "source": [
        "## Mapping Data\n",
        "\n",
        "<span class=\"editsection-bracket\" style=\"\">\\[</span><span\n",
        "class=\"editsection\"\n",
        "style=\"\"><a href=\"https://github.com/lawrennd/talks/edit/gh-pages/_maps/includes/mapping-intro.md\" target=\"_blank\" onclick=\"ga('send', 'event', 'Edit Page', 'Edit', 'https://github.com/lawrennd/talks/edit/gh-pages/_maps/includes/mapping-intro.md', 13);\">edit</a></span><span class=\"editsection-bracket\" style=\"\">\\]</span>\n",
        "\n",
        "Many of the questions we ask in data science are about how we live, who\n",
        "we are and how we might live better. So it is no surprise that an\n",
        "important source of information for data science comes from *mapping\n",
        "data*.\n",
        "\n",
        "Questions about how best to make deliveries, where to locate facilities,\n",
        "national disease susceptibility, how to get to work, where to go for a\n",
        "walk, disaster response[1] and a myriad of other applications.\n",
        "\n",
        "The wider field of geospatial data analysis is also vital for monitoring\n",
        "our environment and human activity[2] on our globe.\n",
        "\n",
        "With all of this in mind, mapping data seems an appropriate domain in\n",
        "which to explore how we can assess a data set for use in a particular\n",
        "data science domain.\n",
        "\n",
        "In this practical session, you will learn how to download data from\n",
        "OpenStreetMap, in particular we will focus on *points of interest* in\n",
        "OpenStreetMap. We will explore the utility of points of interest as a\n",
        "way of adding features into our models. We will introduce the notion of\n",
        "a basis function. In spatial data the basis functions we use will become\n",
        "features on the landscape.\n",
        "\n",
        "Before we start, we’ll introduce a few other ideas to inspire how you\n",
        "think about the data you collage. In particular, a tool for creating\n",
        "“play data” and we’ll introduce you to the interactive funcitonality of\n",
        "the notebook.\n",
        "\n",
        "[1] For example the [OpenStreetMap response to the 2010 Haiti\n",
        "Earthquake](https://blog.openstreetmap.org/2010/01/14/haiti-openstreetmap-response/).\n",
        "\n",
        "[2] For example this [UN Global\n",
        "Pulse](https://www.unglobalpulse.org/project/measuring-poverty-with-machine-roof-counting/)\n",
        "project which measures roof material as a proxy for poverty levels."
      ],
      "id": "I_pA49RCiDpl"
    },
    {
      "cell_type": "markdown",
      "metadata": {
        "id": "Mgyi-zYmiDpm"
      },
      "source": [
        "## Playing with Data Draw\n",
        "\n",
        "<span class=\"editsection-bracket\" style=\"\">\\[</span><span\n",
        "class=\"editsection\"\n",
        "style=\"\"><a href=\"https://github.com/lawrennd/talks/edit/gh-pages/_data-science/includes/drawdata-play.md\" target=\"_blank\" onclick=\"ga('send', 'event', 'Edit Page', 'Edit', 'https://github.com/lawrennd/talks/edit/gh-pages/_data-science/includes/drawdata-play.md', 13);\">edit</a></span><span class=\"editsection-bracket\" style=\"\">\\]</span>\n",
        "\n",
        "This section is inspired by [a blog post by Tony\n",
        "Hirst](https://blog.ouseful.info/)[1] who talks about the importance of\n",
        "*play*.\n",
        "\n",
        "> One of the most powerful learning techniques I know that works for me\n",
        "> is play, the freedom to explore an idea or concept or principle in an\n",
        "> open-ended, personally directed way, trying things out, test them,\n",
        "> making up “what if?” scenarios, and so on.\n",
        ">\n",
        "> Playing takes time of course, and the way we construst courses means\n",
        "> that we donlt give students time to play, preferring to overload them\n",
        "> with lots of stuff read, presumably on the basis that stuff = value.\n",
        ">\n",
        "> If I were to produce a 5 hour chunk of learning material that was\n",
        "> little more three or four pages of text, defining various bits of\n",
        "> playful activity, I suspect that questions would be asked on the basis\n",
        "> that 5 hours of teaching should include lots more words… I also\n",
        "> suspect that the majority of students would not know how to play\n",
        "> consructively within the prescribed bounds for that length of time.\n",
        ">\n",
        "> Tony Hirst (Hirst, 2021)\n",
        "\n",
        "OK, we’ll try and keep this session below five hours, but Tony’s\n",
        "instinct is quite correct here. You will learn more from playing with\n",
        "data than in any formal session. So let’s give it a try in the way Tony\n",
        "suggests.\n",
        "\n",
        "[1] Many of the most interesting blog posts are hard to find on Google\n",
        "because it’s become dominate by sites that are well optimized for search\n",
        "engines. Even when useful, I find the click-bait titles of the posts\n",
        "that surface on sites like towardsdatascience off-putting: “Four ways of\n",
        "Plotting Data you Must Know About” or “Eight Things Every Data Scientist\n",
        "Sould Know” or “Do you remember this ggplot command? You won’t believe\n",
        "what it looks like today!” or “Five Other Cambridge Data Scientists are\n",
        "Currently Using this Trick to Understand their Data.” OK … I made the\n",
        "last two up. Well I made them all up, but I’ve not seen ones like the\n",
        "last two … but I have seen snippets of useful information masquerading\n",
        "under the other titles on medium/towardsdatascience, but the overall\n",
        "posts are usually quite vacuous."
      ],
      "id": "Mgyi-zYmiDpm"
    },
    {
      "cell_type": "markdown",
      "metadata": {
        "id": "_oI91lJ_iDpn"
      },
      "source": [
        "## Drawdata Data\n",
        "\n",
        "<span class=\"editsection-bracket\" style=\"\">\\[</span><span\n",
        "class=\"editsection\"\n",
        "style=\"\"><a href=\"https://github.com/lawrennd/talks/edit/gh-pages/_datasets/includes/drawdata-data.md\" target=\"_blank\" onclick=\"ga('send', 'event', 'Edit Page', 'Edit', 'https://github.com/lawrennd/talks/edit/gh-pages/_datasets/includes/drawdata-data.md', 13);\">edit</a></span><span class=\"editsection-bracket\" style=\"\">\\]</span>\n",
        "\n",
        "The `drawdata` package is made available by [Vincent D.\n",
        "Warmerdam](https://github.com/koaning) for drawing datasets within the\n",
        "Jupyter notebook. You can find it on [Github\n",
        "here](https://github.com/koaning/drawdata). See also [this\n",
        "page](https://calmcode.io/labs/drawdata.html)."
      ],
      "id": "_oI91lJ_iDpn"
    },
    {
      "cell_type": "code",
      "metadata": {
        "id": "GIjuU_1PiDpn",
        "colab": {
          "base_uri": "https://localhost:8080/"
        },
        "outputId": "7941e0b4-2fce-45bf-b27d-d44a1eb2b275"
      },
      "source": [
        "%pip install drawdata"
      ],
      "id": "GIjuU_1PiDpn",
      "execution_count": 10,
      "outputs": [
        {
          "output_type": "stream",
          "name": "stdout",
          "text": [
            "Requirement already satisfied: drawdata in /usr/local/lib/python3.7/dist-packages (0.2.0)\n",
            "Requirement already satisfied: jupyter>=1.0.0 in /usr/local/lib/python3.7/dist-packages (from drawdata) (1.0.0)\n",
            "Requirement already satisfied: ipython>=7.16.1 in /usr/local/lib/python3.7/dist-packages (from drawdata) (7.29.0)\n",
            "Requirement already satisfied: setuptools>=18.5 in /usr/local/lib/python3.7/dist-packages (from ipython>=7.16.1->drawdata) (57.4.0)\n",
            "Requirement already satisfied: decorator in /usr/local/lib/python3.7/dist-packages (from ipython>=7.16.1->drawdata) (4.4.2)\n",
            "Requirement already satisfied: jedi>=0.16 in /usr/local/lib/python3.7/dist-packages (from ipython>=7.16.1->drawdata) (0.18.0)\n",
            "Requirement already satisfied: traitlets>=4.2 in /usr/local/lib/python3.7/dist-packages (from ipython>=7.16.1->drawdata) (5.1.1)\n",
            "Requirement already satisfied: pygments in /usr/local/lib/python3.7/dist-packages (from ipython>=7.16.1->drawdata) (2.6.1)\n",
            "Requirement already satisfied: prompt-toolkit!=3.0.0,!=3.0.1,<3.1.0,>=2.0.0 in /usr/local/lib/python3.7/dist-packages (from ipython>=7.16.1->drawdata) (3.0.22)\n",
            "Requirement already satisfied: backcall in /usr/local/lib/python3.7/dist-packages (from ipython>=7.16.1->drawdata) (0.2.0)\n",
            "Requirement already satisfied: matplotlib-inline in /usr/local/lib/python3.7/dist-packages (from ipython>=7.16.1->drawdata) (0.1.3)\n",
            "Requirement already satisfied: pexpect>4.3 in /usr/local/lib/python3.7/dist-packages (from ipython>=7.16.1->drawdata) (4.8.0)\n",
            "Requirement already satisfied: pickleshare in /usr/local/lib/python3.7/dist-packages (from ipython>=7.16.1->drawdata) (0.7.5)\n",
            "Requirement already satisfied: parso<0.9.0,>=0.8.0 in /usr/local/lib/python3.7/dist-packages (from jedi>=0.16->ipython>=7.16.1->drawdata) (0.8.2)\n",
            "Requirement already satisfied: nbconvert in /usr/local/lib/python3.7/dist-packages (from jupyter>=1.0.0->drawdata) (5.6.1)\n",
            "Requirement already satisfied: ipywidgets in /usr/local/lib/python3.7/dist-packages (from jupyter>=1.0.0->drawdata) (7.6.5)\n",
            "Requirement already satisfied: notebook in /usr/local/lib/python3.7/dist-packages (from jupyter>=1.0.0->drawdata) (5.3.1)\n",
            "Requirement already satisfied: jupyter-console in /usr/local/lib/python3.7/dist-packages (from jupyter>=1.0.0->drawdata) (6.4.0)\n",
            "Requirement already satisfied: ipykernel in /usr/local/lib/python3.7/dist-packages (from jupyter>=1.0.0->drawdata) (4.10.1)\n",
            "Requirement already satisfied: qtconsole in /usr/local/lib/python3.7/dist-packages (from jupyter>=1.0.0->drawdata) (5.1.1)\n",
            "Requirement already satisfied: ptyprocess>=0.5 in /usr/local/lib/python3.7/dist-packages (from pexpect>4.3->ipython>=7.16.1->drawdata) (0.7.0)\n",
            "Requirement already satisfied: wcwidth in /usr/local/lib/python3.7/dist-packages (from prompt-toolkit!=3.0.0,!=3.0.1,<3.1.0,>=2.0.0->ipython>=7.16.1->drawdata) (0.2.5)\n",
            "Requirement already satisfied: tornado>=4.0 in /usr/local/lib/python3.7/dist-packages (from ipykernel->jupyter>=1.0.0->drawdata) (5.1.1)\n",
            "Requirement already satisfied: jupyter-client in /usr/local/lib/python3.7/dist-packages (from ipykernel->jupyter>=1.0.0->drawdata) (5.3.5)\n",
            "Requirement already satisfied: widgetsnbextension~=3.5.0 in /usr/local/lib/python3.7/dist-packages (from ipywidgets->jupyter>=1.0.0->drawdata) (3.5.2)\n",
            "Requirement already satisfied: ipython-genutils~=0.2.0 in /usr/local/lib/python3.7/dist-packages (from ipywidgets->jupyter>=1.0.0->drawdata) (0.2.0)\n",
            "Requirement already satisfied: jupyterlab-widgets>=1.0.0 in /usr/local/lib/python3.7/dist-packages (from ipywidgets->jupyter>=1.0.0->drawdata) (1.0.2)\n",
            "Requirement already satisfied: nbformat>=4.2.0 in /usr/local/lib/python3.7/dist-packages (from ipywidgets->jupyter>=1.0.0->drawdata) (5.1.3)\n",
            "Requirement already satisfied: jsonschema!=2.5.0,>=2.4 in /usr/local/lib/python3.7/dist-packages (from nbformat>=4.2.0->ipywidgets->jupyter>=1.0.0->drawdata) (2.6.0)\n",
            "Requirement already satisfied: jupyter-core in /usr/local/lib/python3.7/dist-packages (from nbformat>=4.2.0->ipywidgets->jupyter>=1.0.0->drawdata) (4.9.1)\n",
            "Requirement already satisfied: terminado>=0.8.1 in /usr/local/lib/python3.7/dist-packages (from notebook->jupyter>=1.0.0->drawdata) (0.12.1)\n",
            "Requirement already satisfied: Send2Trash in /usr/local/lib/python3.7/dist-packages (from notebook->jupyter>=1.0.0->drawdata) (1.8.0)\n",
            "Requirement already satisfied: jinja2 in /usr/local/lib/python3.7/dist-packages (from notebook->jupyter>=1.0.0->drawdata) (2.11.3)\n",
            "Requirement already satisfied: pyzmq>=13 in /usr/local/lib/python3.7/dist-packages (from jupyter-client->ipykernel->jupyter>=1.0.0->drawdata) (22.3.0)\n",
            "Requirement already satisfied: python-dateutil>=2.1 in /usr/local/lib/python3.7/dist-packages (from jupyter-client->ipykernel->jupyter>=1.0.0->drawdata) (2.8.2)\n",
            "Requirement already satisfied: six>=1.5 in /usr/local/lib/python3.7/dist-packages (from python-dateutil>=2.1->jupyter-client->ipykernel->jupyter>=1.0.0->drawdata) (1.15.0)\n",
            "Requirement already satisfied: MarkupSafe>=0.23 in /usr/local/lib/python3.7/dist-packages (from jinja2->notebook->jupyter>=1.0.0->drawdata) (2.0.1)\n",
            "Requirement already satisfied: pandocfilters>=1.4.1 in /usr/local/lib/python3.7/dist-packages (from nbconvert->jupyter>=1.0.0->drawdata) (1.5.0)\n",
            "Requirement already satisfied: defusedxml in /usr/local/lib/python3.7/dist-packages (from nbconvert->jupyter>=1.0.0->drawdata) (0.7.1)\n",
            "Requirement already satisfied: testpath in /usr/local/lib/python3.7/dist-packages (from nbconvert->jupyter>=1.0.0->drawdata) (0.5.0)\n",
            "Requirement already satisfied: entrypoints>=0.2.2 in /usr/local/lib/python3.7/dist-packages (from nbconvert->jupyter>=1.0.0->drawdata) (0.3)\n",
            "Requirement already satisfied: bleach in /usr/local/lib/python3.7/dist-packages (from nbconvert->jupyter>=1.0.0->drawdata) (4.1.0)\n",
            "Requirement already satisfied: mistune<2,>=0.8.1 in /usr/local/lib/python3.7/dist-packages (from nbconvert->jupyter>=1.0.0->drawdata) (0.8.4)\n",
            "Requirement already satisfied: webencodings in /usr/local/lib/python3.7/dist-packages (from bleach->nbconvert->jupyter>=1.0.0->drawdata) (0.5.1)\n",
            "Requirement already satisfied: packaging in /usr/local/lib/python3.7/dist-packages (from bleach->nbconvert->jupyter>=1.0.0->drawdata) (21.2)\n",
            "Requirement already satisfied: pyparsing<3,>=2.0.2 in /usr/local/lib/python3.7/dist-packages (from packaging->bleach->nbconvert->jupyter>=1.0.0->drawdata) (2.4.7)\n",
            "Requirement already satisfied: qtpy in /usr/local/lib/python3.7/dist-packages (from qtconsole->jupyter>=1.0.0->drawdata) (1.11.2)\n"
          ]
        }
      ]
    },
    {
      "cell_type": "code",
      "metadata": {
        "id": "ACRE4x2viDpn"
      },
      "source": [
        "from drawdata import draw_scatter"
      ],
      "id": "ACRE4x2viDpn",
      "execution_count": 11,
      "outputs": []
    },
    {
      "cell_type": "markdown",
      "metadata": {
        "id": "5-Njz6XHiDpn"
      },
      "source": [
        "Now you can draw scatter data to your heart’s content. You can select\n",
        "one of the groups and draw a region which will be filled roughly with\n",
        "random dots."
      ],
      "id": "5-Njz6XHiDpn"
    },
    {
      "cell_type": "code",
      "metadata": {
        "id": "lSHDsZlbiDpn",
        "colab": {
          "base_uri": "https://localhost:8080/",
          "height": 571
        },
        "outputId": "2ca61508-8e54-4c1a-d5b1-858b8203a972"
      },
      "source": [
        "draw_scatter()"
      ],
      "id": "lSHDsZlbiDpn",
      "execution_count": 12,
      "outputs": [
        {
          "output_type": "execute_result",
          "data": {
            "text/html": [
              "\n",
              "        <iframe\n",
              "            width=\"800\"\n",
              "            height=\"550\"\n",
              "            src=\"https://drawdata.xyz/scatter.html\"\n",
              "            frameborder=\"0\"\n",
              "            allowfullscreen\n",
              "            \n",
              "        ></iframe>\n",
              "        "
            ],
            "text/plain": [
              "<IPython.lib.display.IFrame at 0x7f2e2a678110>"
            ]
          },
          "metadata": {},
          "execution_count": 12
        }
      ]
    },
    {
      "cell_type": "markdown",
      "metadata": {
        "id": "I1EEa_WgiDpo"
      },
      "source": [
        "### On a Local Machine\n",
        "\n",
        "If you are running this on a local machine then copy the data to the\n",
        "clipboard by pressing `copy csv` and convert to a `DataFrame` as\n",
        "follows."
      ],
      "id": "I1EEa_WgiDpo"
    },
    {
      "cell_type": "code",
      "metadata": {
        "id": "3S8nmTvuiDpo"
      },
      "source": [
        "# import pandas as pd"
      ],
      "id": "3S8nmTvuiDpo",
      "execution_count": 13,
      "outputs": []
    },
    {
      "cell_type": "code",
      "metadata": {
        "id": "MRF6BZzPiDpo"
      },
      "source": [
        "# data = pd.read_clipboard(sep=\",\")"
      ],
      "id": "MRF6BZzPiDpo",
      "execution_count": 14,
      "outputs": []
    },
    {
      "cell_type": "markdown",
      "metadata": {
        "id": "tiyGihRiiDpo"
      },
      "source": [
        "### On Google Colab\n",
        "\n",
        "Otherwise, on Google Colab you can download the file to your local\n",
        "machine, it will save as `data.csv`. Then you can upload that data into\n",
        "Colab as follows."
      ],
      "id": "tiyGihRiiDpo"
    },
    {
      "cell_type": "code",
      "metadata": {
        "id": "4LSDKE-RiDpo"
      },
      "source": [
        "import io\n",
        "from google.colab import files"
      ],
      "id": "4LSDKE-RiDpo",
      "execution_count": 15,
      "outputs": []
    },
    {
      "cell_type": "code",
      "metadata": {
        "id": "pi6g4orWiDpo",
        "colab": {
          "resources": {
            "http://localhost:8080/nbextensions/google.colab/files.js": {
              "data": "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",
              "ok": true,
              "headers": [
                [
                  "content-type",
                  "application/javascript"
                ]
              ],
              "status": 200,
              "status_text": ""
            }
          },
          "base_uri": "https://localhost:8080/",
          "height": 73
        },
        "outputId": "52a18f2e-850f-4ebc-b616-447879773856"
      },
      "source": [
        "uploaded = files.upload()\n",
        "data = pd.read_csv(io.StringIO(uploaded[\"data.csv\"].decode(\"utf-8\")))"
      ],
      "id": "pi6g4orWiDpo",
      "execution_count": 21,
      "outputs": [
        {
          "output_type": "display_data",
          "data": {
            "text/html": [
              "\n",
              "     <input type=\"file\" id=\"files-4c054669-2c2a-4513-b34b-153ca6469575\" name=\"files[]\" multiple disabled\n",
              "        style=\"border:none\" />\n",
              "     <output id=\"result-4c054669-2c2a-4513-b34b-153ca6469575\">\n",
              "      Upload widget is only available when the cell has been executed in the\n",
              "      current browser session. Please rerun this cell to enable.\n",
              "      </output>\n",
              "      <script src=\"/nbextensions/google.colab/files.js\"></script> "
            ],
            "text/plain": [
              "<IPython.core.display.HTML object>"
            ]
          },
          "metadata": {}
        },
        {
          "output_type": "stream",
          "name": "stdout",
          "text": [
            "Saving data.csv to data (4).csv\n"
          ]
        }
      ]
    },
    {
      "cell_type": "markdown",
      "metadata": {
        "id": "UDBcMDoiiDpo"
      },
      "source": [
        "### Name the Drawdata Dataframe"
      ],
      "id": "UDBcMDoiiDpo"
    },
    {
      "cell_type": "code",
      "metadata": {
        "id": "wQ81ra67iDpo"
      },
      "source": [
        "drawdata_data = data"
      ],
      "id": "wQ81ra67iDpo",
      "execution_count": 22,
      "outputs": []
    },
    {
      "cell_type": "markdown",
      "metadata": {
        "id": "lrdnqaA4iDpp"
      },
      "source": [
        "## Simpson’s Paradox\n",
        "\n",
        "We introduced [Simpson’s\n",
        "paradox](https://en.wikipedia.org/wiki/Simpson%27s_paradox) briefly in\n",
        "the “Review and Refresh” lab session."
      ],
      "id": "lrdnqaA4iDpp"
    },
    {
      "cell_type": "markdown",
      "metadata": {
        "id": "hU_HPmzdiDpp"
      },
      "source": [
        "### Exercise 1\n",
        "\n",
        "Use `drawdata` to construct a data set that exhibits Simpson’s paradox.\n",
        "\n",
        "Here’s some pandas functionality you might find useful,\n",
        "\n",
        "    pd.DataFrame.corr?\n",
        "\n",
        "and\n",
        "\n",
        "    pd.DataFrame.groupby?"
      ],
      "id": "hU_HPmzdiDpp"
    },
    {
      "cell_type": "code",
      "metadata": {
        "id": "esgxzrZIiDpp",
        "colab": {
          "base_uri": "https://localhost:8080/"
        },
        "outputId": "197c46db-ec80-4402-f1fd-a24bd4221043"
      },
      "source": [
        "# Write your answer to Exercise 1 here\n",
        "\n",
        "general_corr = drawdata_data.corr(method='pearson')\n",
        "pieceby_corr = drawdata_data.groupby(by=[\"z\"]).corr(method='pearson')\n",
        "print(general_corr)\n",
        "print(pieceby_corr)"
      ],
      "id": "esgxzrZIiDpp",
      "execution_count": 23,
      "outputs": [
        {
          "output_type": "stream",
          "name": "stdout",
          "text": [
            "          x         y\n",
            "x  1.000000 -0.584888\n",
            "y -0.584888  1.000000\n",
            "            x         y\n",
            "z                      \n",
            "a x  1.000000  0.831755\n",
            "  y  0.831755  1.000000\n",
            "b x  1.000000  0.737068\n",
            "  y  0.737068  1.000000\n",
            "c x  1.000000  0.782229\n",
            "  y  0.782229  1.000000\n",
            "d x  1.000000  0.884199\n",
            "  y  0.884199  1.000000\n"
          ]
        }
      ]
    },
    {
      "cell_type": "code",
      "metadata": {
        "colab": {
          "base_uri": "https://localhost:8080/"
        },
        "id": "sbUyAfneoS8N",
        "outputId": "ae2a44be-5b2c-41af-9b50-b624958e7461"
      },
      "source": [
        "print('All Data: ', general_corr.loc['x']['y'])\n",
        "for subset in ['a', 'b', 'c', 'd']:\n",
        "  print('Subset \"'+subset+'\": ',pieceby_corr.loc[subset,'x']['y'])"
      ],
      "id": "sbUyAfneoS8N",
      "execution_count": 24,
      "outputs": [
        {
          "output_type": "stream",
          "name": "stdout",
          "text": [
            "All Data:  -0.5848882589538877\n",
            "Subset \"a\":  0.8317551053851957\n",
            "Subset \"b\":  0.7370680803452592\n",
            "Subset \"c\":  0.7822293400393621\n",
            "Subset \"d\":  0.8841987702216062\n"
          ]
        }
      ]
    },
    {
      "cell_type": "markdown",
      "metadata": {
        "id": "NxhPPN4piDpp"
      },
      "source": [
        "[link text](https://)If you want to play some more, why not try and create your own drawing\n",
        "of a Gorilla that gives plausible correlation values for a BMI dataset?\n",
        "But don’t spend five hours on this! If you want to draw the data with\n",
        "lines, you can use `draw_line` from `drawdata` instead of\n",
        "`draw_scatter`."
      ],
      "id": "NxhPPN4piDpp"
    },
    {
      "cell_type": "code",
      "metadata": {
        "id": "ImvLReZdiDpp"
      },
      "source": [
        "data_interact = drawdata_data"
      ],
      "id": "ImvLReZdiDpp",
      "execution_count": 25,
      "outputs": []
    },
    {
      "cell_type": "markdown",
      "metadata": {
        "id": "OTMzPtsoiDpp"
      },
      "source": [
        "## Interaction in Jupyter Notebook\n",
        "\n",
        "<span class=\"editsection-bracket\" style=\"\">\\[</span><span\n",
        "class=\"editsection\"\n",
        "style=\"\"><a href=\"https://github.com/lawrennd/talks/edit/gh-pages/_data-science/includes/dataframe-interact.md\" target=\"_blank\" onclick=\"ga('send', 'event', 'Edit Page', 'Edit', 'https://github.com/lawrennd/talks/edit/gh-pages/_data-science/includes/dataframe-interact.md', 13);\">edit</a></span><span class=\"editsection-bracket\" style=\"\">\\]</span>\n",
        "\n",
        "As well as providing plotting capabilities, the notebook gives us the\n",
        "capability to interact with python objects. We can design custom\n",
        "interaces to work with the data we have.\n",
        "\n",
        "Here we are inspired by a blog post from Tony Hirst (Hirst, 2016).\n",
        "\n",
        "The Jupyter notebook was originally introduced by the IPython project.\n",
        "For that reason it’s widgets are nown as `ipywidgets`. These widgets are\n",
        "one of the most powerful features of the notebook. They allow you to\n",
        "create your own customised interaction interfaces for the data.\n",
        "\n",
        "The key functionality is included in the function `interact`."
      ],
      "id": "OTMzPtsoiDpp"
    },
    {
      "cell_type": "code",
      "metadata": {
        "id": "Ho7KiPS2iDpp"
      },
      "source": [
        "import ipywidgets as widgets\n",
        "from ipywidgets import interact, fixed\n",
        "from IPython.display import display"
      ],
      "id": "Ho7KiPS2iDpp",
      "execution_count": 26,
      "outputs": []
    },
    {
      "cell_type": "markdown",
      "metadata": {
        "id": "uRWTmfIXiDpq"
      },
      "source": [
        "The first trick is to write a callback function. This callback function\n",
        "will display the data frame as required."
      ],
      "id": "uRWTmfIXiDpq"
    },
    {
      "cell_type": "code",
      "metadata": {
        "id": "_PqNUxA7iDpq"
      },
      "source": [
        "def view_df(dataframe, column=None, item=\"all\"):\n",
        "    \"\"\"This helper function displays a DataFrame, filtering a given column on a particular item\"\"\"\n",
        "    if column is None:\n",
        "        column = dataframe.columns[0]\n",
        "    if item==\"all\": \n",
        "        display(dataframe)\n",
        "    display(dataframe[dataframe[column]==item])"
      ],
      "id": "_PqNUxA7iDpq",
      "execution_count": 27,
      "outputs": []
    },
    {
      "cell_type": "markdown",
      "metadata": {
        "id": "uD4UtG2viDpq"
      },
      "source": [
        "Now we can easily create selection boxes by passing a keyword arguments\n",
        "to `interact` alongside the callback function. If the keyword arguments\n",
        "contain lists, then interact interprets that as a request to form a\n",
        "selection box to pass to the callback function for that keyword\n",
        "argument. The special interact style `fixed` is interpreted as\n",
        "information that is passed directly to the function (i.e. not user\n",
        "selected).\n",
        "\n",
        "We’ll select column `z` to operate on and allow us to select from the\n",
        "unique values in that column (which represent the classes `a` through\n",
        "`d` for filtering."
      ],
      "id": "uD4UtG2viDpq"
    },
    {
      "cell_type": "code",
      "metadata": {
        "id": "-OsrdMULiDpq"
      },
      "source": [
        "column = \"z\"\n",
        "items = [\"all\"] + sorted(data_interact[column].unique().tolist())"
      ],
      "id": "-OsrdMULiDpq",
      "execution_count": 28,
      "outputs": []
    },
    {
      "cell_type": "markdown",
      "metadata": {
        "id": "85KMItqiiDpq"
      },
      "source": [
        "Now we can create the interact.\n",
        "\n",
        "---\n",
        "\n"
      ],
      "id": "85KMItqiiDpq"
    },
    {
      "cell_type": "code",
      "metadata": {
        "id": "LimIfu3PiDpq",
        "colab": {
          "base_uri": "https://localhost:8080/",
          "height": 487,
          "referenced_widgets": [
            "aaa7f7da3e9b4682a5e0f1cdf6ab38fb",
            "b619b6c4731c4f6096dbf71ebd144716",
            "e14e4cfeea06408e8ae12471812568d2",
            "f5ca627c21f1459d98888a2fa49d7522",
            "82e97556e4f547f4ab2d9d7918048349",
            "76cd8b26627144b88036fb705cc1e751",
            "6f8de88782ac4a14a96abc3fc49b530f"
          ]
        },
        "outputId": "f51cc0cf-6c64-4950-d8dd-b503bd9c4c23"
      },
      "source": [
        "_ = interact(view_df,\n",
        "             dataframe=fixed(data_interact), \n",
        "             column=fixed(column),\n",
        "             item=items)"
      ],
      "id": "LimIfu3PiDpq",
      "execution_count": 29,
      "outputs": [
        {
          "output_type": "display_data",
          "data": {
            "application/vnd.jupyter.widget-view+json": {
              "model_id": "aaa7f7da3e9b4682a5e0f1cdf6ab38fb",
              "version_minor": 0,
              "version_major": 2
            },
            "text/plain": [
              "interactive(children=(Dropdown(description='item', options=('all', 'a', 'b', 'c', 'd'), value='all'), Output()…"
            ]
          },
          "metadata": {}
        }
      ]
    },
    {
      "cell_type": "markdown",
      "metadata": {
        "id": "i3oPNzPOiDpq"
      },
      "source": [
        ""
      ],
      "id": "i3oPNzPOiDpq"
    },
    {
      "cell_type": "code",
      "metadata": {
        "id": "ZrgS9Ny-iDpq"
      },
      "source": [
        "item_select = widgets.Select(options=[\"all\"] + sorted(data_interact[column].unique().tolist()))"
      ],
      "id": "ZrgS9Ny-iDpq",
      "execution_count": 30,
      "outputs": []
    },
    {
      "cell_type": "markdown",
      "metadata": {
        "id": "_aQ2Uvt_iDpr"
      },
      "source": [
        "You can [read more about the available widgets in the\n",
        "documentation](https://ipywidgets.readthedocs.io/en/stable/examples/Widget%20List.html).\n",
        "\n",
        "Let’s make use of the `IntSlider` widget and the `Select` widget to\n",
        "limit the number of rows we display from the data frame. To do this we\n",
        "first introduce a new callback function."
      ],
      "id": "_aQ2Uvt_iDpr"
    },
    {
      "cell_type": "code",
      "metadata": {
        "id": "3u3L4fP8iDpr"
      },
      "source": [
        "def view_df2(dataframe, item=\"all\", column=None, number=3):\n",
        "    if column is None:\n",
        "        column = dataframe.columns[0]\n",
        "    if item==\"all\": \n",
        "        display(dataframe.head(number))\n",
        "    display(dataframe[dataframe[column]==item].head(number))"
      ],
      "id": "3u3L4fP8iDpr",
      "execution_count": 31,
      "outputs": []
    },
    {
      "cell_type": "markdown",
      "metadata": {
        "id": "6paoC1-piDpr"
      },
      "source": [
        "Now we introduce a slider."
      ],
      "id": "6paoC1-piDpr"
    },
    {
      "cell_type": "code",
      "metadata": {
        "id": "cckm9OECiDpr"
      },
      "source": [
        "number_slider = widgets.IntSlider(min=0, max=15, step=1, value=5)\n",
        "item_select = widgets.Select(options=items)"
      ],
      "id": "cckm9OECiDpr",
      "execution_count": 32,
      "outputs": []
    },
    {
      "cell_type": "code",
      "metadata": {
        "id": "sX0jo4aPiDpr",
        "colab": {
          "base_uri": "https://localhost:8080/",
          "height": 364,
          "referenced_widgets": [
            "a95c7916a4924c5aba7693cc7aab8a36",
            "266821df67614b0b938c955eb322059f",
            "b7f10fdd1c374062ae75b1a6abc66bd8",
            "7b9b4383db0c444f824d806257bde032",
            "5453957d44fd430fb2a688c904dcaa30",
            "40c0da25d500435e91b6e25338b05593",
            "38eab61b08be4360845dca3610493ddd",
            "dd2c3a4c93a14cf3937bd546b2828d01",
            "1d0f75cda53547448afb268b59968b96",
            "6e5f1a6ad505477b92c3985cc1749ea6"
          ]
        },
        "outputId": "43fcf7df-11e8-4417-ae9b-a5b957d40f2b"
      },
      "source": [
        "_ = interact(view_df2, dataframe=fixed(data_interact),\n",
        "             column=fixed(\"z\"),\n",
        "             item=item_select,\n",
        "             number=number_slider)"
      ],
      "id": "sX0jo4aPiDpr",
      "execution_count": 33,
      "outputs": [
        {
          "output_type": "display_data",
          "data": {
            "application/vnd.jupyter.widget-view+json": {
              "model_id": "a95c7916a4924c5aba7693cc7aab8a36",
              "version_minor": 0,
              "version_major": 2
            },
            "text/plain": [
              "interactive(children=(Select(description='item', options=('all', 'a', 'b', 'c', 'd'), value='all'), IntSlider(…"
            ]
          },
          "metadata": {}
        }
      ]
    },
    {
      "cell_type": "markdown",
      "metadata": {
        "id": "msZxZoUtiDpr"
      },
      "source": [
        "### Exercise 2\n",
        "\n",
        "Update the interact to have a `FloatSlider` element that filters out\n",
        "elements from column `x` or `y` (by choice) if they are above a\n",
        "particular value."
      ],
      "id": "msZxZoUtiDpr"
    },
    {
      "cell_type": "code",
      "metadata": {
        "id": "2BcUwucGiDpr",
        "colab": {
          "base_uri": "https://localhost:8080/",
          "height": 549,
          "referenced_widgets": [
            "2f9faebf23ea4c458d9bf58a584a9b7a",
            "085599f9aed44f37bf1f4c55358891c4",
            "86d13f831e6649b4acbd71c5e40eba48",
            "e4ba2df40083408fbc890b112d133bf7",
            "ff0797be93134d3f9bde4063d14aec56",
            "d87297588936490c81be0f0b7ebd9d4e",
            "c6f208c1ef964afeb796efc04d6d8023",
            "607895d10e8b490299a0e7c4d952d827",
            "05ec4ed56c794785a079bf9e28864b95",
            "ba3329eee1364107ba7b26d5d6387967"
          ]
        },
        "outputId": "2ab2c7b9-0d59-44d2-9759-673a222b28e4"
      },
      "source": [
        "# Write your answer to Exercise 2 here\n",
        "\n",
        "def view_df3(dataframe, axis=None, maximum_value=500):\n",
        "    if axis is None:\n",
        "        axis = 'x'\n",
        "    display(dataframe.loc[dataframe[axis] <= maximum_value])\n",
        "\n",
        "number_slider3 = widgets.IntSlider(min=0, max=1000, step=1, value=500)\n",
        "item_select3 = widgets.Select(options=['x', 'y'])\n",
        "\n",
        "_ = interact(view_df3, dataframe=fixed(data_interact),\n",
        "             axis=item_select3,\n",
        "             maximum_value=number_slider3)"
      ],
      "id": "2BcUwucGiDpr",
      "execution_count": 34,
      "outputs": [
        {
          "output_type": "display_data",
          "data": {
            "application/vnd.jupyter.widget-view+json": {
              "model_id": "2f9faebf23ea4c458d9bf58a584a9b7a",
              "version_minor": 0,
              "version_major": 2
            },
            "text/plain": [
              "interactive(children=(Select(description='axis', options=('x', 'y'), value='x'), IntSlider(value=500, descript…"
            ]
          },
          "metadata": {}
        }
      ]
    },
    {
      "cell_type": "markdown",
      "metadata": {
        "id": "zvZUgIl1iDps"
      },
      "source": [
        "## Accessing Open Street Map\n",
        "\n",
        "<span class=\"editsection-bracket\" style=\"\">\\[</span><span\n",
        "class=\"editsection\"\n",
        "style=\"\"><a href=\"https://github.com/lawrennd/talks/edit/gh-pages/_maps/includes/open-street-map.md\" target=\"_blank\" onclick=\"ga('send', 'event', 'Edit Page', 'Edit', 'https://github.com/lawrennd/talks/edit/gh-pages/_maps/includes/open-street-map.md', 13);\">edit</a></span><span class=\"editsection-bracket\" style=\"\">\\]</span>"
      ],
      "id": "zvZUgIl1iDps"
    },
    {
      "cell_type": "code",
      "metadata": {
        "id": "Q9NjnFKXiDps",
        "colab": {
          "base_uri": "https://localhost:8080/",
          "height": 938
        },
        "outputId": "c3e1eb89-c9e5-44c9-f1d7-94209ec1282c"
      },
      "source": [
        "%pip install osmnx\n",
        "%pip uninstall --yes matplotlib\n",
        "%pip install matplotlib==3.1.3"
      ],
      "id": "Q9NjnFKXiDps",
      "execution_count": 50,
      "outputs": [
        {
          "output_type": "stream",
          "name": "stdout",
          "text": [
            "Requirement already satisfied: osmnx in /usr/local/lib/python3.7/dist-packages (1.1.1)\n",
            "Requirement already satisfied: pyproj>=2.6 in /usr/local/lib/python3.7/dist-packages (from osmnx) (3.2.1)\n",
            "Requirement already satisfied: Shapely>=1.7 in /usr/local/lib/python3.7/dist-packages (from osmnx) (1.8.0)\n",
            "Requirement already satisfied: requests>=2.25 in /usr/local/lib/python3.7/dist-packages (from osmnx) (2.26.0)\n",
            "Requirement already satisfied: geopandas>=0.9 in /usr/local/lib/python3.7/dist-packages (from osmnx) (0.10.2)\n",
            "Requirement already satisfied: matplotlib>=3.3 in /usr/local/lib/python3.7/dist-packages (from osmnx) (3.4.3)\n",
            "Requirement already satisfied: numpy>=1.19 in /usr/local/lib/python3.7/dist-packages (from osmnx) (1.19.5)\n",
            "Requirement already satisfied: networkx>=2.5 in /usr/local/lib/python3.7/dist-packages (from osmnx) (2.6.3)\n",
            "Requirement already satisfied: Rtree>=0.9 in /usr/local/lib/python3.7/dist-packages (from osmnx) (0.9.7)\n",
            "Requirement already satisfied: pandas>=1.1 in /usr/local/lib/python3.7/dist-packages (from osmnx) (1.1.5)\n",
            "Requirement already satisfied: fiona>=1.8 in /usr/local/lib/python3.7/dist-packages (from geopandas>=0.9->osmnx) (1.8.20)\n",
            "Requirement already satisfied: certifi in /usr/local/lib/python3.7/dist-packages (from fiona>=1.8->geopandas>=0.9->osmnx) (2021.10.8)\n",
            "Requirement already satisfied: click>=4.0 in /usr/local/lib/python3.7/dist-packages (from fiona>=1.8->geopandas>=0.9->osmnx) (7.1.2)\n",
            "Requirement already satisfied: click-plugins>=1.0 in /usr/local/lib/python3.7/dist-packages (from fiona>=1.8->geopandas>=0.9->osmnx) (1.1.1)\n",
            "Requirement already satisfied: attrs>=17 in /usr/local/lib/python3.7/dist-packages (from fiona>=1.8->geopandas>=0.9->osmnx) (21.2.0)\n",
            "Requirement already satisfied: setuptools in /usr/local/lib/python3.7/dist-packages (from fiona>=1.8->geopandas>=0.9->osmnx) (57.4.0)\n",
            "Requirement already satisfied: munch in /usr/local/lib/python3.7/dist-packages (from fiona>=1.8->geopandas>=0.9->osmnx) (2.5.0)\n",
            "Requirement already satisfied: cligj>=0.5 in /usr/local/lib/python3.7/dist-packages (from fiona>=1.8->geopandas>=0.9->osmnx) (0.7.2)\n",
            "Requirement already satisfied: six>=1.7 in /usr/local/lib/python3.7/dist-packages (from fiona>=1.8->geopandas>=0.9->osmnx) (1.15.0)\n",
            "Requirement already satisfied: kiwisolver>=1.0.1 in /usr/local/lib/python3.7/dist-packages (from matplotlib>=3.3->osmnx) (1.3.2)\n",
            "Requirement already satisfied: python-dateutil>=2.7 in /usr/local/lib/python3.7/dist-packages (from matplotlib>=3.3->osmnx) (2.8.2)\n",
            "Requirement already satisfied: cycler>=0.10 in /usr/local/lib/python3.7/dist-packages (from matplotlib>=3.3->osmnx) (0.11.0)\n",
            "Requirement already satisfied: pyparsing>=2.2.1 in /usr/local/lib/python3.7/dist-packages (from matplotlib>=3.3->osmnx) (2.4.7)\n",
            "Requirement already satisfied: pillow>=6.2.0 in /usr/local/lib/python3.7/dist-packages (from matplotlib>=3.3->osmnx) (7.1.2)\n",
            "Requirement already satisfied: pytz>=2017.2 in /usr/local/lib/python3.7/dist-packages (from pandas>=1.1->osmnx) (2018.9)\n",
            "Requirement already satisfied: charset-normalizer~=2.0.0 in /usr/local/lib/python3.7/dist-packages (from requests>=2.25->osmnx) (2.0.7)\n",
            "Requirement already satisfied: idna<4,>=2.5 in /usr/local/lib/python3.7/dist-packages (from requests>=2.25->osmnx) (2.10)\n",
            "Requirement already satisfied: urllib3<1.27,>=1.21.1 in /usr/local/lib/python3.7/dist-packages (from requests>=2.25->osmnx) (1.24.3)\n",
            "Found existing installation: matplotlib 3.4.3\n",
            "Uninstalling matplotlib-3.4.3:\n",
            "  Successfully uninstalled matplotlib-3.4.3\n",
            "Collecting matplotlib==3.1.3\n",
            "  Using cached matplotlib-3.1.3-cp37-cp37m-manylinux1_x86_64.whl (13.1 MB)\n",
            "Requirement already satisfied: cycler>=0.10 in /usr/local/lib/python3.7/dist-packages (from matplotlib==3.1.3) (0.11.0)\n",
            "Requirement already satisfied: kiwisolver>=1.0.1 in /usr/local/lib/python3.7/dist-packages (from matplotlib==3.1.3) (1.3.2)\n",
            "Requirement already satisfied: pyparsing!=2.0.4,!=2.1.2,!=2.1.6,>=2.0.1 in /usr/local/lib/python3.7/dist-packages (from matplotlib==3.1.3) (2.4.7)\n",
            "Requirement already satisfied: python-dateutil>=2.1 in /usr/local/lib/python3.7/dist-packages (from matplotlib==3.1.3) (2.8.2)\n",
            "Requirement already satisfied: numpy>=1.11 in /usr/local/lib/python3.7/dist-packages (from matplotlib==3.1.3) (1.19.5)\n",
            "Requirement already satisfied: six>=1.5 in /usr/local/lib/python3.7/dist-packages (from python-dateutil>=2.1->matplotlib==3.1.3) (1.15.0)\n",
            "Installing collected packages: matplotlib\n",
            "\u001b[31mERROR: pip's dependency resolver does not currently take into account all the packages that are installed. This behaviour is the source of the following dependency conflicts.\n",
            "osmnx 1.1.1 requires matplotlib>=3.3, but you have matplotlib 3.1.3 which is incompatible.\n",
            "albumentations 0.1.12 requires imgaug<0.2.7,>=0.2.5, but you have imgaug 0.2.9 which is incompatible.\u001b[0m\n",
            "Successfully installed matplotlib-3.1.3\n"
          ]
        },
        {
          "output_type": "stream",
          "name": "stderr",
          "text": [
            "/usr/local/lib/python3.7/dist-packages/google/colab/_pip.py:87: ResourceWarning: unclosed file <_io.TextIOWrapper name='/usr/local/lib/python3.7/dist-packages/matplotlib-3.1.3.dist-info/top_level.txt' mode='r' encoding='UTF-8'>\n",
            "  for line in open(toplevel):\n",
            "ResourceWarning: Enable tracemalloc to get the object allocation traceback\n"
          ]
        },
        {
          "output_type": "display_data",
          "data": {
            "application/vnd.colab-display-data+json": {
              "pip_warning": {
                "packages": [
                  "matplotlib",
                  "mpl_toolkits"
                ]
              }
            }
          },
          "metadata": {}
        }
      ]
    },
    {
      "cell_type": "code",
      "metadata": {
        "id": "oPIzt6nPiDps"
      },
      "source": [
        "import osmnx as ox\n",
        "import matplotlib.pyplot as plt"
      ],
      "id": "oPIzt6nPiDps",
      "execution_count": 51,
      "outputs": []
    },
    {
      "cell_type": "markdown",
      "metadata": {
        "id": "vYdKA4PqiDps"
      },
      "source": [
        "We will center out download on the city of Kamplala, Uganda, which has\n",
        "the following latitude and longitude."
      ],
      "id": "vYdKA4PqiDps"
    },
    {
      "cell_type": "code",
      "metadata": {
        "id": "r-Lg22GiiDps"
      },
      "source": [
        "place_name = \"Kampala, Uganda\"\n",
        "\n",
        "latitude = 0.347596 # Kampala latitude\n",
        "longitude = 32.582520 # Kampala longitude"
      ],
      "id": "r-Lg22GiiDps",
      "execution_count": 52,
      "outputs": []
    },
    {
      "cell_type": "code",
      "metadata": {
        "id": "5JxlLA49iDps"
      },
      "source": [
        "placestub = place_name.lower().replace(' ', '-').replace(',','')"
      ],
      "id": "5JxlLA49iDps",
      "execution_count": 53,
      "outputs": []
    },
    {
      "cell_type": "markdown",
      "metadata": {
        "id": "Nyuhb7w4iDps"
      },
      "source": [
        "We’ll create a bounding box which is 0.02 degrees wide, 1 degree is\n",
        "around 111km ([circumference of the Earth is around 40,000\n",
        "km](https://en.wikipedia.org/wiki/Metre) and 40,000/360=111km)."
      ],
      "id": "Nyuhb7w4iDps"
    },
    {
      "cell_type": "code",
      "metadata": {
        "id": "RzsGmfQbiDps"
      },
      "source": [
        "box_width = 0.02 # About 2.2 km\n",
        "box_height = 0.02\n",
        "north = latitude + box_height/2\n",
        "south = latitude - box_width/2\n",
        "west = longitude - box_width/2\n",
        "east = longitude + box_width/2"
      ],
      "id": "RzsGmfQbiDps",
      "execution_count": 54,
      "outputs": []
    },
    {
      "cell_type": "markdown",
      "metadata": {
        "id": "JYbCkw-tiDps"
      },
      "source": [
        "Now we’ll download a set of points of interest from OpenStreetMap. We\n",
        "can specify the points of interest we’re interested in by building a\n",
        "small dictionary containing their labels as follows."
      ],
      "id": "JYbCkw-tiDps"
    },
    {
      "cell_type": "code",
      "metadata": {
        "id": "VYD1uugpiDps"
      },
      "source": [
        "# Retrieve POIs\n",
        "tags = {\"amenity\": True, \n",
        "        \"buildings\": True, \n",
        "        \"historic\": True, \n",
        "        \"leisure\": True, \n",
        "        \"shop\": True, \n",
        "        \"tourism\": True}"
      ],
      "id": "VYD1uugpiDps",
      "execution_count": 55,
      "outputs": []
    },
    {
      "cell_type": "markdown",
      "metadata": {
        "id": "a2OybdaaiDpt"
      },
      "source": [
        "Now we can use `osmx` to download all such points of interest within a\n",
        "given bounding box."
      ],
      "id": "a2OybdaaiDpt"
    },
    {
      "cell_type": "code",
      "metadata": {
        "id": "WLEF_nEYiDpt",
        "colab": {
          "base_uri": "https://localhost:8080/"
        },
        "outputId": "e7a413b7-eaa7-4745-f190-5b8e94785a2c"
      },
      "source": [
        "pois = ox.geometries_from_bbox(north, south, east, west, tags)"
      ],
      "id": "WLEF_nEYiDpt",
      "execution_count": 56,
      "outputs": [
        {
          "output_type": "stream",
          "name": "stderr",
          "text": [
            "/usr/local/lib/python3.7/dist-packages/osmnx/utils_geo.py:335: ShapelyDeprecationWarning: Iteration over multi-part geometries is deprecated and will be removed in Shapely 2.0. Use the `geoms` property to access the constituent parts of a multi-part geometry.\n",
            "  for polygon in geometry:\n",
            "/usr/local/lib/python3.7/dist-packages/osmnx/utils_geo.py:426: ShapelyDeprecationWarning: Iteration over multi-part geometries is deprecated and will be removed in Shapely 2.0. Use the `geoms` property to access the constituent parts of a multi-part geometry.\n",
            "  for poly in multipoly:\n"
          ]
        }
      ]
    },
    {
      "cell_type": "markdown",
      "metadata": {
        "id": "tnTtSU1iiDpt"
      },
      "source": [
        "That operation can take some time, particularly as the bounding box\n",
        "grows larger. Once it is complete we can check how many points of\n",
        "interest we have found."
      ],
      "id": "tnTtSU1iiDpt"
    },
    {
      "cell_type": "code",
      "metadata": {
        "id": "3LpMiBsBiDpt",
        "colab": {
          "base_uri": "https://localhost:8080/"
        },
        "outputId": "3ee9a5f3-3896-4e69-9707-29186fd8e956"
      },
      "source": [
        "print(\"There are {number} points of interest surrounding {placename} latitude: {latitude}, longitude: {longitude}\".format(number=len(pois), placename=place_name, latitude=latitude, longitude=longitude))"
      ],
      "id": "3LpMiBsBiDpt",
      "execution_count": 57,
      "outputs": [
        {
          "output_type": "stream",
          "name": "stdout",
          "text": [
            "There are 824 points of interest surrounding Kampala, Uganda latitude: 0.347596, longitude: 32.58252\n"
          ]
        }
      ]
    },
    {
      "cell_type": "markdown",
      "metadata": {
        "id": "Ki4qAmIEiDpt"
      },
      "source": [
        "And then we can examine their contents in more detail."
      ],
      "id": "Ki4qAmIEiDpt"
    },
    {
      "cell_type": "code",
      "metadata": {
        "id": "v9D5QeJtiDpt",
        "colab": {
          "base_uri": "https://localhost:8080/"
        },
        "outputId": "3b61a30a-4b6d-4679-db6b-ef23772cfde1"
      },
      "source": [
        "pois.info"
      ],
      "id": "v9D5QeJtiDpt",
      "execution_count": 58,
      "outputs": [
        {
          "output_type": "execute_result",
          "data": {
            "text/plain": [
              "<bound method DataFrame.info of                              amenity  cuisine  ... guest_house smoking\n",
              "element_type osmid                             ...                    \n",
              "node         599171967    restaurant  mexican  ...         NaN     NaN\n",
              "             599171968           NaN      NaN  ...         NaN     NaN\n",
              "             599171969           NaN      NaN  ...         NaN     NaN\n",
              "             599171971      pharmacy      NaN  ...         NaN     NaN\n",
              "             601370312          fuel      NaN  ...         NaN     NaN\n",
              "...                              ...      ...  ...         ...     ...\n",
              "way          749930994       parking      NaN  ...         NaN     NaN\n",
              "             856274788  kindergarten      NaN  ...         NaN     NaN\n",
              "             856274789  kindergarten      NaN  ...         NaN     NaN\n",
              "             858227179           NaN      NaN  ...         NaN     NaN\n",
              "             932375082           NaN      NaN  ...         NaN     NaN\n",
              "\n",
              "[824 rows x 109 columns]>"
            ]
          },
          "metadata": {},
          "execution_count": 58
        }
      ]
    },
    {
      "cell_type": "markdown",
      "metadata": {
        "id": "iIqe-dlAiDpt"
      },
      "source": [
        "We notice a few things.\n",
        "\n",
        "---\n",
        "\n",
        "\n",
        "\n",
        "1.  Points of interest do not have a consistent OpenStreetMap\n",
        "    `element_type`, some are `node`, others are `relation` and we also\n",
        "    have `way`. You can find out more about elements in OpenStreetMap on\n",
        "    [this wiki page](https://wiki.openstreetmap.org/wiki/Elements). This\n",
        "    will become important when tidying up the data for next stage\n",
        "    processing.\n",
        "\n",
        "2.  Many of the values are missing. In SQL we would express a missing\n",
        "    value as `NULL`. But in `pandas` a missing value is expressed as\n",
        "    not-a-number, `NaN`. This is quite a common standard, but it is not\n",
        "    the only standard. Sometimes data is collected and coded with an\n",
        "    “unreasonable” value for a missing value. For example, someone might\n",
        "    set missing values for heights to -999. The concept is that this is\n",
        "    an obviously void “height” and would trigger a human user to check\n",
        "    whether it’s a missing value. Of course, this is obvious to humans,\n",
        "    but not necessarily to a computer!\n",
        "\n",
        "Nodes, ways and relations in OpenStreetMap all have different *keys*\n",
        "associated with them. The data is not structured in standard database\n",
        "columns. Different points of interest might have different keys present\n",
        "or absent. The `gdf` we recover places these keys in its columns, but if\n",
        "\n",
        "So we might be interested in the following keys."
      ],
      "id": "iIqe-dlAiDpt"
    },
    {
      "cell_type": "code",
      "metadata": {
        "id": "u0fNFjRsiDpt"
      },
      "source": [
        "keys = [\"name\",\n",
        "        \"addr:city\",\n",
        "        \"addr:postcode\",\n",
        "        \"amenity\",\n",
        "        \"building\",\n",
        "        \"building:name\",\n",
        "        \"building:colour\",\n",
        "        \"building:material\",\n",
        "        \"historic\",\n",
        "    \"memorial\",\n",
        "        \"religion\",\n",
        "        \"tourism\",\n",
        "        \"emergency\",\n",
        "        \"leisure\",\n",
        "        \"shop\"]"
      ],
      "id": "u0fNFjRsiDpt",
      "execution_count": 59,
      "outputs": []
    },
    {
      "cell_type": "markdown",
      "metadata": {
        "id": "CyFvJINbiDpt"
      },
      "source": [
        "But our downloaded `gdf` may have fewer keys."
      ],
      "id": "CyFvJINbiDpt"
    },
    {
      "cell_type": "code",
      "metadata": {
        "id": "KkQa-ClIiDpt",
        "colab": {
          "base_uri": "https://localhost:8080/"
        },
        "outputId": "14dec215-964b-46a3-8155-37e2e447dcff"
      },
      "source": [
        "pois.columns.values"
      ],
      "id": "KkQa-ClIiDpt",
      "execution_count": 60,
      "outputs": [
        {
          "output_type": "execute_result",
          "data": {
            "text/plain": [
              "array(['amenity', 'cuisine', 'name', 'phone', 'website', 'geometry',\n",
              "       'shop', 'brand', 'brand:wikidata', 'brand:wikipedia', 'capacity',\n",
              "       'healthcare', 'addr:city', 'addr:country', 'addr:housenumber',\n",
              "       'addr:street', 'branch', 'note', 'opening_hours', 'wheelchair',\n",
              "       'designation', 'atm', 'operator', 'internet_access',\n",
              "       'outdoor_seating', 'alt_name', 'drive_through', 'level',\n",
              "       'takeaway', 'email', 'tourism', 'contact:email',\n",
              "       'contact:facebook', 'contact:instagram', 'contact:phone',\n",
              "       'internet_access:fee', 'facebook', 'network', 'short_name',\n",
              "       'fixme', 'addr:suburb', 'office', 'leisure', 'sport', 'lit',\n",
              "       'parking', 'supervised', 'surface', 'addr:flats', 'covered', 'fee',\n",
              "       'female', 'male', 'contact:website', 'description', 'bed_count',\n",
              "       'check_date:opening_hours', 'wikidata', 'name:en', 'building',\n",
              "       'function', 'religion', 'information', 'name:de', 'access',\n",
              "       'addr:place', 'legal', 'recycling_type', 'waste', 'operator:type',\n",
              "       'backrest', 'addr:county', 'addr:district', 'addr:parish',\n",
              "       'addr:subcounty', 'isced:level', 'operational_status', 'source',\n",
              "       'staff_count:teachers', 'start_date', 'type', 'ref',\n",
              "       'bicycle_parking', 'place:village', 'beds', 'capacity:inpatient',\n",
              "       'capacity:outpatient', 'staff_count:doctors', 'staff_count:nurses',\n",
              "       'toilets', 'toilets:access', 'toilets:num_chambers',\n",
              "       'generator:source', 'emergency', 'contact', 'operational', 'nodes',\n",
              "       'wikipedia', 'source:date', 'community_centre', 'denomination',\n",
              "       'bus', 'public_transport', 'building:levels', 'multipurpose',\n",
              "       'contact:twitter', 'rooms', 'guest_house', 'smoking'], dtype=object)"
            ]
          },
          "metadata": {},
          "execution_count": 60
        }
      ]
    },
    {
      "cell_type": "markdown",
      "metadata": {
        "id": "27u5cgkOiDpu"
      },
      "source": [
        "We can write a short piece of code to discover which keys are missing\n",
        "drom the data frame’s columns."
      ],
      "id": "27u5cgkOiDpu"
    },
    {
      "cell_type": "code",
      "metadata": {
        "id": "V_Lr58OOiDpu",
        "colab": {
          "base_uri": "https://localhost:8080/",
          "height": 558
        },
        "outputId": "64a9f00a-481f-413d-fde8-002009454063"
      },
      "source": [
        "for key in keys:\n",
        "    if key not in pois.columns:\n",
        "        print(key)\n",
        "        \n",
        "present_keys = [key for key in keys if key in pois.columns]\n",
        "pois[present_keys]"
      ],
      "id": "V_Lr58OOiDpu",
      "execution_count": 61,
      "outputs": [
        {
          "output_type": "stream",
          "name": "stdout",
          "text": [
            "addr:postcode\n",
            "building:name\n",
            "building:colour\n",
            "building:material\n",
            "historic\n",
            "memorial\n"
          ]
        },
        {
          "output_type": "execute_result",
          "data": {
            "text/html": [
              "<div>\n",
              "<style scoped>\n",
              "    .dataframe tbody tr th:only-of-type {\n",
              "        vertical-align: middle;\n",
              "    }\n",
              "\n",
              "    .dataframe tbody tr th {\n",
              "        vertical-align: top;\n",
              "    }\n",
              "\n",
              "    .dataframe thead th {\n",
              "        text-align: right;\n",
              "    }\n",
              "</style>\n",
              "<table border=\"1\" class=\"dataframe\">\n",
              "  <thead>\n",
              "    <tr style=\"text-align: right;\">\n",
              "      <th></th>\n",
              "      <th></th>\n",
              "      <th>name</th>\n",
              "      <th>addr:city</th>\n",
              "      <th>amenity</th>\n",
              "      <th>building</th>\n",
              "      <th>religion</th>\n",
              "      <th>tourism</th>\n",
              "      <th>emergency</th>\n",
              "      <th>leisure</th>\n",
              "      <th>shop</th>\n",
              "    </tr>\n",
              "    <tr>\n",
              "      <th>element_type</th>\n",
              "      <th>osmid</th>\n",
              "      <th></th>\n",
              "      <th></th>\n",
              "      <th></th>\n",
              "      <th></th>\n",
              "      <th></th>\n",
              "      <th></th>\n",
              "      <th></th>\n",
              "      <th></th>\n",
              "      <th></th>\n",
              "    </tr>\n",
              "  </thead>\n",
              "  <tbody>\n",
              "    <tr>\n",
              "      <th rowspan=\"5\" valign=\"top\">node</th>\n",
              "      <th>599171967</th>\n",
              "      <td>Que Pasa</td>\n",
              "      <td>NaN</td>\n",
              "      <td>restaurant</td>\n",
              "      <td>NaN</td>\n",
              "      <td>NaN</td>\n",
              "      <td>NaN</td>\n",
              "      <td>NaN</td>\n",
              "      <td>NaN</td>\n",
              "      <td>NaN</td>\n",
              "    </tr>\n",
              "    <tr>\n",
              "      <th>599171968</th>\n",
              "      <td>Millennium Supermarket</td>\n",
              "      <td>NaN</td>\n",
              "      <td>NaN</td>\n",
              "      <td>NaN</td>\n",
              "      <td>NaN</td>\n",
              "      <td>NaN</td>\n",
              "      <td>NaN</td>\n",
              "      <td>NaN</td>\n",
              "      <td>supermarket</td>\n",
              "    </tr>\n",
              "    <tr>\n",
              "      <th>599171969</th>\n",
              "      <td>Checkers</td>\n",
              "      <td>NaN</td>\n",
              "      <td>NaN</td>\n",
              "      <td>NaN</td>\n",
              "      <td>NaN</td>\n",
              "      <td>NaN</td>\n",
              "      <td>NaN</td>\n",
              "      <td>NaN</td>\n",
              "      <td>supermarket</td>\n",
              "    </tr>\n",
              "    <tr>\n",
              "      <th>599171971</th>\n",
              "      <td>Makro Pharmacy (U) Ltd.</td>\n",
              "      <td>NaN</td>\n",
              "      <td>pharmacy</td>\n",
              "      <td>NaN</td>\n",
              "      <td>NaN</td>\n",
              "      <td>NaN</td>\n",
              "      <td>NaN</td>\n",
              "      <td>NaN</td>\n",
              "      <td>NaN</td>\n",
              "    </tr>\n",
              "    <tr>\n",
              "      <th>601370312</th>\n",
              "      <td>Kobil</td>\n",
              "      <td>NaN</td>\n",
              "      <td>fuel</td>\n",
              "      <td>NaN</td>\n",
              "      <td>NaN</td>\n",
              "      <td>NaN</td>\n",
              "      <td>NaN</td>\n",
              "      <td>NaN</td>\n",
              "      <td>NaN</td>\n",
              "    </tr>\n",
              "    <tr>\n",
              "      <th>...</th>\n",
              "      <th>...</th>\n",
              "      <td>...</td>\n",
              "      <td>...</td>\n",
              "      <td>...</td>\n",
              "      <td>...</td>\n",
              "      <td>...</td>\n",
              "      <td>...</td>\n",
              "      <td>...</td>\n",
              "      <td>...</td>\n",
              "      <td>...</td>\n",
              "    </tr>\n",
              "    <tr>\n",
              "      <th rowspan=\"5\" valign=\"top\">way</th>\n",
              "      <th>749930994</th>\n",
              "      <td>NaN</td>\n",
              "      <td>NaN</td>\n",
              "      <td>parking</td>\n",
              "      <td>NaN</td>\n",
              "      <td>NaN</td>\n",
              "      <td>NaN</td>\n",
              "      <td>NaN</td>\n",
              "      <td>NaN</td>\n",
              "      <td>NaN</td>\n",
              "    </tr>\n",
              "    <tr>\n",
              "      <th>856274788</th>\n",
              "      <td>Early childhood learning center</td>\n",
              "      <td>NaN</td>\n",
              "      <td>kindergarten</td>\n",
              "      <td>yes</td>\n",
              "      <td>NaN</td>\n",
              "      <td>NaN</td>\n",
              "      <td>NaN</td>\n",
              "      <td>NaN</td>\n",
              "      <td>NaN</td>\n",
              "    </tr>\n",
              "    <tr>\n",
              "      <th>856274789</th>\n",
              "      <td>Early childhood learning center</td>\n",
              "      <td>NaN</td>\n",
              "      <td>kindergarten</td>\n",
              "      <td>yes</td>\n",
              "      <td>NaN</td>\n",
              "      <td>NaN</td>\n",
              "      <td>NaN</td>\n",
              "      <td>NaN</td>\n",
              "      <td>NaN</td>\n",
              "    </tr>\n",
              "    <tr>\n",
              "      <th>858227179</th>\n",
              "      <td>Salon city</td>\n",
              "      <td>NaN</td>\n",
              "      <td>NaN</td>\n",
              "      <td>yes</td>\n",
              "      <td>NaN</td>\n",
              "      <td>NaN</td>\n",
              "      <td>NaN</td>\n",
              "      <td>NaN</td>\n",
              "      <td>hairdresser</td>\n",
              "    </tr>\n",
              "    <tr>\n",
              "      <th>932375082</th>\n",
              "      <td>NaN</td>\n",
              "      <td>NaN</td>\n",
              "      <td>NaN</td>\n",
              "      <td>yes</td>\n",
              "      <td>NaN</td>\n",
              "      <td>NaN</td>\n",
              "      <td>NaN</td>\n",
              "      <td>pitch</td>\n",
              "      <td>NaN</td>\n",
              "    </tr>\n",
              "  </tbody>\n",
              "</table>\n",
              "<p>824 rows × 9 columns</p>\n",
              "</div>"
            ],
            "text/plain": [
              "                                                   name  ...         shop\n",
              "element_type osmid                                       ...             \n",
              "node         599171967                         Que Pasa  ...          NaN\n",
              "             599171968           Millennium Supermarket  ...  supermarket\n",
              "             599171969                         Checkers  ...  supermarket\n",
              "             599171971          Makro Pharmacy (U) Ltd.  ...          NaN\n",
              "             601370312                            Kobil  ...          NaN\n",
              "...                                                 ...  ...          ...\n",
              "way          749930994                              NaN  ...          NaN\n",
              "             856274788  Early childhood learning center  ...          NaN\n",
              "             856274789  Early childhood learning center  ...          NaN\n",
              "             858227179                       Salon city  ...  hairdresser\n",
              "             932375082                              NaN  ...          NaN\n",
              "\n",
              "[824 rows x 9 columns]"
            ]
          },
          "metadata": {},
          "execution_count": 61
        }
      ]
    },
    {
      "cell_type": "markdown",
      "metadata": {
        "id": "nuigpheMiDpu"
      },
      "source": [
        "This gives us the relevant points of interest (part of the map). If we’d\n",
        "like to see the entire street network, we can download the entire graph\n",
        "from the location."
      ],
      "id": "nuigpheMiDpu"
    },
    {
      "cell_type": "code",
      "metadata": {
        "id": "UoVHxd-YiDpu",
        "colab": {
          "base_uri": "https://localhost:8080/"
        },
        "outputId": "844223ad-93b6-4f3a-8293-1e9ed8a8fecb"
      },
      "source": [
        "graph = ox.graph_from_bbox(north, south, east, west)\n",
        "\n",
        "# Retrieve nodes and edges\n",
        "nodes, edges = ox.graph_to_gdfs(graph)\n",
        "\n",
        "# Get place boundary related to the place name as a geodataframe\n",
        "area = ox.geocode_to_gdf(place_name)"
      ],
      "id": "UoVHxd-YiDpu",
      "execution_count": 62,
      "outputs": [
        {
          "output_type": "stream",
          "name": "stderr",
          "text": [
            "/usr/local/lib/python3.7/dist-packages/osmnx/utils_geo.py:335: ShapelyDeprecationWarning: Iteration over multi-part geometries is deprecated and will be removed in Shapely 2.0. Use the `geoms` property to access the constituent parts of a multi-part geometry.\n",
            "  for polygon in geometry:\n",
            "/usr/local/lib/python3.7/dist-packages/osmnx/utils_geo.py:426: ShapelyDeprecationWarning: Iteration over multi-part geometries is deprecated and will be removed in Shapely 2.0. Use the `geoms` property to access the constituent parts of a multi-part geometry.\n",
            "  for poly in multipoly:\n",
            "/usr/local/lib/python3.7/dist-packages/osmnx/utils_geo.py:426: ShapelyDeprecationWarning: Iteration over multi-part geometries is deprecated and will be removed in Shapely 2.0. Use the `geoms` property to access the constituent parts of a multi-part geometry.\n",
            "  for poly in multipoly:\n"
          ]
        }
      ]
    },
    {
      "cell_type": "markdown",
      "metadata": {
        "id": "A91Q1wMRiDpu"
      },
      "source": [
        "Which we can then render as follows."
      ],
      "id": "A91Q1wMRiDpu"
    },
    {
      "cell_type": "code",
      "metadata": {
        "id": "ou8iKY5ZiDpu"
      },
      "source": [
        "import matplotlib.pyplot as plt\n",
        "import mlai\n",
        "import mlai.plot as plot"
      ],
      "id": "ou8iKY5ZiDpu",
      "execution_count": 63,
      "outputs": []
    },
    {
      "cell_type": "code",
      "metadata": {
        "id": "TlJkh2XHiDpu",
        "colab": {
          "base_uri": "https://localhost:8080/",
          "height": 449
        },
        "outputId": "7d35769c-f7a3-4f13-dea7-6f6920c85106"
      },
      "source": [
        "fig, ax = plt.subplots(figsize=plot.big_figsize)\n",
        "\n",
        "# Plot the footprint\n",
        "area.plot(ax=ax, facecolor=\"white\")\n",
        "\n",
        "# Plot street edges\n",
        "edges.plot(ax=ax, linewidth=1, edgecolor=\"dimgray\")\n",
        "\n",
        "ax.set_xlim([west, east])\n",
        "ax.set_ylim([south, north])\n",
        "ax.set_xlabel(\"longitude\")\n",
        "ax.set_ylabel(\"latitude\")\n",
        "\n",
        "# Plot all POIs \n",
        "pois.plot(ax=ax, color=\"blue\", alpha=0.7, markersize=10)\n",
        "plt.tight_layout()\n",
        "mlai.write_figure(directory=\"./maps\", filename=\"kampala-uganda-pois.svg\")"
      ],
      "id": "TlJkh2XHiDpu",
      "execution_count": 64,
      "outputs": [
        {
          "output_type": "display_data",
          "data": {
            "image/png": "[encoded data removed]",
            "text/plain": [
              "<Figure size 504x504 with 1 Axes>"
            ]
          },
          "metadata": {
            "needs_background": "light"
          }
        }
      ]
    },
    {
      "cell_type": "markdown",
      "metadata": {
        "id": "SaH4C4asiDpu"
      },
      "source": [
        "<img src=\"https://mlatcl.github.io/ads/./slides/diagrams//maps/kampala-uganda-pois.svg\" class=\"\" width=\"70%\" style=\"vertical-align:middle;\">\n",
        "\n",
        "Figure: <i>Points of Interest as identified in Open Street Map.</i>"
      ],
      "id": "SaH4C4asiDpu"
    },
    {
      "cell_type": "code",
      "metadata": {
        "id": "aCp8SkzziDpu"
      },
      "source": [
        "tourist_places = pois[pois.tourism.notnull()]"
      ],
      "id": "aCp8SkzziDpu",
      "execution_count": 65,
      "outputs": []
    },
    {
      "cell_type": "code",
      "metadata": {
        "id": "cWjgRFU4iDpv",
        "colab": {
          "base_uri": "https://localhost:8080/",
          "height": 449
        },
        "outputId": "58e7388c-284f-4566-80ba-772d8f0634db"
      },
      "source": [
        "# Plot a subset of the POIs (e.g., tourist places)\n",
        "# Create figure\n",
        "fig, ax = plt.subplots(figsize=plot.big_figsize)\n",
        "\n",
        "# Plot the footprint\n",
        "area.plot(ax=ax, facecolor=\"white\")\n",
        "\n",
        "# Plot street edges\n",
        "edges.plot(ax=ax, linewidth=1, edgecolor=\"dimgray\")\n",
        "\n",
        "ax.set_xlim([west, east])\n",
        "ax.set_ylim([south, north])\n",
        "ax.set_xlabel(\"longitude\")\n",
        "ax.set_ylabel(\"latitude\")\n",
        "\n",
        "# Plot tourist places \n",
        "tourist_places.plot(ax=ax, color=\"blue\", alpha=1, markersize=50)\n",
        "plt.tight_layout()\n",
        "mlai.write_figure(directory=\"./maps\", filename=\"kampala-uganda-tourist-sites.svg\")"
      ],
      "id": "cWjgRFU4iDpv",
      "execution_count": 66,
      "outputs": [
        {
          "output_type": "display_data",
          "data": {
            "image/png": "[encoded data removed]",
            "text/plain": [
              "<Figure size 504x504 with 1 Axes>"
            ]
          },
          "metadata": {
            "needs_background": "light"
          }
        }
      ]
    },
    {
      "cell_type": "markdown",
      "metadata": {
        "id": "FqtpYpZ4iDpv"
      },
      "source": [
        "<img src=\"https://mlatcl.github.io/ads/./slides/diagrams//maps/kampala-uganda-tourist-sites.svg\" class=\"\" width=\"70%\" style=\"vertical-align:middle;\">\n",
        "\n",
        "\n",
        "Figure: <i>Tourist sites identified as Points of Interest in Open Street\n",
        "Map.</i>\n",
        "\n",
        "We have the POIs that are associated with tourist places in a\n",
        "geodataframe. To work with them in a machine learning algorithm, it will\n",
        "be easier to conveert them to a `pandas` DataFrame. This means dealing\n",
        "with the geometry. If we examine the POIs."
      ],
      "id": "FqtpYpZ4iDpv"
    },
    {
      "cell_type": "code",
      "metadata": {
        "id": "AdpA0CRUiDpv",
        "colab": {
          "base_uri": "https://localhost:8080/",
          "height": 1000
        },
        "outputId": "b10149be-c93e-487a-e5aa-087ed24970e3"
      },
      "source": [
        "tourist_places.loc[\"node\"]"
      ],
      "id": "AdpA0CRUiDpv",
      "execution_count": 67,
      "outputs": [
        {
          "output_type": "execute_result",
          "data": {
            "text/html": [
              "<div>\n",
              "<style scoped>\n",
              "    .dataframe tbody tr th:only-of-type {\n",
              "        vertical-align: middle;\n",
              "    }\n",
              "\n",
              "    .dataframe tbody tr th {\n",
              "        vertical-align: top;\n",
              "    }\n",
              "\n",
              "    .dataframe thead th {\n",
              "        text-align: right;\n",
              "    }\n",
              "</style>\n",
              "<table border=\"1\" class=\"dataframe\">\n",
              "  <thead>\n",
              "    <tr style=\"text-align: right;\">\n",
              "      <th></th>\n",
              "      <th>amenity</th>\n",
              "      <th>cuisine</th>\n",
              "      <th>name</th>\n",
              "      <th>phone</th>\n",
              "      <th>website</th>\n",
              "      <th>geometry</th>\n",
              "      <th>shop</th>\n",
              "      <th>brand</th>\n",
              "      <th>brand:wikidata</th>\n",
              "      <th>brand:wikipedia</th>\n",
              "      <th>capacity</th>\n",
              "      <th>healthcare</th>\n",
              "      <th>addr:city</th>\n",
              "      <th>addr:country</th>\n",
              "      <th>addr:housenumber</th>\n",
              "      <th>addr:street</th>\n",
              "      <th>branch</th>\n",
              "      <th>note</th>\n",
              "      <th>opening_hours</th>\n",
              "      <th>wheelchair</th>\n",
              "      <th>designation</th>\n",
              "      <th>atm</th>\n",
              "      <th>operator</th>\n",
              "      <th>internet_access</th>\n",
              "      <th>outdoor_seating</th>\n",
              "      <th>alt_name</th>\n",
              "      <th>drive_through</th>\n",
              "      <th>level</th>\n",
              "      <th>takeaway</th>\n",
              "      <th>email</th>\n",
              "      <th>tourism</th>\n",
              "      <th>contact:email</th>\n",
              "      <th>contact:facebook</th>\n",
              "      <th>contact:instagram</th>\n",
              "      <th>contact:phone</th>\n",
              "      <th>internet_access:fee</th>\n",
              "      <th>facebook</th>\n",
              "      <th>network</th>\n",
              "      <th>short_name</th>\n",
              "      <th>fixme</th>\n",
              "      <th>...</th>\n",
              "      <th>operator:type</th>\n",
              "      <th>backrest</th>\n",
              "      <th>addr:county</th>\n",
              "      <th>addr:district</th>\n",
              "      <th>addr:parish</th>\n",
              "      <th>addr:subcounty</th>\n",
              "      <th>isced:level</th>\n",
              "      <th>operational_status</th>\n",
              "      <th>source</th>\n",
              "      <th>staff_count:teachers</th>\n",
              "      <th>start_date</th>\n",
              "      <th>type</th>\n",
              "      <th>ref</th>\n",
              "      <th>bicycle_parking</th>\n",
              "      <th>place:village</th>\n",
              "      <th>beds</th>\n",
              "      <th>capacity:inpatient</th>\n",
              "      <th>capacity:outpatient</th>\n",
              "      <th>staff_count:doctors</th>\n",
              "      <th>staff_count:nurses</th>\n",
              "      <th>toilets</th>\n",
              "      <th>toilets:access</th>\n",
              "      <th>toilets:num_chambers</th>\n",
              "      <th>generator:source</th>\n",
              "      <th>emergency</th>\n",
              "      <th>contact</th>\n",
              "      <th>operational</th>\n",
              "      <th>nodes</th>\n",
              "      <th>wikipedia</th>\n",
              "      <th>source:date</th>\n",
              "      <th>community_centre</th>\n",
              "      <th>denomination</th>\n",
              "      <th>bus</th>\n",
              "      <th>public_transport</th>\n",
              "      <th>building:levels</th>\n",
              "      <th>multipurpose</th>\n",
              "      <th>contact:twitter</th>\n",
              "      <th>rooms</th>\n",
              "      <th>guest_house</th>\n",
              "      <th>smoking</th>\n",
              "    </tr>\n",
              "    <tr>\n",
              "      <th>osmid</th>\n",
              "      <th></th>\n",
              "      <th></th>\n",
              "      <th></th>\n",
              "      <th></th>\n",
              "      <th></th>\n",
              "      <th></th>\n",
              "      <th></th>\n",
              "      <th></th>\n",
              "      <th></th>\n",
              "      <th></th>\n",
              "      <th></th>\n",
              "      <th></th>\n",
              "      <th></th>\n",
              "      <th></th>\n",
              "      <th></th>\n",
              "      <th></th>\n",
              "      <th></th>\n",
              "      <th></th>\n",
              "      <th></th>\n",
              "      <th></th>\n",
              "      <th></th>\n",
              "      <th></th>\n",
              "      <th></th>\n",
              "      <th></th>\n",
              "      <th></th>\n",
              "      <th></th>\n",
              "      <th></th>\n",
              "      <th></th>\n",
              "      <th></th>\n",
              "      <th></th>\n",
              "      <th></th>\n",
              "      <th></th>\n",
              "      <th></th>\n",
              "      <th></th>\n",
              "      <th></th>\n",
              "      <th></th>\n",
              "      <th></th>\n",
              "      <th></th>\n",
              "      <th></th>\n",
              "      <th></th>\n",
              "      <th></th>\n",
              "      <th></th>\n",
              "      <th></th>\n",
              "      <th></th>\n",
              "      <th></th>\n",
              "      <th></th>\n",
              "      <th></th>\n",
              "      <th></th>\n",
              "      <th></th>\n",
              "      <th></th>\n",
              "      <th></th>\n",
              "      <th></th>\n",
              "      <th></th>\n",
              "      <th></th>\n",
              "      <th></th>\n",
              "      <th></th>\n",
              "      <th></th>\n",
              "      <th></th>\n",
              "      <th></th>\n",
              "      <th></th>\n",
              "      <th></th>\n",
              "      <th></th>\n",
              "      <th></th>\n",
              "      <th></th>\n",
              "      <th></th>\n",
              "      <th></th>\n",
              "      <th></th>\n",
              "      <th></th>\n",
              "      <th></th>\n",
              "      <th></th>\n",
              "      <th></th>\n",
              "      <th></th>\n",
              "      <th></th>\n",
              "      <th></th>\n",
              "      <th></th>\n",
              "      <th></th>\n",
              "      <th></th>\n",
              "      <th></th>\n",
              "      <th></th>\n",
              "      <th></th>\n",
              "      <th></th>\n",
              "    </tr>\n",
              "  </thead>\n",
              "  <tbody>\n",
              "    <tr>\n",
              "      <th>3032234586</th>\n",
              "      <td>NaN</td>\n",
              "      <td>NaN</td>\n",
              "      <td>Fat Cat</td>\n",
              "      <td>+256 771 393892</td>\n",
              "      <td>http://www.fatcatkampala.com/</td>\n",
              "      <td>POINT (32.58834 0.33994)</td>\n",
              "      <td>NaN</td>\n",
              "      <td>NaN</td>\n",
              "      <td>NaN</td>\n",
              "      <td>NaN</td>\n",
              "      <td>NaN</td>\n",
              "      <td>NaN</td>\n",
              "      <td>NaN</td>\n",
              "      <td>NaN</td>\n",
              "      <td>NaN</td>\n",
              "      <td>NaN</td>\n",
              "      <td>NaN</td>\n",
              "      <td>NaN</td>\n",
              "      <td>NaN</td>\n",
              "      <td>NaN</td>\n",
              "      <td>NaN</td>\n",
              "      <td>NaN</td>\n",
              "      <td>NaN</td>\n",
              "      <td>NaN</td>\n",
              "      <td>NaN</td>\n",
              "      <td>NaN</td>\n",
              "      <td>NaN</td>\n",
              "      <td>NaN</td>\n",
              "      <td>NaN</td>\n",
              "      <td>bookings@fatcatkampala.com</td>\n",
              "      <td>hostel</td>\n",
              "      <td>NaN</td>\n",
              "      <td>NaN</td>\n",
              "      <td>NaN</td>\n",
              "      <td>NaN</td>\n",
              "      <td>NaN</td>\n",
              "      <td>NaN</td>\n",
              "      <td>NaN</td>\n",
              "      <td>NaN</td>\n",
              "      <td>NaN</td>\n",
              "      <td>...</td>\n",
              "      <td>NaN</td>\n",
              "      <td>NaN</td>\n",
              "      <td>NaN</td>\n",
              "      <td>NaN</td>\n",
              "      <td>NaN</td>\n",
              "      <td>NaN</td>\n",
              "      <td>NaN</td>\n",
              "      <td>NaN</td>\n",
              "      <td>NaN</td>\n",
              "      <td>NaN</td>\n",
              "      <td>NaN</td>\n",
              "      <td>NaN</td>\n",
              "      <td>NaN</td>\n",
              "      <td>NaN</td>\n",
              "      <td>NaN</td>\n",
              "      <td>NaN</td>\n",
              "      <td>NaN</td>\n",
              "      <td>NaN</td>\n",
              "      <td>NaN</td>\n",
              "      <td>NaN</td>\n",
              "      <td>NaN</td>\n",
              "      <td>NaN</td>\n",
              "      <td>NaN</td>\n",
              "      <td>NaN</td>\n",
              "      <td>NaN</td>\n",
              "      <td>NaN</td>\n",
              "      <td>NaN</td>\n",
              "      <td>NaN</td>\n",
              "      <td>NaN</td>\n",
              "      <td>NaN</td>\n",
              "      <td>NaN</td>\n",
              "      <td>NaN</td>\n",
              "      <td>NaN</td>\n",
              "      <td>NaN</td>\n",
              "      <td>NaN</td>\n",
              "      <td>NaN</td>\n",
              "      <td>NaN</td>\n",
              "      <td>NaN</td>\n",
              "      <td>NaN</td>\n",
              "      <td>NaN</td>\n",
              "    </tr>\n",
              "    <tr>\n",
              "      <th>4119308804</th>\n",
              "      <td>mobile_money_agent</td>\n",
              "      <td>NaN</td>\n",
              "      <td>Green apple</td>\n",
              "      <td>NaN</td>\n",
              "      <td>NaN</td>\n",
              "      <td>POINT (32.58817 0.34264)</td>\n",
              "      <td>NaN</td>\n",
              "      <td>NaN</td>\n",
              "      <td>NaN</td>\n",
              "      <td>NaN</td>\n",
              "      <td>NaN</td>\n",
              "      <td>NaN</td>\n",
              "      <td>Kampala</td>\n",
              "      <td>NaN</td>\n",
              "      <td>NaN</td>\n",
              "      <td>NaN</td>\n",
              "      <td>NaN</td>\n",
              "      <td>NaN</td>\n",
              "      <td>Mo-Sa 08:00-18:00</td>\n",
              "      <td>NaN</td>\n",
              "      <td>NaN</td>\n",
              "      <td>NaN</td>\n",
              "      <td>NaN</td>\n",
              "      <td>NaN</td>\n",
              "      <td>NaN</td>\n",
              "      <td>NaN</td>\n",
              "      <td>NaN</td>\n",
              "      <td>NaN</td>\n",
              "      <td>NaN</td>\n",
              "      <td>NaN</td>\n",
              "      <td>guest_house</td>\n",
              "      <td>NaN</td>\n",
              "      <td>NaN</td>\n",
              "      <td>NaN</td>\n",
              "      <td>NaN</td>\n",
              "      <td>NaN</td>\n",
              "      <td>NaN</td>\n",
              "      <td>Airtel Money;MTN Mobile Money</td>\n",
              "      <td>NaN</td>\n",
              "      <td>NaN</td>\n",
              "      <td>...</td>\n",
              "      <td>NaN</td>\n",
              "      <td>NaN</td>\n",
              "      <td>NaN</td>\n",
              "      <td>NaN</td>\n",
              "      <td>NaN</td>\n",
              "      <td>NaN</td>\n",
              "      <td>NaN</td>\n",
              "      <td>NaN</td>\n",
              "      <td>NaN</td>\n",
              "      <td>NaN</td>\n",
              "      <td>NaN</td>\n",
              "      <td>NaN</td>\n",
              "      <td>NaN</td>\n",
              "      <td>NaN</td>\n",
              "      <td>NaN</td>\n",
              "      <td>NaN</td>\n",
              "      <td>NaN</td>\n",
              "      <td>NaN</td>\n",
              "      <td>NaN</td>\n",
              "      <td>NaN</td>\n",
              "      <td>NaN</td>\n",
              "      <td>NaN</td>\n",
              "      <td>NaN</td>\n",
              "      <td>NaN</td>\n",
              "      <td>NaN</td>\n",
              "      <td>NaN</td>\n",
              "      <td>NaN</td>\n",
              "      <td>NaN</td>\n",
              "      <td>NaN</td>\n",
              "      <td>NaN</td>\n",
              "      <td>NaN</td>\n",
              "      <td>NaN</td>\n",
              "      <td>NaN</td>\n",
              "      <td>NaN</td>\n",
              "      <td>NaN</td>\n",
              "      <td>NaN</td>\n",
              "      <td>NaN</td>\n",
              "      <td>NaN</td>\n",
              "      <td>NaN</td>\n",
              "      <td>NaN</td>\n",
              "    </tr>\n",
              "    <tr>\n",
              "      <th>4942954054</th>\n",
              "      <td>NaN</td>\n",
              "      <td>NaN</td>\n",
              "      <td>Okrut Close</td>\n",
              "      <td>NaN</td>\n",
              "      <td>NaN</td>\n",
              "      <td>POINT (32.59180 0.33868)</td>\n",
              "      <td>NaN</td>\n",
              "      <td>NaN</td>\n",
              "      <td>NaN</td>\n",
              "      <td>NaN</td>\n",
              "      <td>NaN</td>\n",
              "      <td>NaN</td>\n",
              "      <td>NaN</td>\n",
              "      <td>NaN</td>\n",
              "      <td>NaN</td>\n",
              "      <td>NaN</td>\n",
              "      <td>NaN</td>\n",
              "      <td>NaN</td>\n",
              "      <td>NaN</td>\n",
              "      <td>NaN</td>\n",
              "      <td>NaN</td>\n",
              "      <td>NaN</td>\n",
              "      <td>NaN</td>\n",
              "      <td>NaN</td>\n",
              "      <td>NaN</td>\n",
              "      <td>NaN</td>\n",
              "      <td>NaN</td>\n",
              "      <td>NaN</td>\n",
              "      <td>NaN</td>\n",
              "      <td>NaN</td>\n",
              "      <td>information</td>\n",
              "      <td>NaN</td>\n",
              "      <td>NaN</td>\n",
              "      <td>NaN</td>\n",
              "      <td>NaN</td>\n",
              "      <td>NaN</td>\n",
              "      <td>NaN</td>\n",
              "      <td>NaN</td>\n",
              "      <td>NaN</td>\n",
              "      <td>NaN</td>\n",
              "      <td>...</td>\n",
              "      <td>NaN</td>\n",
              "      <td>NaN</td>\n",
              "      <td>NaN</td>\n",
              "      <td>NaN</td>\n",
              "      <td>NaN</td>\n",
              "      <td>NaN</td>\n",
              "      <td>NaN</td>\n",
              "      <td>NaN</td>\n",
              "      <td>NaN</td>\n",
              "      <td>NaN</td>\n",
              "      <td>NaN</td>\n",
              "      <td>NaN</td>\n",
              "      <td>NaN</td>\n",
              "      <td>NaN</td>\n",
              "      <td>NaN</td>\n",
              "      <td>NaN</td>\n",
              "      <td>NaN</td>\n",
              "      <td>NaN</td>\n",
              "      <td>NaN</td>\n",
              "      <td>NaN</td>\n",
              "      <td>NaN</td>\n",
              "      <td>NaN</td>\n",
              "      <td>NaN</td>\n",
              "      <td>NaN</td>\n",
              "      <td>NaN</td>\n",
              "      <td>NaN</td>\n",
              "      <td>NaN</td>\n",
              "      <td>NaN</td>\n",
              "      <td>NaN</td>\n",
              "      <td>NaN</td>\n",
              "      <td>NaN</td>\n",
              "      <td>NaN</td>\n",
              "      <td>NaN</td>\n",
              "      <td>NaN</td>\n",
              "      <td>NaN</td>\n",
              "      <td>NaN</td>\n",
              "      <td>NaN</td>\n",
              "      <td>NaN</td>\n",
              "      <td>NaN</td>\n",
              "      <td>NaN</td>\n",
              "    </tr>\n",
              "    <tr>\n",
              "      <th>5678162422</th>\n",
              "      <td>NaN</td>\n",
              "      <td>NaN</td>\n",
              "      <td>Tagore Apartments</td>\n",
              "      <td>NaN</td>\n",
              "      <td>NaN</td>\n",
              "      <td>POINT (32.58474 0.33914)</td>\n",
              "      <td>NaN</td>\n",
              "      <td>NaN</td>\n",
              "      <td>NaN</td>\n",
              "      <td>NaN</td>\n",
              "      <td>NaN</td>\n",
              "      <td>NaN</td>\n",
              "      <td>NaN</td>\n",
              "      <td>NaN</td>\n",
              "      <td>NaN</td>\n",
              "      <td>NaN</td>\n",
              "      <td>NaN</td>\n",
              "      <td>NaN</td>\n",
              "      <td>NaN</td>\n",
              "      <td>NaN</td>\n",
              "      <td>NaN</td>\n",
              "      <td>NaN</td>\n",
              "      <td>NaN</td>\n",
              "      <td>NaN</td>\n",
              "      <td>NaN</td>\n",
              "      <td>NaN</td>\n",
              "      <td>NaN</td>\n",
              "      <td>NaN</td>\n",
              "      <td>NaN</td>\n",
              "      <td>NaN</td>\n",
              "      <td>apartment</td>\n",
              "      <td>NaN</td>\n",
              "      <td>NaN</td>\n",
              "      <td>NaN</td>\n",
              "      <td>NaN</td>\n",
              "      <td>NaN</td>\n",
              "      <td>NaN</td>\n",
              "      <td>NaN</td>\n",
              "      <td>NaN</td>\n",
              "      <td>NaN</td>\n",
              "      <td>...</td>\n",
              "      <td>NaN</td>\n",
              "      <td>NaN</td>\n",
              "      <td>NaN</td>\n",
              "      <td>NaN</td>\n",
              "      <td>NaN</td>\n",
              "      <td>NaN</td>\n",
              "      <td>NaN</td>\n",
              "      <td>NaN</td>\n",
              "      <td>NaN</td>\n",
              "      <td>NaN</td>\n",
              "      <td>NaN</td>\n",
              "      <td>NaN</td>\n",
              "      <td>NaN</td>\n",
              "      <td>NaN</td>\n",
              "      <td>NaN</td>\n",
              "      <td>NaN</td>\n",
              "      <td>NaN</td>\n",
              "      <td>NaN</td>\n",
              "      <td>NaN</td>\n",
              "      <td>NaN</td>\n",
              "      <td>NaN</td>\n",
              "      <td>NaN</td>\n",
              "      <td>NaN</td>\n",
              "      <td>NaN</td>\n",
              "      <td>NaN</td>\n",
              "      <td>NaN</td>\n",
              "      <td>NaN</td>\n",
              "      <td>NaN</td>\n",
              "      <td>NaN</td>\n",
              "      <td>NaN</td>\n",
              "      <td>NaN</td>\n",
              "      <td>NaN</td>\n",
              "      <td>NaN</td>\n",
              "      <td>NaN</td>\n",
              "      <td>NaN</td>\n",
              "      <td>NaN</td>\n",
              "      <td>NaN</td>\n",
              "      <td>NaN</td>\n",
              "      <td>NaN</td>\n",
              "      <td>NaN</td>\n",
              "    </tr>\n",
              "    <tr>\n",
              "      <th>7743212629</th>\n",
              "      <td>NaN</td>\n",
              "      <td>NaN</td>\n",
              "      <td>NaN</td>\n",
              "      <td>NaN</td>\n",
              "      <td>NaN</td>\n",
              "      <td>POINT (32.58812 0.34466)</td>\n",
              "      <td>NaN</td>\n",
              "      <td>NaN</td>\n",
              "      <td>NaN</td>\n",
              "      <td>NaN</td>\n",
              "      <td>NaN</td>\n",
              "      <td>NaN</td>\n",
              "      <td>NaN</td>\n",
              "      <td>NaN</td>\n",
              "      <td>NaN</td>\n",
              "      <td>NaN</td>\n",
              "      <td>NaN</td>\n",
              "      <td>NaN</td>\n",
              "      <td>NaN</td>\n",
              "      <td>NaN</td>\n",
              "      <td>NaN</td>\n",
              "      <td>NaN</td>\n",
              "      <td>NaN</td>\n",
              "      <td>NaN</td>\n",
              "      <td>NaN</td>\n",
              "      <td>NaN</td>\n",
              "      <td>NaN</td>\n",
              "      <td>NaN</td>\n",
              "      <td>NaN</td>\n",
              "      <td>NaN</td>\n",
              "      <td>guest_house</td>\n",
              "      <td>NaN</td>\n",
              "      <td>NaN</td>\n",
              "      <td>NaN</td>\n",
              "      <td>NaN</td>\n",
              "      <td>NaN</td>\n",
              "      <td>NaN</td>\n",
              "      <td>NaN</td>\n",
              "      <td>NaN</td>\n",
              "      <td>NaN</td>\n",
              "      <td>...</td>\n",
              "      <td>NaN</td>\n",
              "      <td>NaN</td>\n",
              "      <td>NaN</td>\n",
              "      <td>NaN</td>\n",
              "      <td>NaN</td>\n",
              "      <td>NaN</td>\n",
              "      <td>NaN</td>\n",
              "      <td>NaN</td>\n",
              "      <td>NaN</td>\n",
              "      <td>NaN</td>\n",
              "      <td>NaN</td>\n",
              "      <td>NaN</td>\n",
              "      <td>NaN</td>\n",
              "      <td>NaN</td>\n",
              "      <td>NaN</td>\n",
              "      <td>NaN</td>\n",
              "      <td>NaN</td>\n",
              "      <td>NaN</td>\n",
              "      <td>NaN</td>\n",
              "      <td>NaN</td>\n",
              "      <td>NaN</td>\n",
              "      <td>NaN</td>\n",
              "      <td>NaN</td>\n",
              "      <td>NaN</td>\n",
              "      <td>NaN</td>\n",
              "      <td>NaN</td>\n",
              "      <td>NaN</td>\n",
              "      <td>NaN</td>\n",
              "      <td>NaN</td>\n",
              "      <td>NaN</td>\n",
              "      <td>NaN</td>\n",
              "      <td>NaN</td>\n",
              "      <td>NaN</td>\n",
              "      <td>NaN</td>\n",
              "      <td>NaN</td>\n",
              "      <td>NaN</td>\n",
              "      <td>NaN</td>\n",
              "      <td>NaN</td>\n",
              "      <td>NaN</td>\n",
              "      <td>NaN</td>\n",
              "    </tr>\n",
              "    <tr>\n",
              "      <th>8445011017</th>\n",
              "      <td>NaN</td>\n",
              "      <td>NaN</td>\n",
              "      <td>Prisma Hotel</td>\n",
              "      <td>0414371122</td>\n",
              "      <td>NaN</td>\n",
              "      <td>POINT (32.57987 0.34816)</td>\n",
              "      <td>NaN</td>\n",
              "      <td>NaN</td>\n",
              "      <td>NaN</td>\n",
              "      <td>NaN</td>\n",
              "      <td>NaN</td>\n",
              "      <td>NaN</td>\n",
              "      <td>NaN</td>\n",
              "      <td>NaN</td>\n",
              "      <td>NaN</td>\n",
              "      <td>Kisingiri Street</td>\n",
              "      <td>NaN</td>\n",
              "      <td>NaN</td>\n",
              "      <td>NaN</td>\n",
              "      <td>NaN</td>\n",
              "      <td>NaN</td>\n",
              "      <td>NaN</td>\n",
              "      <td>NaN</td>\n",
              "      <td>NaN</td>\n",
              "      <td>NaN</td>\n",
              "      <td>NaN</td>\n",
              "      <td>NaN</td>\n",
              "      <td>NaN</td>\n",
              "      <td>NaN</td>\n",
              "      <td>prismahotel@gmail.com</td>\n",
              "      <td>hotel</td>\n",
              "      <td>NaN</td>\n",
              "      <td>NaN</td>\n",
              "      <td>NaN</td>\n",
              "      <td>NaN</td>\n",
              "      <td>NaN</td>\n",
              "      <td>NaN</td>\n",
              "      <td>NaN</td>\n",
              "      <td>NaN</td>\n",
              "      <td>NaN</td>\n",
              "      <td>...</td>\n",
              "      <td>NaN</td>\n",
              "      <td>NaN</td>\n",
              "      <td>NaN</td>\n",
              "      <td>NaN</td>\n",
              "      <td>NaN</td>\n",
              "      <td>NaN</td>\n",
              "      <td>NaN</td>\n",
              "      <td>NaN</td>\n",
              "      <td>NaN</td>\n",
              "      <td>NaN</td>\n",
              "      <td>NaN</td>\n",
              "      <td>NaN</td>\n",
              "      <td>NaN</td>\n",
              "      <td>NaN</td>\n",
              "      <td>NaN</td>\n",
              "      <td>NaN</td>\n",
              "      <td>NaN</td>\n",
              "      <td>NaN</td>\n",
              "      <td>NaN</td>\n",
              "      <td>NaN</td>\n",
              "      <td>NaN</td>\n",
              "      <td>NaN</td>\n",
              "      <td>NaN</td>\n",
              "      <td>NaN</td>\n",
              "      <td>NaN</td>\n",
              "      <td>NaN</td>\n",
              "      <td>NaN</td>\n",
              "      <td>NaN</td>\n",
              "      <td>NaN</td>\n",
              "      <td>NaN</td>\n",
              "      <td>NaN</td>\n",
              "      <td>NaN</td>\n",
              "      <td>NaN</td>\n",
              "      <td>NaN</td>\n",
              "      <td>NaN</td>\n",
              "      <td>NaN</td>\n",
              "      <td>NaN</td>\n",
              "      <td>NaN</td>\n",
              "      <td>NaN</td>\n",
              "      <td>NaN</td>\n",
              "    </tr>\n",
              "    <tr>\n",
              "      <th>8456545033</th>\n",
              "      <td>NaN</td>\n",
              "      <td>NaN</td>\n",
              "      <td>Silverline Condos</td>\n",
              "      <td>NaN</td>\n",
              "      <td>NaN</td>\n",
              "      <td>POINT (32.58329 0.34251)</td>\n",
              "      <td>NaN</td>\n",
              "      <td>NaN</td>\n",
              "      <td>NaN</td>\n",
              "      <td>NaN</td>\n",
              "      <td>NaN</td>\n",
              "      <td>NaN</td>\n",
              "      <td>NaN</td>\n",
              "      <td>NaN</td>\n",
              "      <td>NaN</td>\n",
              "      <td>Mawanda Road</td>\n",
              "      <td>NaN</td>\n",
              "      <td>NaN</td>\n",
              "      <td>NaN</td>\n",
              "      <td>NaN</td>\n",
              "      <td>NaN</td>\n",
              "      <td>NaN</td>\n",
              "      <td>NaN</td>\n",
              "      <td>NaN</td>\n",
              "      <td>NaN</td>\n",
              "      <td>NaN</td>\n",
              "      <td>NaN</td>\n",
              "      <td>NaN</td>\n",
              "      <td>NaN</td>\n",
              "      <td>NaN</td>\n",
              "      <td>apartment</td>\n",
              "      <td>NaN</td>\n",
              "      <td>NaN</td>\n",
              "      <td>NaN</td>\n",
              "      <td>NaN</td>\n",
              "      <td>NaN</td>\n",
              "      <td>NaN</td>\n",
              "      <td>NaN</td>\n",
              "      <td>NaN</td>\n",
              "      <td>NaN</td>\n",
              "      <td>...</td>\n",
              "      <td>NaN</td>\n",
              "      <td>NaN</td>\n",
              "      <td>NaN</td>\n",
              "      <td>NaN</td>\n",
              "      <td>NaN</td>\n",
              "      <td>NaN</td>\n",
              "      <td>NaN</td>\n",
              "      <td>NaN</td>\n",
              "      <td>NaN</td>\n",
              "      <td>NaN</td>\n",
              "      <td>NaN</td>\n",
              "      <td>NaN</td>\n",
              "      <td>NaN</td>\n",
              "      <td>NaN</td>\n",
              "      <td>NaN</td>\n",
              "      <td>NaN</td>\n",
              "      <td>NaN</td>\n",
              "      <td>NaN</td>\n",
              "      <td>NaN</td>\n",
              "      <td>NaN</td>\n",
              "      <td>NaN</td>\n",
              "      <td>NaN</td>\n",
              "      <td>NaN</td>\n",
              "      <td>NaN</td>\n",
              "      <td>NaN</td>\n",
              "      <td>NaN</td>\n",
              "      <td>NaN</td>\n",
              "      <td>NaN</td>\n",
              "      <td>NaN</td>\n",
              "      <td>NaN</td>\n",
              "      <td>NaN</td>\n",
              "      <td>NaN</td>\n",
              "      <td>NaN</td>\n",
              "      <td>NaN</td>\n",
              "      <td>NaN</td>\n",
              "      <td>NaN</td>\n",
              "      <td>NaN</td>\n",
              "      <td>NaN</td>\n",
              "      <td>NaN</td>\n",
              "      <td>NaN</td>\n",
              "    </tr>\n",
              "    <tr>\n",
              "      <th>8456545129</th>\n",
              "      <td>NaN</td>\n",
              "      <td>NaN</td>\n",
              "      <td>Kida Guesthouse</td>\n",
              "      <td>NaN</td>\n",
              "      <td>NaN</td>\n",
              "      <td>POINT (32.57336 0.34773)</td>\n",
              "      <td>NaN</td>\n",
              "      <td>NaN</td>\n",
              "      <td>NaN</td>\n",
              "      <td>NaN</td>\n",
              "      <td>NaN</td>\n",
              "      <td>NaN</td>\n",
              "      <td>NaN</td>\n",
              "      <td>NaN</td>\n",
              "      <td>NaN</td>\n",
              "      <td>Mawanda Road</td>\n",
              "      <td>NaN</td>\n",
              "      <td>NaN</td>\n",
              "      <td>NaN</td>\n",
              "      <td>NaN</td>\n",
              "      <td>NaN</td>\n",
              "      <td>NaN</td>\n",
              "      <td>NaN</td>\n",
              "      <td>NaN</td>\n",
              "      <td>NaN</td>\n",
              "      <td>NaN</td>\n",
              "      <td>NaN</td>\n",
              "      <td>NaN</td>\n",
              "      <td>NaN</td>\n",
              "      <td>NaN</td>\n",
              "      <td>guest_house</td>\n",
              "      <td>NaN</td>\n",
              "      <td>NaN</td>\n",
              "      <td>NaN</td>\n",
              "      <td>NaN</td>\n",
              "      <td>NaN</td>\n",
              "      <td>NaN</td>\n",
              "      <td>NaN</td>\n",
              "      <td>NaN</td>\n",
              "      <td>NaN</td>\n",
              "      <td>...</td>\n",
              "      <td>NaN</td>\n",
              "      <td>NaN</td>\n",
              "      <td>NaN</td>\n",
              "      <td>NaN</td>\n",
              "      <td>NaN</td>\n",
              "      <td>NaN</td>\n",
              "      <td>NaN</td>\n",
              "      <td>NaN</td>\n",
              "      <td>NaN</td>\n",
              "      <td>NaN</td>\n",
              "      <td>NaN</td>\n",
              "      <td>NaN</td>\n",
              "      <td>NaN</td>\n",
              "      <td>NaN</td>\n",
              "      <td>NaN</td>\n",
              "      <td>NaN</td>\n",
              "      <td>NaN</td>\n",
              "      <td>NaN</td>\n",
              "      <td>NaN</td>\n",
              "      <td>NaN</td>\n",
              "      <td>NaN</td>\n",
              "      <td>NaN</td>\n",
              "      <td>NaN</td>\n",
              "      <td>NaN</td>\n",
              "      <td>NaN</td>\n",
              "      <td>NaN</td>\n",
              "      <td>NaN</td>\n",
              "      <td>NaN</td>\n",
              "      <td>NaN</td>\n",
              "      <td>NaN</td>\n",
              "      <td>NaN</td>\n",
              "      <td>NaN</td>\n",
              "      <td>NaN</td>\n",
              "      <td>NaN</td>\n",
              "      <td>NaN</td>\n",
              "      <td>NaN</td>\n",
              "      <td>NaN</td>\n",
              "      <td>NaN</td>\n",
              "      <td>NaN</td>\n",
              "      <td>NaN</td>\n",
              "    </tr>\n",
              "    <tr>\n",
              "      <th>8481722617</th>\n",
              "      <td>NaN</td>\n",
              "      <td>NaN</td>\n",
              "      <td>Koda Guest House</td>\n",
              "      <td>NaN</td>\n",
              "      <td>NaN</td>\n",
              "      <td>POINT (32.57340 0.34824)</td>\n",
              "      <td>NaN</td>\n",
              "      <td>NaN</td>\n",
              "      <td>NaN</td>\n",
              "      <td>NaN</td>\n",
              "      <td>NaN</td>\n",
              "      <td>NaN</td>\n",
              "      <td>NaN</td>\n",
              "      <td>NaN</td>\n",
              "      <td>NaN</td>\n",
              "      <td>NaN</td>\n",
              "      <td>NaN</td>\n",
              "      <td>NaN</td>\n",
              "      <td>NaN</td>\n",
              "      <td>NaN</td>\n",
              "      <td>NaN</td>\n",
              "      <td>NaN</td>\n",
              "      <td>NaN</td>\n",
              "      <td>NaN</td>\n",
              "      <td>NaN</td>\n",
              "      <td>NaN</td>\n",
              "      <td>NaN</td>\n",
              "      <td>NaN</td>\n",
              "      <td>NaN</td>\n",
              "      <td>NaN</td>\n",
              "      <td>guest_house</td>\n",
              "      <td>NaN</td>\n",
              "      <td>NaN</td>\n",
              "      <td>NaN</td>\n",
              "      <td>NaN</td>\n",
              "      <td>NaN</td>\n",
              "      <td>NaN</td>\n",
              "      <td>NaN</td>\n",
              "      <td>NaN</td>\n",
              "      <td>NaN</td>\n",
              "      <td>...</td>\n",
              "      <td>NaN</td>\n",
              "      <td>NaN</td>\n",
              "      <td>NaN</td>\n",
              "      <td>NaN</td>\n",
              "      <td>NaN</td>\n",
              "      <td>NaN</td>\n",
              "      <td>NaN</td>\n",
              "      <td>NaN</td>\n",
              "      <td>NaN</td>\n",
              "      <td>NaN</td>\n",
              "      <td>NaN</td>\n",
              "      <td>NaN</td>\n",
              "      <td>NaN</td>\n",
              "      <td>NaN</td>\n",
              "      <td>NaN</td>\n",
              "      <td>NaN</td>\n",
              "      <td>NaN</td>\n",
              "      <td>NaN</td>\n",
              "      <td>NaN</td>\n",
              "      <td>NaN</td>\n",
              "      <td>NaN</td>\n",
              "      <td>NaN</td>\n",
              "      <td>NaN</td>\n",
              "      <td>NaN</td>\n",
              "      <td>NaN</td>\n",
              "      <td>NaN</td>\n",
              "      <td>NaN</td>\n",
              "      <td>NaN</td>\n",
              "      <td>NaN</td>\n",
              "      <td>NaN</td>\n",
              "      <td>NaN</td>\n",
              "      <td>NaN</td>\n",
              "      <td>NaN</td>\n",
              "      <td>NaN</td>\n",
              "      <td>NaN</td>\n",
              "      <td>NaN</td>\n",
              "      <td>NaN</td>\n",
              "      <td>NaN</td>\n",
              "      <td>NaN</td>\n",
              "      <td>NaN</td>\n",
              "    </tr>\n",
              "    <tr>\n",
              "      <th>8498971118</th>\n",
              "      <td>NaN</td>\n",
              "      <td>NaN</td>\n",
              "      <td>Mulago Guest House</td>\n",
              "      <td>NaN</td>\n",
              "      <td>NaN</td>\n",
              "      <td>POINT (32.57883 0.34850)</td>\n",
              "      <td>NaN</td>\n",
              "      <td>NaN</td>\n",
              "      <td>NaN</td>\n",
              "      <td>NaN</td>\n",
              "      <td>NaN</td>\n",
              "      <td>NaN</td>\n",
              "      <td>NaN</td>\n",
              "      <td>NaN</td>\n",
              "      <td>NaN</td>\n",
              "      <td>NaN</td>\n",
              "      <td>NaN</td>\n",
              "      <td>NaN</td>\n",
              "      <td>NaN</td>\n",
              "      <td>NaN</td>\n",
              "      <td>NaN</td>\n",
              "      <td>NaN</td>\n",
              "      <td>NaN</td>\n",
              "      <td>NaN</td>\n",
              "      <td>NaN</td>\n",
              "      <td>NaN</td>\n",
              "      <td>NaN</td>\n",
              "      <td>NaN</td>\n",
              "      <td>NaN</td>\n",
              "      <td>NaN</td>\n",
              "      <td>guest_house</td>\n",
              "      <td>NaN</td>\n",
              "      <td>NaN</td>\n",
              "      <td>NaN</td>\n",
              "      <td>NaN</td>\n",
              "      <td>NaN</td>\n",
              "      <td>NaN</td>\n",
              "      <td>NaN</td>\n",
              "      <td>NaN</td>\n",
              "      <td>NaN</td>\n",
              "      <td>...</td>\n",
              "      <td>NaN</td>\n",
              "      <td>NaN</td>\n",
              "      <td>NaN</td>\n",
              "      <td>NaN</td>\n",
              "      <td>NaN</td>\n",
              "      <td>NaN</td>\n",
              "      <td>NaN</td>\n",
              "      <td>NaN</td>\n",
              "      <td>NaN</td>\n",
              "      <td>NaN</td>\n",
              "      <td>NaN</td>\n",
              "      <td>NaN</td>\n",
              "      <td>NaN</td>\n",
              "      <td>NaN</td>\n",
              "      <td>NaN</td>\n",
              "      <td>NaN</td>\n",
              "      <td>NaN</td>\n",
              "      <td>NaN</td>\n",
              "      <td>NaN</td>\n",
              "      <td>NaN</td>\n",
              "      <td>NaN</td>\n",
              "      <td>NaN</td>\n",
              "      <td>NaN</td>\n",
              "      <td>NaN</td>\n",
              "      <td>NaN</td>\n",
              "      <td>NaN</td>\n",
              "      <td>NaN</td>\n",
              "      <td>NaN</td>\n",
              "      <td>NaN</td>\n",
              "      <td>NaN</td>\n",
              "      <td>NaN</td>\n",
              "      <td>NaN</td>\n",
              "      <td>NaN</td>\n",
              "      <td>NaN</td>\n",
              "      <td>NaN</td>\n",
              "      <td>NaN</td>\n",
              "      <td>NaN</td>\n",
              "      <td>NaN</td>\n",
              "      <td>NaN</td>\n",
              "      <td>NaN</td>\n",
              "    </tr>\n",
              "    <tr>\n",
              "      <th>8597526517</th>\n",
              "      <td>NaN</td>\n",
              "      <td>NaN</td>\n",
              "      <td>Papa Guest house</td>\n",
              "      <td>NaN</td>\n",
              "      <td>NaN</td>\n",
              "      <td>POINT (32.57918 0.35097)</td>\n",
              "      <td>NaN</td>\n",
              "      <td>NaN</td>\n",
              "      <td>NaN</td>\n",
              "      <td>NaN</td>\n",
              "      <td>NaN</td>\n",
              "      <td>NaN</td>\n",
              "      <td>NaN</td>\n",
              "      <td>NaN</td>\n",
              "      <td>NaN</td>\n",
              "      <td>NaN</td>\n",
              "      <td>NaN</td>\n",
              "      <td>NaN</td>\n",
              "      <td>NaN</td>\n",
              "      <td>NaN</td>\n",
              "      <td>NaN</td>\n",
              "      <td>NaN</td>\n",
              "      <td>NaN</td>\n",
              "      <td>NaN</td>\n",
              "      <td>NaN</td>\n",
              "      <td>NaN</td>\n",
              "      <td>NaN</td>\n",
              "      <td>NaN</td>\n",
              "      <td>NaN</td>\n",
              "      <td>NaN</td>\n",
              "      <td>guest_house</td>\n",
              "      <td>NaN</td>\n",
              "      <td>NaN</td>\n",
              "      <td>NaN</td>\n",
              "      <td>NaN</td>\n",
              "      <td>NaN</td>\n",
              "      <td>NaN</td>\n",
              "      <td>NaN</td>\n",
              "      <td>NaN</td>\n",
              "      <td>NaN</td>\n",
              "      <td>...</td>\n",
              "      <td>NaN</td>\n",
              "      <td>NaN</td>\n",
              "      <td>NaN</td>\n",
              "      <td>NaN</td>\n",
              "      <td>NaN</td>\n",
              "      <td>NaN</td>\n",
              "      <td>NaN</td>\n",
              "      <td>NaN</td>\n",
              "      <td>NaN</td>\n",
              "      <td>NaN</td>\n",
              "      <td>NaN</td>\n",
              "      <td>NaN</td>\n",
              "      <td>NaN</td>\n",
              "      <td>NaN</td>\n",
              "      <td>NaN</td>\n",
              "      <td>NaN</td>\n",
              "      <td>NaN</td>\n",
              "      <td>NaN</td>\n",
              "      <td>NaN</td>\n",
              "      <td>NaN</td>\n",
              "      <td>NaN</td>\n",
              "      <td>NaN</td>\n",
              "      <td>NaN</td>\n",
              "      <td>NaN</td>\n",
              "      <td>NaN</td>\n",
              "      <td>NaN</td>\n",
              "      <td>NaN</td>\n",
              "      <td>NaN</td>\n",
              "      <td>NaN</td>\n",
              "      <td>NaN</td>\n",
              "      <td>NaN</td>\n",
              "      <td>NaN</td>\n",
              "      <td>NaN</td>\n",
              "      <td>NaN</td>\n",
              "      <td>NaN</td>\n",
              "      <td>NaN</td>\n",
              "      <td>NaN</td>\n",
              "      <td>NaN</td>\n",
              "      <td>NaN</td>\n",
              "      <td>NaN</td>\n",
              "    </tr>\n",
              "    <tr>\n",
              "      <th>8686698118</th>\n",
              "      <td>NaN</td>\n",
              "      <td>NaN</td>\n",
              "      <td>Silent Corner inn</td>\n",
              "      <td>NaN</td>\n",
              "      <td>NaN</td>\n",
              "      <td>POINT (32.58197 0.35119)</td>\n",
              "      <td>NaN</td>\n",
              "      <td>NaN</td>\n",
              "      <td>NaN</td>\n",
              "      <td>NaN</td>\n",
              "      <td>NaN</td>\n",
              "      <td>NaN</td>\n",
              "      <td>NaN</td>\n",
              "      <td>NaN</td>\n",
              "      <td>NaN</td>\n",
              "      <td>Oketcho Road</td>\n",
              "      <td>NaN</td>\n",
              "      <td>NaN</td>\n",
              "      <td>NaN</td>\n",
              "      <td>NaN</td>\n",
              "      <td>NaN</td>\n",
              "      <td>NaN</td>\n",
              "      <td>NaN</td>\n",
              "      <td>NaN</td>\n",
              "      <td>NaN</td>\n",
              "      <td>NaN</td>\n",
              "      <td>NaN</td>\n",
              "      <td>NaN</td>\n",
              "      <td>NaN</td>\n",
              "      <td>NaN</td>\n",
              "      <td>guest_house</td>\n",
              "      <td>NaN</td>\n",
              "      <td>NaN</td>\n",
              "      <td>NaN</td>\n",
              "      <td>NaN</td>\n",
              "      <td>NaN</td>\n",
              "      <td>NaN</td>\n",
              "      <td>NaN</td>\n",
              "      <td>NaN</td>\n",
              "      <td>NaN</td>\n",
              "      <td>...</td>\n",
              "      <td>NaN</td>\n",
              "      <td>NaN</td>\n",
              "      <td>NaN</td>\n",
              "      <td>NaN</td>\n",
              "      <td>NaN</td>\n",
              "      <td>NaN</td>\n",
              "      <td>NaN</td>\n",
              "      <td>NaN</td>\n",
              "      <td>NaN</td>\n",
              "      <td>NaN</td>\n",
              "      <td>NaN</td>\n",
              "      <td>NaN</td>\n",
              "      <td>NaN</td>\n",
              "      <td>NaN</td>\n",
              "      <td>NaN</td>\n",
              "      <td>NaN</td>\n",
              "      <td>NaN</td>\n",
              "      <td>NaN</td>\n",
              "      <td>NaN</td>\n",
              "      <td>NaN</td>\n",
              "      <td>NaN</td>\n",
              "      <td>NaN</td>\n",
              "      <td>NaN</td>\n",
              "      <td>NaN</td>\n",
              "      <td>NaN</td>\n",
              "      <td>NaN</td>\n",
              "      <td>NaN</td>\n",
              "      <td>NaN</td>\n",
              "      <td>NaN</td>\n",
              "      <td>NaN</td>\n",
              "      <td>NaN</td>\n",
              "      <td>NaN</td>\n",
              "      <td>NaN</td>\n",
              "      <td>NaN</td>\n",
              "      <td>NaN</td>\n",
              "      <td>NaN</td>\n",
              "      <td>NaN</td>\n",
              "      <td>NaN</td>\n",
              "      <td>NaN</td>\n",
              "      <td>NaN</td>\n",
              "    </tr>\n",
              "    <tr>\n",
              "      <th>8686698119</th>\n",
              "      <td>NaN</td>\n",
              "      <td>NaN</td>\n",
              "      <td>Kerona Dam Hotel</td>\n",
              "      <td>NaN</td>\n",
              "      <td>NaN</td>\n",
              "      <td>POINT (32.58485 0.35106)</td>\n",
              "      <td>NaN</td>\n",
              "      <td>NaN</td>\n",
              "      <td>NaN</td>\n",
              "      <td>NaN</td>\n",
              "      <td>NaN</td>\n",
              "      <td>NaN</td>\n",
              "      <td>NaN</td>\n",
              "      <td>NaN</td>\n",
              "      <td>NaN</td>\n",
              "      <td>Kasubi Road</td>\n",
              "      <td>NaN</td>\n",
              "      <td>NaN</td>\n",
              "      <td>NaN</td>\n",
              "      <td>NaN</td>\n",
              "      <td>NaN</td>\n",
              "      <td>NaN</td>\n",
              "      <td>NaN</td>\n",
              "      <td>NaN</td>\n",
              "      <td>NaN</td>\n",
              "      <td>NaN</td>\n",
              "      <td>NaN</td>\n",
              "      <td>NaN</td>\n",
              "      <td>NaN</td>\n",
              "      <td>NaN</td>\n",
              "      <td>hotel</td>\n",
              "      <td>NaN</td>\n",
              "      <td>NaN</td>\n",
              "      <td>NaN</td>\n",
              "      <td>NaN</td>\n",
              "      <td>NaN</td>\n",
              "      <td>NaN</td>\n",
              "      <td>NaN</td>\n",
              "      <td>NaN</td>\n",
              "      <td>NaN</td>\n",
              "      <td>...</td>\n",
              "      <td>NaN</td>\n",
              "      <td>NaN</td>\n",
              "      <td>NaN</td>\n",
              "      <td>NaN</td>\n",
              "      <td>NaN</td>\n",
              "      <td>NaN</td>\n",
              "      <td>NaN</td>\n",
              "      <td>NaN</td>\n",
              "      <td>NaN</td>\n",
              "      <td>NaN</td>\n",
              "      <td>NaN</td>\n",
              "      <td>NaN</td>\n",
              "      <td>NaN</td>\n",
              "      <td>NaN</td>\n",
              "      <td>NaN</td>\n",
              "      <td>NaN</td>\n",
              "      <td>NaN</td>\n",
              "      <td>NaN</td>\n",
              "      <td>NaN</td>\n",
              "      <td>NaN</td>\n",
              "      <td>NaN</td>\n",
              "      <td>NaN</td>\n",
              "      <td>NaN</td>\n",
              "      <td>NaN</td>\n",
              "      <td>NaN</td>\n",
              "      <td>NaN</td>\n",
              "      <td>NaN</td>\n",
              "      <td>NaN</td>\n",
              "      <td>NaN</td>\n",
              "      <td>NaN</td>\n",
              "      <td>NaN</td>\n",
              "      <td>NaN</td>\n",
              "      <td>NaN</td>\n",
              "      <td>NaN</td>\n",
              "      <td>NaN</td>\n",
              "      <td>NaN</td>\n",
              "      <td>NaN</td>\n",
              "      <td>NaN</td>\n",
              "      <td>NaN</td>\n",
              "      <td>NaN</td>\n",
              "    </tr>\n",
              "    <tr>\n",
              "      <th>8778105111</th>\n",
              "      <td>NaN</td>\n",
              "      <td>NaN</td>\n",
              "      <td>Nyumba 591</td>\n",
              "      <td>+256792172017</td>\n",
              "      <td>https://www.nyumba591.com/</td>\n",
              "      <td>POINT (32.58247 0.34012)</td>\n",
              "      <td>NaN</td>\n",
              "      <td>NaN</td>\n",
              "      <td>NaN</td>\n",
              "      <td>NaN</td>\n",
              "      <td>NaN</td>\n",
              "      <td>NaN</td>\n",
              "      <td>NaN</td>\n",
              "      <td>NaN</td>\n",
              "      <td>8HQJ+XW</td>\n",
              "      <td>New Mulago Gate Road</td>\n",
              "      <td>NaN</td>\n",
              "      <td>NaN</td>\n",
              "      <td>NaN</td>\n",
              "      <td>NaN</td>\n",
              "      <td>NaN</td>\n",
              "      <td>NaN</td>\n",
              "      <td>NaN</td>\n",
              "      <td>NaN</td>\n",
              "      <td>NaN</td>\n",
              "      <td>NaN</td>\n",
              "      <td>NaN</td>\n",
              "      <td>NaN</td>\n",
              "      <td>NaN</td>\n",
              "      <td>NaN</td>\n",
              "      <td>hostel</td>\n",
              "      <td>NaN</td>\n",
              "      <td>NaN</td>\n",
              "      <td>NaN</td>\n",
              "      <td>NaN</td>\n",
              "      <td>NaN</td>\n",
              "      <td>NaN</td>\n",
              "      <td>NaN</td>\n",
              "      <td>NaN</td>\n",
              "      <td>NaN</td>\n",
              "      <td>...</td>\n",
              "      <td>NaN</td>\n",
              "      <td>NaN</td>\n",
              "      <td>NaN</td>\n",
              "      <td>NaN</td>\n",
              "      <td>NaN</td>\n",
              "      <td>NaN</td>\n",
              "      <td>NaN</td>\n",
              "      <td>NaN</td>\n",
              "      <td>NaN</td>\n",
              "      <td>NaN</td>\n",
              "      <td>NaN</td>\n",
              "      <td>NaN</td>\n",
              "      <td>NaN</td>\n",
              "      <td>NaN</td>\n",
              "      <td>NaN</td>\n",
              "      <td>NaN</td>\n",
              "      <td>NaN</td>\n",
              "      <td>NaN</td>\n",
              "      <td>NaN</td>\n",
              "      <td>NaN</td>\n",
              "      <td>NaN</td>\n",
              "      <td>NaN</td>\n",
              "      <td>NaN</td>\n",
              "      <td>NaN</td>\n",
              "      <td>NaN</td>\n",
              "      <td>NaN</td>\n",
              "      <td>NaN</td>\n",
              "      <td>NaN</td>\n",
              "      <td>NaN</td>\n",
              "      <td>NaN</td>\n",
              "      <td>NaN</td>\n",
              "      <td>NaN</td>\n",
              "      <td>NaN</td>\n",
              "      <td>NaN</td>\n",
              "      <td>NaN</td>\n",
              "      <td>NaN</td>\n",
              "      <td>NaN</td>\n",
              "      <td>NaN</td>\n",
              "      <td>NaN</td>\n",
              "      <td>NaN</td>\n",
              "    </tr>\n",
              "  </tbody>\n",
              "</table>\n",
              "<p>14 rows × 109 columns</p>\n",
              "</div>"
            ],
            "text/plain": [
              "                       amenity cuisine  ... guest_house smoking\n",
              "osmid                                   ...                    \n",
              "3032234586                 NaN     NaN  ...         NaN     NaN\n",
              "4119308804  mobile_money_agent     NaN  ...         NaN     NaN\n",
              "4942954054                 NaN     NaN  ...         NaN     NaN\n",
              "5678162422                 NaN     NaN  ...         NaN     NaN\n",
              "7743212629                 NaN     NaN  ...         NaN     NaN\n",
              "8445011017                 NaN     NaN  ...         NaN     NaN\n",
              "8456545033                 NaN     NaN  ...         NaN     NaN\n",
              "8456545129                 NaN     NaN  ...         NaN     NaN\n",
              "8481722617                 NaN     NaN  ...         NaN     NaN\n",
              "8498971118                 NaN     NaN  ...         NaN     NaN\n",
              "8597526517                 NaN     NaN  ...         NaN     NaN\n",
              "8686698118                 NaN     NaN  ...         NaN     NaN\n",
              "8686698119                 NaN     NaN  ...         NaN     NaN\n",
              "8778105111                 NaN     NaN  ...         NaN     NaN\n",
              "\n",
              "[14 rows x 109 columns]"
            ]
          },
          "metadata": {},
          "execution_count": 67
        }
      ]
    },
    {
      "cell_type": "code",
      "metadata": {
        "id": "Mq3C2zlPiDpv",
        "colab": {
          "base_uri": "https://localhost:8080/"
        },
        "outputId": "6eebf29c-6148-45e0-863e-cd8d8ae69960"
      },
      "source": [
        "for i in tourist_places[\"geometry\"][\"way\"]:\n",
        "    print(\"latitude: {latitude}, longitude: {longitude}\".format(latitude=i.centroid.y, longitude=i.centroid.x))"
      ],
      "id": "Mq3C2zlPiDpv",
      "execution_count": 68,
      "outputs": [
        {
          "output_type": "stream",
          "name": "stdout",
          "text": [
            "latitude: 0.3376459150435436, longitude: 32.58405714602133\n",
            "latitude: 0.34778169999999997, longitude: 32.5727817\n"
          ]
        }
      ]
    },
    {
      "cell_type": "markdown",
      "metadata": {
        "id": "nDRT6Lr0iDpv"
      },
      "source": [
        "## Matching OpenStreetMap and NMIS Data\n",
        "\n",
        "<span class=\"editsection-bracket\" style=\"\">\\[</span><span\n",
        "class=\"editsection\"\n",
        "style=\"\"><a href=\"https://github.com/lawrennd/talks/edit/gh-pages/_data-science/includes/open-street-map-nigeria-nmis-exercise.md\" target=\"_blank\" onclick=\"ga('send', 'event', 'Edit Page', 'Edit', 'https://github.com/lawrennd/talks/edit/gh-pages/_data-science/includes/open-street-map-nigeria-nmis-exercise.md', 13);\">edit</a></span><span class=\"editsection-bracket\" style=\"\">\\]</span>\n",
        "\n",
        "In this exercise you will download the location of health centres from\n",
        "OpenStreetMap in Lagos and map them to the health centres you’ve already\n",
        "viewed in the NMIS data. This is a data validation exercise."
      ],
      "id": "nDRT6Lr0iDpv"
    },
    {
      "cell_type": "markdown",
      "metadata": {
        "id": "Se0EBrNfiDpv"
      },
      "source": [
        "### Exercise 3\n",
        "\n",
        "The latitude and longitude of Lagos in Nigeria are as follows:\n",
        "\n",
        "    place_name = \"Lagos, Nigeria\"\n",
        "\n",
        "    latitude = 6.5244\n",
        "    longitude = 3.3792\n",
        "\n",
        "In OpenStreetMap the key for a health center is `key:healthcare`.\n",
        "Download the POIs on OpenStreetMap that are listed as health centres and\n",
        "match them to POIs in the OpenStreetMap data to the health centres we\n",
        "find in the Nigerian NMIS data (`pods.datasets.nigeria_nmis`).\n",
        "\n",
        "You may use the distance between the centroid for the match, but you\n",
        "should also consider any additional checks you might wish to perform.\n",
        "\n",
        "Ensure your code is reusable, making it easy to integrate any necessary\n",
        "human feedback as required.\n",
        "\n",
        "You may need to vary the size of the bounding box to get matches. Use\n",
        "your reusable code to ensure that you obtain at least five matches\n",
        "between the data set (by increasing bounding box size).\n",
        "\n",
        "Now further demonstrate the reuse by performing the same analysis for\n",
        "Abuja.\n",
        "\n",
        "    place_name = \"Abuja, Nigeria\"\n",
        "\n",
        "    latitude = 9.05785 \n",
        "    longitude = 7.49508"
      ],
      "id": "Se0EBrNfiDpv"
    },
    {
      "cell_type": "code",
      "metadata": {
        "id": "tIqdqTetiDpw"
      },
      "source": [
        "# Write your answer to Exercise 3 here\n",
        "!pip install fuzzywuzzy\n",
        "from fuzzywuzzy import fuzz\n",
        "\n",
        "import pods\n",
        "\n",
        "nmis_data = pods.datasets.nigeria_nmis()['Y']"
      ],
      "id": "tIqdqTetiDpw",
      "execution_count": 228,
      "outputs": []
    },
    {
      "cell_type": "code",
      "metadata": {
        "colab": {
          "base_uri": "https://localhost:8080/"
        },
        "id": "25LjEjRS12Bs",
        "outputId": "5c6da0ef-a677-4dd9-a419-910e448b4b65"
      },
      "source": [
        "place_name = \"Lagos, Nigeria\"\n",
        "latitude = 6.5244\n",
        "longitude = 3.3792\n",
        "\n",
        "# place_name = \"Abuja, Nigeria\"\n",
        "# latitude = 9.05785 \n",
        "# longitude = 7.49508\n",
        "\n",
        "box_size = 10 # In km\n",
        "\n",
        "placestub = place_name.lower().replace(' ', '-').replace(',','')\n",
        "box_width = box_size/2.2*0.02 \n",
        "box_height = box_size/2.2*0.02\n",
        "north = latitude + box_height/2\n",
        "south = latitude - box_height/2\n",
        "west = longitude - box_width/2\n",
        "east = longitude + box_width/2\n",
        "tags = {\"healthcare\": True}\n",
        "pois = ox.geometries_from_bbox(north, south, east, west, tags)\n",
        "print(pois)"
      ],
      "id": "25LjEjRS12Bs",
      "execution_count": 265,
      "outputs": [
        {
          "output_type": "stream",
          "name": "stdout",
          "text": [
            "                                                                  geometry  ... building\n",
            "element_type osmid                                                          ...         \n",
            "node         5781786543                            POINT (3.37423 6.50628)  ...      NaN\n",
            "             7234360265                            POINT (3.38809 6.49010)  ...      NaN\n",
            "             8839228501                            POINT (3.39619 6.53503)  ...      NaN\n",
            "             8839228502                            POINT (3.39641 6.53173)  ...      NaN\n",
            "             8839282652                            POINT (3.39688 6.52909)  ...      NaN\n",
            "             8839282653                            POINT (3.39615 6.52828)  ...      NaN\n",
            "             8839346181                            POINT (3.39962 6.52710)  ...      NaN\n",
            "             8839346182                            POINT (3.39896 6.52434)  ...      NaN\n",
            "             8839346183                            POINT (3.39997 6.53398)  ...      NaN\n",
            "             8839346184                            POINT (3.39679 6.53348)  ...      NaN\n",
            "             8839346185                            POINT (3.39652 6.53178)  ...      NaN\n",
            "             8957031048                            POINT (3.37423 6.50628)  ...      NaN\n",
            "way          394119616   POLYGON ((3.38794 6.55422, 3.38702 6.55411, 3....  ...      NaN\n",
            "             525043228   POLYGON ((3.36818 6.53273, 3.36820 6.53216, 3....  ...      NaN\n",
            "             707234131   POLYGON ((3.39608 6.51515, 3.39607 6.51521, 3....  ...      NaN\n",
            "             707848334   POLYGON ((3.35204 6.52117, 3.35207 6.52142, 3....  ...      NaN\n",
            "             707941982   POLYGON ((3.35689 6.50800, 3.35711 6.50795, 3....  ...      NaN\n",
            "             760061885   LINESTRING (3.37556 6.51679, 3.37565 6.51675, ...  ...      NaN\n",
            "             775431197   POLYGON ((3.38458 6.48835, 3.38493 6.48758, 3....  ...      NaN\n",
            "             790442209   POLYGON ((3.36135 6.49571, 3.36110 6.49560, 3....  ...      NaN\n",
            "             795581891   POLYGON ((3.37096 6.51105, 3.37075 6.51153, 3....  ...      NaN\n",
            "             803289541   POLYGON ((3.37186 6.50902, 3.37107 6.51090, 3....  ...      NaN\n",
            "             803294342   POLYGON ((3.37266 6.51033, 3.37339 6.51045, 3....  ...      NaN\n",
            "             803347476   POLYGON ((3.38031 6.52904, 3.38020 6.52903, 3....  ...      NaN\n",
            "             827077205   POLYGON ((3.34005 6.55655, 3.34004 6.55641, 3....  ...      yes\n",
            "\n",
            "[25 rows x 20 columns]\n"
          ]
        },
        {
          "output_type": "stream",
          "name": "stderr",
          "text": [
            "/usr/local/lib/python3.7/dist-packages/osmnx/utils_geo.py:335: ShapelyDeprecationWarning: Iteration over multi-part geometries is deprecated and will be removed in Shapely 2.0. Use the `geoms` property to access the constituent parts of a multi-part geometry.\n",
            "  for polygon in geometry:\n",
            "/usr/local/lib/python3.7/dist-packages/osmnx/utils_geo.py:426: ShapelyDeprecationWarning: Iteration over multi-part geometries is deprecated and will be removed in Shapely 2.0. Use the `geoms` property to access the constituent parts of a multi-part geometry.\n",
            "  for poly in multipoly:\n"
          ]
        }
      ]
    },
    {
      "cell_type": "code",
      "metadata": {
        "id": "x7j8tSmmz4x-"
      },
      "source": [
        "healthcare_places = pois[pois.healthcare.notnull()]\n",
        "# print(healthcare_places[['name','geometry']])\n",
        "# print(healthcare_places.columns)\n",
        "geometries = healthcare_places['geometry']\n",
        "longitudes = []\n",
        "latitudes = []\n",
        "for geometry in geometries:\n",
        "  latitudes.append(geometry.centroid.y)\n",
        "  longitudes.append(geometry.centroid.x)\n",
        "healthcare_places['latitude'] = latitudes\n",
        "healthcare_places['longitude'] = longitudes\n",
        "# print(healthcare_places[['name', 'latitude', 'longitude']])"
      ],
      "id": "x7j8tSmmz4x-",
      "execution_count": 266,
      "outputs": []
    },
    {
      "cell_type": "code",
      "metadata": {
        "id": "RUmJJoah1BJK"
      },
      "source": [
        "# print(nmis_data[['facility_name', 'latitude', 'longitude']])\n",
        "filtered_nmis_data = nmis_data.loc[(nmis_data['latitude'] >= south) & (nmis_data['latitude'] <= north) & (nmis_data['longitude'] >= west) & (nmis_data['longitude'] <= east)]"
      ],
      "id": "RUmJJoah1BJK",
      "execution_count": 267,
      "outputs": []
    },
    {
      "cell_type": "code",
      "metadata": {
        "colab": {
          "base_uri": "https://localhost:8080/"
        },
        "id": "WD6XLmo169HH",
        "outputId": "d35d81b1-5ad9-42fa-d85f-48d8b8386469"
      },
      "source": [
        "print(filtered_nmis_data[['facility_name', 'latitude', 'longitude']])\n",
        "print(healthcare_places[['name', 'latitude', 'longitude']])"
      ],
      "id": "WD6XLmo169HH",
      "execution_count": 268,
      "outputs": [
        {
          "output_type": "stream",
          "name": "stdout",
          "text": [
            "                                           facility_name  latitude  longitude\n",
            "278                                          Akerele Phc  6.505716   3.354829\n",
            "296                                         EKO HOSPITAL  6.505384   3.354479\n",
            "1413                      Regina mundi catholic hospital  6.527256   3.355761\n",
            "1416                                  Crusaints Hospital  6.542475   3.359849\n",
            "1417                      Bridie mends memorial hospital  6.521136   3.364899\n",
            "...                                                  ...       ...        ...\n",
            "33553                Wright Memorial Primary Health Care  6.539784   3.371645\n",
            "33669                                  Orisegun Hospital  6.524929   3.349589\n",
            "33791                                   ITIRE IJESHA PHC  6.509875   3.337169\n",
            "33912  Randle General Hospital marternity And Child c...  6.504255   3.359474\n",
            "34128                           MARANATHA MEDICAL CENTER  6.529215   3.380369\n",
            "\n",
            "[346 rows x 3 columns]\n",
            "                                                                 name  ...  longitude\n",
            "element_type osmid                                                     ...           \n",
            "node         5781786543                                           NaN  ...   3.374233\n",
            "             7234360265                                      Pharmacy  ...   3.388088\n",
            "             8839228501                 Asogbon Pry Healthcare Centre  ...   3.396190\n",
            "             8839228502                          Shalom Health Center  ...   3.396414\n",
            "             8839282652                     Uche Kendu Medicine store  ...   3.396879\n",
            "             8839282653                 Akwukwe Patent Medicine store  ...   3.396152\n",
            "             8839346181                    Adesak tradomedical Centre  ...   3.399615\n",
            "             8839346182            Noah Art Traditional Health Centre  ...   3.398959\n",
            "             8839346183        Toluwalope Tradomedical maternity home  ...   3.399974\n",
            "             8839346184   Ojasogbon Natural centre and maternity home  ...   3.396786\n",
            "             8839346185                          Shalom Health Center  ...   3.396520\n",
            "             8957031048                           HealthPlus Pharmacy  ...   3.374233\n",
            "way          394119616                       Gbagada General Hospital  ...   3.387045\n",
            "             525043228           National Orthopaedic Hospital Igbobi  ...   3.370722\n",
            "             707234131                          UNILAG Medical Centre  ...   3.396577\n",
            "             707848334             Lagos University Teaching Hospital  ...   3.355313\n",
            "             707941982                        Randle General Hospital  ...   3.357408\n",
            "             760061885                           New science Buidling  ...   3.375526\n",
            "             775431197                      Ebute Metta Health Centre  ...   3.384917\n",
            "             790442209                  Parklande Specialist Hospital  ...   3.361235\n",
            "             795581891              Lagos Emergency Operations Center  ...   3.371034\n",
            "             803289541                Lagos Health Center Harvey Road  ...   3.373412\n",
            "             803294342              Federal Psychiatric Hospital Yaba  ...   3.373191\n",
            "             803347476                       MARANATHA MEDICAL CENTER  ...   3.380250\n",
            "             827077205   De Joseph Medical Convalescent Health Centre  ...   3.340152\n",
            "\n",
            "[25 rows x 3 columns]\n"
          ]
        }
      ]
    },
    {
      "cell_type": "code",
      "metadata": {
        "colab": {
          "base_uri": "https://localhost:8080/"
        },
        "id": "z9Pjym2Z9I4v",
        "outputId": "2c57b8af-aefd-48fc-c855-eb820889047c"
      },
      "source": [
        "def preformat(name):\n",
        "  name = str(name).lower()\n",
        "  name = name.replace('phc', 'P H C')\n",
        "  name = name.replace('primary', 'P')\n",
        "  name = name.replace('health', 'H')\n",
        "  name = name.replace('centre', 'C')\n",
        "  name = name.replace('center', 'C')\n",
        "  name = name.replace('care', 'CA')\n",
        "  name = name.replace('care', 'CA')\n",
        "  name = name.replace('medical', 'M')\n",
        "  name = name.replace('hospital', 'HO')\n",
        "  name = name.replace('clinic', 'CL')\n",
        "  name = name.replace('post', 'PO')\n",
        "  return name\n",
        "\n",
        "allowed_mismatch = 0.1 #km\n",
        "mismatch_box_height = allowed_mismatch/2.2*0.02\n",
        "mismatch_box_width = allowed_mismatch/2.2*0.02\n",
        "matchList = []\n",
        "for nmis_index, nmis_point in filtered_nmis_data[['facility_name', 'latitude', 'longitude']].iterrows():\n",
        "  for heal_index, heal_point in healthcare_places[['name', 'latitude', 'longitude']].iterrows():\n",
        "    if abs(nmis_point['latitude']-heal_point['latitude'])<mismatch_box_height and abs(nmis_point['longitude']-heal_point['longitude'])<mismatch_box_width:\n",
        "      print(nmis_point['facility_name'], (abs(nmis_point['latitude']-heal_point['latitude']), abs(nmis_point['longitude']-heal_point['longitude'])),heal_point['name'])\n",
        "      distance = (abs(nmis_point['latitude']-heal_point['latitude'])**2 + abs(nmis_point['longitude']-heal_point['longitude'])**2)**0.5\n",
        "      print(preformat(nmis_point['facility_name']), preformat(heal_point['name']))\n",
        "      fuzz_ratio = fuzz.ratio(preformat(nmis_point['facility_name']), preformat(heal_point['name']))/100\n",
        "      print('Name Similarity: ', fuzz_ratio, 'Distance: ', distance/0.02*2.2)\n",
        "      if fuzz_ratio> 2/3:\n",
        "        matchList.append((nmis_point, heal_point))\n",
        "\n",
        "print(matchList)"
      ],
      "id": "z9Pjym2Z9I4v",
      "execution_count": 269,
      "outputs": [
        {
          "output_type": "stream",
          "name": "stdout",
          "text": [
            "SOLBI CONTINENTAL HOSPITAL (0.000518314381557694, 0.00025085717707762356) MARANATHA MEDICAL CENTER\n",
            "solbi continental HO maranatha M C\n",
            "Name Similarity:  0.12 Distance:  0.06334119804039673\n",
            "ASHOGBON PHC (6.984000000009871e-05, 9.510000000023666e-05) Asogbon Pry Healthcare Centre\n",
            "ashogbon P H C asogbon pry HCA C\n",
            "Name Similarity:  0.77 Distance:  0.012978897902391848\n",
            "Nordica Fertility center (0.0005213199999998253, 6.498999999982047e-05) nan\n",
            "nordica fertility C nan\n",
            "Name Similarity:  0.18 Distance:  0.05778908836664162\n",
            "Nordica Fertility center (0.0005213199999998253, 6.498999999982047e-05) HealthPlus Pharmacy\n",
            "nordica fertility C Hplus pharmacy\n",
            "Name Similarity:  0.18 Distance:  0.05778908836664162\n",
            "GBAGADA GENERAL HOSPITAL (0.00031219992057085477, 0.000750817181569996) Gbagada General Hospital\n",
            "gbagada general HO gbagada general HO\n",
            "Name Similarity:  1.0 Distance:  0.08944530334006612\n",
            "Parklande specialist hospital (0.000725959809269483, 0.00025941189720679603) Parklande Specialist Hospital\n",
            "parklande specialist HO parklande specialist HO\n",
            "Name Similarity:  1.0 Distance:  0.08480080980010074\n",
            "Solbi Continental Hospital (0.0005128843815578321, 0.0003343671770776879) MARANATHA MEDICAL CENTER\n",
            "solbi continental HO maranatha M C\n",
            "Name Similarity:  0.12 Distance:  0.0673476559000358\n",
            "Maranatha Medical centre (1.0044381557605675e-05, 0.00017174717707790776) MARANATHA MEDICAL CENTER\n",
            "maranatha M C maranatha M C\n",
            "Name Similarity:  1.0 Distance:  0.018924470599326424\n",
            "Randle General Hospital (0.0003276256546413947, 0.00022324417041286182) Randle General Hospital\n",
            "randle general HO randle general HO\n",
            "Name Similarity:  1.0 Distance:  0.04361004475290762\n",
            "Alaka Community (0.00041606019073014977, 0.0006814981027929434) Parklande Specialist Hospital\n",
            "alaka community parklande specialist HO\n",
            "Name Similarity:  0.16 Distance:  0.08783110799535414\n",
            "MARANATHA MEDICAL CENTER (1.491438155731828e-05, 0.00011909717707814238) MARANATHA MEDICAL CENTER\n",
            "maranatha M C maranatha M C\n",
            "Name Similarity:  1.0 Distance:  0.013203013823334359\n",
            "[(facility_name    ASHOGBON PHC\n",
            "latitude              6.53496\n",
            "longitude             3.39609\n",
            "Name: 3962, dtype: object, name         Asogbon Pry Healthcare Centre\n",
            "latitude                           6.53503\n",
            "longitude                          3.39619\n",
            "Name: (node, 8839228501), dtype: object), (facility_name    GBAGADA GENERAL HOSPITAL\n",
            "latitude                          6.55213\n",
            "longitude                          3.3878\n",
            "Name: 5442, dtype: object, name         Gbagada General Hospital\n",
            "latitude                      6.55244\n",
            "longitude                     3.38705\n",
            "Name: (way, 394119616), dtype: object), (facility_name    Parklande specialist hospital\n",
            "latitude                               6.49631\n",
            "longitude                              3.36098\n",
            "Name: 8292, dtype: object, name         Parklande Specialist Hospital\n",
            "latitude                           6.49559\n",
            "longitude                          3.36124\n",
            "Name: (way, 790442209), dtype: object), (facility_name    Maranatha Medical centre\n",
            "latitude                          6.52921\n",
            "longitude                         3.38042\n",
            "Name: 15283, dtype: object, name         MARANATHA MEDICAL CENTER\n",
            "latitude                       6.5292\n",
            "longitude                     3.38025\n",
            "Name: (way, 803347476), dtype: object), (facility_name    Randle General Hospital\n",
            "latitude                         6.50859\n",
            "longitude                        3.35718\n",
            "Name: 15544, dtype: object, name         Randle General Hospital\n",
            "latitude                     6.50826\n",
            "longitude                    3.35741\n",
            "Name: (way, 707941982), dtype: object), (facility_name    MARANATHA MEDICAL CENTER\n",
            "latitude                          6.52922\n",
            "longitude                         3.38037\n",
            "Name: 34128, dtype: object, name         MARANATHA MEDICAL CENTER\n",
            "latitude                       6.5292\n",
            "longitude                     3.38025\n",
            "Name: (way, 803347476), dtype: object)]\n"
          ]
        }
      ]
    },
    {
      "cell_type": "code",
      "metadata": {
        "colab": {
          "base_uri": "https://localhost:8080/"
        },
        "id": "mYACfpZuJcOo",
        "outputId": "56d8c187-bcca-43f7-90b0-14b1f409eb8f"
      },
      "source": [
        "for (nmis_index, heal_index) in matchList:\n",
        "  print(nmis_index, heal_index)\n",
        "  print()\n",
        "  print()"
      ],
      "id": "mYACfpZuJcOo",
      "execution_count": 270,
      "outputs": [
        {
          "output_type": "stream",
          "name": "stdout",
          "text": [
            "facility_name    ASHOGBON PHC\n",
            "latitude              6.53496\n",
            "longitude             3.39609\n",
            "Name: 3962, dtype: object name         Asogbon Pry Healthcare Centre\n",
            "latitude                           6.53503\n",
            "longitude                          3.39619\n",
            "Name: (node, 8839228501), dtype: object\n",
            "\n",
            "\n",
            "facility_name    GBAGADA GENERAL HOSPITAL\n",
            "latitude                          6.55213\n",
            "longitude                          3.3878\n",
            "Name: 5442, dtype: object name         Gbagada General Hospital\n",
            "latitude                      6.55244\n",
            "longitude                     3.38705\n",
            "Name: (way, 394119616), dtype: object\n",
            "\n",
            "\n",
            "facility_name    Parklande specialist hospital\n",
            "latitude                               6.49631\n",
            "longitude                              3.36098\n",
            "Name: 8292, dtype: object name         Parklande Specialist Hospital\n",
            "latitude                           6.49559\n",
            "longitude                          3.36124\n",
            "Name: (way, 790442209), dtype: object\n",
            "\n",
            "\n",
            "facility_name    Maranatha Medical centre\n",
            "latitude                          6.52921\n",
            "longitude                         3.38042\n",
            "Name: 15283, dtype: object name         MARANATHA MEDICAL CENTER\n",
            "latitude                       6.5292\n",
            "longitude                     3.38025\n",
            "Name: (way, 803347476), dtype: object\n",
            "\n",
            "\n",
            "facility_name    Randle General Hospital\n",
            "latitude                         6.50859\n",
            "longitude                        3.35718\n",
            "Name: 15544, dtype: object name         Randle General Hospital\n",
            "latitude                     6.50826\n",
            "longitude                    3.35741\n",
            "Name: (way, 707941982), dtype: object\n",
            "\n",
            "\n",
            "facility_name    MARANATHA MEDICAL CENTER\n",
            "latitude                          6.52922\n",
            "longitude                         3.38037\n",
            "Name: 34128, dtype: object name         MARANATHA MEDICAL CENTER\n",
            "latitude                       6.5292\n",
            "longitude                     3.38025\n",
            "Name: (way, 803347476), dtype: object\n",
            "\n",
            "\n"
          ]
        }
      ]
    },
    {
      "cell_type": "markdown",
      "metadata": {
        "id": "6AsW7iSgiDpw"
      },
      "source": [
        "## Thanks!\n",
        "\n",
        "For more information on these subjects and more you might want to check\n",
        "the following resources.\n",
        "\n",
        "-   twitter: [@lawrennd](https://twitter.com/lawrennd)\n",
        "-   podcast: [The Talking Machines](http://thetalkingmachines.com)\n",
        "-   newspaper: [Guardian Profile\n",
        "    Page](http://www.theguardian.com/profile/neil-lawrence)\n",
        "-   blog:\n",
        "    [http://inverseprobability.com](http://inverseprobability.com/blog.html)"
      ],
      "id": "6AsW7iSgiDpw"
    },
    {
      "cell_type": "markdown",
      "metadata": {
        "id": "b3tHSvhSiDpw"
      },
      "source": [
        "## References"
      ],
      "id": "b3tHSvhSiDpw"
    },
    {
      "cell_type": "markdown",
      "metadata": {
        "id": "SH7NZEGaiDpw"
      },
      "source": [
        "Hirst, T., 2021. Supporting playful exploration of data clustering and\n",
        "classification using datadraw.\n",
        "\n",
        "Hirst, T., 2016. Simple interactive view controls for pandas DataFrames\n",
        "using IPython widgets in jupyter notebooks."
      ],
      "id": "SH7NZEGaiDpw"
    }
  ]
}